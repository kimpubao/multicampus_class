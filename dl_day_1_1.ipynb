{
  "nbformat": 4,
  "nbformat_minor": 0,
  "metadata": {
    "colab": {
      "provenance": []
    },
    "kernelspec": {
      "name": "python3",
      "display_name": "Python 3"
    },
    "language_info": {
      "name": "python"
    }
  },
  "cells": [
    {
      "cell_type": "code",
      "source": [
        "import tensorflow as tf\n",
        "from tensorflow.keras.models import Sequential\n",
        "from tensorflow.keras.layers import Dense\n",
        "import numpy as np\n",
        "\n",
        "# 데이터 로드\n",
        "data = np.loadtxt('/content/drive/MyDrive/dl_data/data/data-01-test-score.csv', delimiter=',')\n",
        "x_data = data[:, 0:3]\n",
        "y_data = data[:, 3]\n",
        "\n",
        "# 모델 정의\n",
        "model = Sequential()\n",
        "model.add(Dense(32,input_dim=3,activation='relu'))\n",
        "model.add(Dense(8,activation='relu'))\n",
        "model.add(Dense(1,activation='linear'))\n",
        "model.compile(optimizer='adam', loss='mse')\n",
        "\n",
        "# 모델 훈련\n",
        "model.fit(x_data, y_data, epochs=1000, verbose=0)\n",
        "\n",
        "# 예측할 데이터\n",
        "test_data = np.array([[90, 90, 90],\n",
        "                      [80, 85, 80],\n",
        "                      [93, 92, 70]])\n",
        "\n",
        "# 예측\n",
        "predictions = model.predict(test_data)\n",
        "\n",
        "predictions"
      ],
      "metadata": {
        "colab": {
          "base_uri": "https://localhost:8080/"
        },
        "id": "P8Y7YsBRDy6J",
        "outputId": "12915d94-98b4-48b8-db41-3e0123ec8a98"
      },
      "execution_count": 39,
      "outputs": [
        {
          "output_type": "stream",
          "name": "stdout",
          "text": [
            "1/1 [==============================] - 0s 62ms/step\n"
          ]
        },
        {
          "output_type": "execute_result",
          "data": {
            "text/plain": [
              "array([[181.44377],\n",
              "       [163.78384],\n",
              "       [166.10236]], dtype=float32)"
            ]
          },
          "metadata": {},
          "execution_count": 39
        }
      ]
    },
    {
      "cell_type": "code",
      "source": [],
      "metadata": {
        "id": "qQ6-6lhIGFsn"
      },
      "execution_count": 13,
      "outputs": []
    },
    {
      "cell_type": "code",
      "source": [
        "import numpy as np\n",
        "from sklearn.linear_model import LinearRegression\n",
        "\n",
        "# 데이터 로드\n",
        "data = np.loadtxt('/content/drive/MyDrive/dl_data/data/data-01-test-score.csv', delimiter=',')\n",
        "x_data = data[:, 0:3]\n",
        "y_data = data[:, 3]\n",
        "\n",
        "# 모델 정의 및 훈련\n",
        "model = LinearRegression()\n",
        "model.fit(x_data, y_data)\n",
        "\n",
        "# 예측할 데이터\n",
        "test_data = np.array([[90, 90, 90],\n",
        "                      [80, 85, 80],\n",
        "                      [93, 92, 70]])\n",
        "\n",
        "# 예측\n",
        "predictions = model.predict(test_data)\n",
        "\n",
        "predictions"
      ],
      "metadata": {
        "colab": {
          "base_uri": "https://localhost:8080/"
        },
        "id": "74buOJeOGUre",
        "outputId": "b1ea11d1-0654-4e62-d97c-cc25fc71cacc"
      },
      "execution_count": 40,
      "outputs": [
        {
          "output_type": "execute_result",
          "data": {
            "text/plain": [
              "array([181.24269245, 163.26113704, 158.77768406])"
            ]
          },
          "metadata": {},
          "execution_count": 40
        }
      ]
    },
    {
      "cell_type": "code",
      "source": [],
      "metadata": {
        "id": "q38BAFWXHlXQ"
      },
      "execution_count": 38,
      "outputs": []
    },
    {
      "cell_type": "code",
      "source": [],
      "metadata": {
        "id": "Mjzr9M4JOQMs"
      },
      "execution_count": null,
      "outputs": []
    }
  ]
}