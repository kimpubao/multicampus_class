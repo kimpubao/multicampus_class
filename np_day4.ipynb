{
 "cells": [
  {
   "cell_type": "code",
   "execution_count": 1,
   "id": "a559fb03-f9d3-47f7-95e7-c58757fedb1a",
   "metadata": {},
   "outputs": [],
   "source": [
    "import numpy as np"
   ]
  },
  {
   "cell_type": "code",
   "execution_count": 2,
   "id": "9fc65023-f3b2-4dde-9cd8-18b0479e8d36",
   "metadata": {},
   "outputs": [
    {
     "data": {
      "text/plain": [
       "array([0, 1, 2, 3, 4])"
      ]
     },
     "execution_count": 2,
     "metadata": {},
     "output_type": "execute_result"
    }
   ],
   "source": [
    "arr= np.arange(5)\n",
    "arr"
   ]
  },
  {
   "cell_type": "code",
   "execution_count": 4,
   "id": "eed0a02e-c95b-4f60-91d9-9fb4db05da65",
   "metadata": {},
   "outputs": [
    {
     "data": {
      "text/plain": [
       "array([4, 3, 2, 1, 0])"
      ]
     },
     "execution_count": 4,
     "metadata": {},
     "output_type": "execute_result"
    }
   ],
   "source": [
    "# 역순 출력\n",
    "arr[::-1]"
   ]
  },
  {
   "cell_type": "code",
   "execution_count": 5,
   "id": "d6835ed9-81b5-4a19-b204-c69ee553bb4b",
   "metadata": {},
   "outputs": [
    {
     "data": {
      "text/plain": [
       "array([4, 3, 2, 1, 0])"
      ]
     },
     "execution_count": 5,
     "metadata": {},
     "output_type": "execute_result"
    }
   ],
   "source": [
    "# flip 함수 : 역순으로 출력\n",
    "np.flip(arr)"
   ]
  },
  {
   "cell_type": "code",
   "execution_count": 9,
   "id": "6b6d0b69-dbb5-401a-b671-1bc7702ff876",
   "metadata": {},
   "outputs": [
    {
     "data": {
      "text/plain": [
       "array([[ 0,  1,  2,  3,  4],\n",
       "       [ 5,  6,  7,  8,  9],\n",
       "       [10, 11, 12, 13, 14],\n",
       "       [15, 16, 17, 18, 19],\n",
       "       [20, 21, 22, 23, 24],\n",
       "       [25, 26, 27, 28, 29]])"
      ]
     },
     "execution_count": 9,
     "metadata": {},
     "output_type": "execute_result"
    }
   ],
   "source": [
    "arr2d = np.arange(30).reshape(6,5)\n",
    "arr2d"
   ]
  },
  {
   "cell_type": "code",
   "execution_count": 10,
   "id": "1e91e423-b82e-4059-a123-2636026bdfe2",
   "metadata": {},
   "outputs": [
    {
     "data": {
      "text/plain": [
       "array([[25, 26, 27, 28, 29],\n",
       "       [20, 21, 22, 23, 24],\n",
       "       [15, 16, 17, 18, 19],\n",
       "       [10, 11, 12, 13, 14],\n",
       "       [ 5,  6,  7,  8,  9],\n",
       "       [ 0,  1,  2,  3,  4]])"
      ]
     },
     "execution_count": 10,
     "metadata": {},
     "output_type": "execute_result"
    }
   ],
   "source": [
    "# 2차원 행만 뒤집짐\n",
    "arr2d[::-1]"
   ]
  },
  {
   "cell_type": "code",
   "execution_count": 12,
   "id": "67f98cf7-608a-47a2-b0c8-6d593024e929",
   "metadata": {},
   "outputs": [
    {
     "data": {
      "text/plain": [
       "array([[29, 28, 27, 26, 25],\n",
       "       [24, 23, 22, 21, 20],\n",
       "       [19, 18, 17, 16, 15],\n",
       "       [14, 13, 12, 11, 10],\n",
       "       [ 9,  8,  7,  6,  5],\n",
       "       [ 4,  3,  2,  1,  0]])"
      ]
     },
     "execution_count": 12,
     "metadata": {},
     "output_type": "execute_result"
    }
   ],
   "source": [
    "# 2차원 flip\n",
    "np.flip(arr2d) #default(axis 지정 안함) : 행과 열 방향으로 뒤집기"
   ]
  },
  {
   "cell_type": "code",
   "execution_count": 13,
   "id": "2bea205d-23ee-45b0-bd87-c9517a5f6e59",
   "metadata": {},
   "outputs": [
    {
     "data": {
      "text/plain": [
       "array([[ 4,  3,  2,  1,  0],\n",
       "       [ 9,  8,  7,  6,  5],\n",
       "       [14, 13, 12, 11, 10],\n",
       "       [19, 18, 17, 16, 15],\n",
       "       [24, 23, 22, 21, 20],\n",
       "       [29, 28, 27, 26, 25]])"
      ]
     },
     "execution_count": 13,
     "metadata": {},
     "output_type": "execute_result"
    }
   ],
   "source": [
    "# 열뒤집기\n",
    "arr2d[:,::-1]"
   ]
  },
  {
   "cell_type": "code",
   "execution_count": 14,
   "id": "0a791a7a-eb15-4b6f-943a-7e2a8b6c03bb",
   "metadata": {},
   "outputs": [
    {
     "data": {
      "text/plain": [
       "array([[29, 28, 27, 26, 25],\n",
       "       [24, 23, 22, 21, 20],\n",
       "       [19, 18, 17, 16, 15],\n",
       "       [14, 13, 12, 11, 10],\n",
       "       [ 9,  8,  7,  6,  5],\n",
       "       [ 4,  3,  2,  1,  0]])"
      ]
     },
     "execution_count": 14,
     "metadata": {},
     "output_type": "execute_result"
    }
   ],
   "source": [
    "# 열과 행 뒤집기\n",
    "arr2d[:,::-1][::-1]"
   ]
  },
  {
   "cell_type": "code",
   "execution_count": 15,
   "id": "bb035cab-bc68-4666-b562-8fa6d4c34a11",
   "metadata": {},
   "outputs": [
    {
     "data": {
      "text/plain": [
       "array([[ 0,  1,  2,  3,  4],\n",
       "       [ 5,  6,  7,  8,  9],\n",
       "       [10, 11, 12, 13, 14],\n",
       "       [15, 16, 17, 18, 19],\n",
       "       [20, 21, 22, 23, 24],\n",
       "       [25, 26, 27, 28, 29]])"
      ]
     },
     "execution_count": 15,
     "metadata": {},
     "output_type": "execute_result"
    }
   ],
   "source": [
    "arr2d"
   ]
  },
  {
   "cell_type": "code",
   "execution_count": 16,
   "id": "c452610b-408b-4ac4-bf5b-d966649e75c4",
   "metadata": {},
   "outputs": [
    {
     "name": "stderr",
     "output_type": "stream",
     "text": [
      "/Library/Frameworks/Python.framework/Versions/3.12/lib/python3.12/site-packages/IPython/core/inputtransformer2.py:627: UserWarning: `make_tokens_by_line` received a list of lines which do not have lineending markers ('\\n', '\\r', '\\r\\n', '\\x0b', '\\x0c'), behavior will be unspecified\n",
      "  tokens_by_line = make_tokens_by_line(lines)\n"
     ]
    },
    {
     "data": {
      "text/plain": [
       "array([[25, 26, 27, 28, 29],\n",
       "       [20, 21, 22, 23, 24],\n",
       "       [15, 16, 17, 18, 19],\n",
       "       [10, 11, 12, 13, 14],\n",
       "       [ 5,  6,  7,  8,  9],\n",
       "       [ 0,  1,  2,  3,  4]])"
      ]
     },
     "execution_count": 16,
     "metadata": {},
     "output_type": "execute_result"
    }
   ],
   "source": [
    "np.flip(arr2d,axis = 0) # axis(\u001d",
    "축) / axes(모든 축)"
   ]
  },
  {
   "cell_type": "code",
   "execution_count": 18,
   "id": "b65b31e6-a7e3-47fb-831e-f284d4e86c8a",
   "metadata": {},
   "outputs": [
    {
     "data": {
      "text/plain": [
       "array([[ 4,  3,  2,  1,  0],\n",
       "       [ 9,  8,  7,  6,  5],\n",
       "       [14, 13, 12, 11, 10],\n",
       "       [19, 18, 17, 16, 15],\n",
       "       [24, 23, 22, 21, 20],\n",
       "       [29, 28, 27, 26, 25]])"
      ]
     },
     "execution_count": 18,
     "metadata": {},
     "output_type": "execute_result"
    }
   ],
   "source": [
    "np.flip(arr2d, axis = 1) # axis(\u001d",
    "축) / axes(모든 축) / axis=1(열 방향 뒤집기)"
   ]
  },
  {
   "cell_type": "code",
   "execution_count": 19,
   "id": "708e817a-fc2d-4327-8a1f-2938f9211440",
   "metadata": {},
   "outputs": [
    {
     "data": {
      "text/plain": [
       "array([[ 4,  3,  2,  1,  0],\n",
       "       [ 9,  8,  7,  6,  5],\n",
       "       [14, 13, 12, 11, 10],\n",
       "       [19, 18, 17, 16, 15],\n",
       "       [24, 23, 22, 21, 20],\n",
       "       [29, 28, 27, 26, 25]])"
      ]
     },
     "execution_count": 19,
     "metadata": {},
     "output_type": "execute_result"
    }
   ],
   "source": [
    "arr2d[:,::-1]"
   ]
  },
  {
   "cell_type": "code",
   "execution_count": 20,
   "id": "002a8d45-c60d-4e14-985d-b1f6cdd895bf",
   "metadata": {},
   "outputs": [
    {
     "data": {
      "text/plain": [
       "array([[ 4,  3,  2,  1,  0],\n",
       "       [ 9,  8,  7,  6,  5],\n",
       "       [14, 13, 12, 11, 10],\n",
       "       [19, 18, 17, 16, 15],\n",
       "       [24, 23, 22, 21, 20],\n",
       "       [29, 28, 27, 26, 25]])"
      ]
     },
     "execution_count": 20,
     "metadata": {},
     "output_type": "execute_result"
    }
   ],
   "source": [
    "np.flip(arr2d, axis=1)"
   ]
  },
  {
   "cell_type": "code",
   "execution_count": 26,
   "id": "6ae936a6-15cd-48a3-b145-49f7e9ae4a2b",
   "metadata": {},
   "outputs": [
    {
     "data": {
      "text/plain": [
       "array([[0., 0., 0., 1., 1.],\n",
       "       [0., 0., 0., 1., 1.],\n",
       "       [0., 0., 0., 1., 1.]])"
      ]
     },
     "execution_count": 26,
     "metadata": {},
     "output_type": "execute_result"
    }
   ],
   "source": [
    "# 5월 8일 문제 중\n",
    "arr1 = np.zeros([3,3])\n",
    "arr2 = np.ones([3,2])\n",
    "arr12 = np.hstack([arr1,arr2])\n",
    "arr12"
   ]
  },
  {
   "cell_type": "code",
   "execution_count": 29,
   "id": "535eae20-8807-4048-b0cc-520458696784",
   "metadata": {},
   "outputs": [
    {
     "data": {
      "text/plain": [
       "array([[ 10,  20,  30,  40,  50],\n",
       "       [ 60,  70,  80,  90, 100],\n",
       "       [110, 120, 130, 140, 150]])"
      ]
     },
     "execution_count": 29,
     "metadata": {},
     "output_type": "execute_result"
    }
   ],
   "source": [
    "arr3 = np.arange(10,151,10).reshape(3,-1)\n",
    "arr3"
   ]
  },
  {
   "cell_type": "code",
   "execution_count": 32,
   "id": "c85177bd-8f60-458e-a4c8-dc2753bd7995",
   "metadata": {},
   "outputs": [
    {
     "data": {
      "text/plain": [
       "array([[  0.,   0.,   0.,   1.,   1.],\n",
       "       [  0.,   0.,   0.,   1.,   1.],\n",
       "       [  0.,   0.,   0.,   1.,   1.],\n",
       "       [ 10.,  20.,  30.,  40.,  50.],\n",
       "       [ 60.,  70.,  80.,  90., 100.],\n",
       "       [110., 120., 130., 140., 150.]])"
      ]
     },
     "execution_count": 32,
     "metadata": {},
     "output_type": "execute_result"
    }
   ],
   "source": [
    "arr_v = np.vstack([arr12,arr3])\n",
    "arr_v"
   ]
  },
  {
   "cell_type": "code",
   "execution_count": 33,
   "id": "7a4bfaaf-aaea-48ee-9f12-9344334c7c5b",
   "metadata": {},
   "outputs": [
    {
     "data": {
      "text/plain": [
       "array([[  0.,   0.,   0.,   1.,   1.],\n",
       "       [  0.,   0.,   0.,   1.,   1.],\n",
       "       [  0.,   0.,   0.,   1.,   1.],\n",
       "       [ 10.,  20.,  30.,  40.,  50.],\n",
       "       [ 60.,  70.,  80.,  90., 100.],\n",
       "       [110., 120., 130., 140., 150.],\n",
       "       [  0.,   0.,   0.,   1.,   1.],\n",
       "       [  0.,   0.,   0.,   1.,   1.],\n",
       "       [  0.,   0.,   0.,   1.,   1.],\n",
       "       [ 10.,  20.,  30.,  40.,  50.],\n",
       "       [ 60.,  70.,  80.,  90., 100.],\n",
       "       [110., 120., 130., 140., 150.]])"
      ]
     },
     "execution_count": 33,
     "metadata": {},
     "output_type": "execute_result"
    }
   ],
   "source": [
    "np.vstack([arr_v,arr_v])"
   ]
  },
  {
   "cell_type": "code",
   "execution_count": 35,
   "id": "331ceded-d56a-435f-899e-7ec5b568db31",
   "metadata": {},
   "outputs": [
    {
     "data": {
      "text/plain": [
       "array([0., 0., 0., 1., 1.])"
      ]
     },
     "execution_count": 35,
     "metadata": {},
     "output_type": "execute_result"
    }
   ],
   "source": [
    "# tile 함수 사용하여 풀이\n",
    "arr1=np.zeros([3])\n",
    "arr2=np.ones([2])\n",
    "arr12=np.hstack([arr1,arr2])\n",
    "arr12"
   ]
  },
  {
   "cell_type": "code",
   "execution_count": 36,
   "id": "5e5fb000-f9a8-459b-95ae-96aafd9ca06c",
   "metadata": {},
   "outputs": [
    {
     "data": {
      "text/plain": [
       "array([[0., 0., 0., 1., 1.],\n",
       "       [0., 0., 0., 1., 1.],\n",
       "       [0., 0., 0., 1., 1.]])"
      ]
     },
     "execution_count": 36,
     "metadata": {},
     "output_type": "execute_result"
    }
   ],
   "source": [
    "arr12_tile = np.tile(arr12,(3,1))\n",
    "arr12_tile"
   ]
  },
  {
   "cell_type": "code",
   "execution_count": 39,
   "id": "119545a0-fbca-4cdd-830c-935bee807389",
   "metadata": {},
   "outputs": [
    {
     "data": {
      "text/plain": [
       "array([[ 10.,  20.,  30.,  40.,  50.],\n",
       "       [ 60.,  70.,  80.,  90., 100.],\n",
       "       [110., 120., 130., 140., 150.]])"
      ]
     },
     "execution_count": 39,
     "metadata": {},
     "output_type": "execute_result"
    }
   ],
   "source": [
    "arr3 = np.linspace(10,150,15).reshape(3,-1)\n",
    "arr3"
   ]
  },
  {
   "cell_type": "code",
   "execution_count": 40,
   "id": "c47f256b-c65e-46bf-8d16-2074693559fb",
   "metadata": {},
   "outputs": [
    {
     "data": {
      "text/plain": [
       "array([[  0.,   0.,   0.,   1.,   1.],\n",
       "       [  0.,   0.,   0.,   1.,   1.],\n",
       "       [  0.,   0.,   0.,   1.,   1.],\n",
       "       [ 10.,  20.,  30.,  40.,  50.],\n",
       "       [ 60.,  70.,  80.,  90., 100.],\n",
       "       [110., 120., 130., 140., 150.]])"
      ]
     },
     "execution_count": 40,
     "metadata": {},
     "output_type": "execute_result"
    }
   ],
   "source": [
    "arr123 = np.vstack([arr12_tile,arr3])\n",
    "arr123"
   ]
  },
  {
   "cell_type": "code",
   "execution_count": 42,
   "id": "111b7159-ce17-495b-a431-4fc0ca985f0d",
   "metadata": {},
   "outputs": [
    {
     "data": {
      "text/plain": [
       "array([[  0.,   0.,   0.,   1.,   1.],\n",
       "       [  0.,   0.,   0.,   1.,   1.],\n",
       "       [  0.,   0.,   0.,   1.,   1.],\n",
       "       [ 10.,  20.,  30.,  40.,  50.],\n",
       "       [ 60.,  70.,  80.,  90., 100.],\n",
       "       [110., 120., 130., 140., 150.],\n",
       "       [  0.,   0.,   0.,   1.,   1.],\n",
       "       [  0.,   0.,   0.,   1.,   1.],\n",
       "       [  0.,   0.,   0.,   1.,   1.],\n",
       "       [ 10.,  20.,  30.,  40.,  50.],\n",
       "       [ 60.,  70.,  80.,  90., 100.],\n",
       "       [110., 120., 130., 140., 150.]])"
      ]
     },
     "execution_count": 42,
     "metadata": {},
     "output_type": "execute_result"
    }
   ],
   "source": [
    "res=np.tile(arr123, (2,1))\n",
    "res"
   ]
  },
  {
   "cell_type": "code",
   "execution_count": null,
   "id": "b7d66f59-5db4-44e7-9524-5222a2b956cb",
   "metadata": {},
   "outputs": [],
   "source": []
  },
  {
   "cell_type": "code",
   "execution_count": 44,
   "id": "717f68af-3b3a-4684-8523-8be039cbb548",
   "metadata": {},
   "outputs": [
    {
     "data": {
      "text/plain": [
       "array([10, 11, 12, 13, 14])"
      ]
     },
     "execution_count": 44,
     "metadata": {},
     "output_type": "execute_result"
    }
   ],
   "source": [
    "arr=np.arange(10,15)\n",
    "arr"
   ]
  },
  {
   "cell_type": "code",
   "execution_count": 45,
   "id": "a8b2eaab-4111-44be-871c-8d07a01db86c",
   "metadata": {},
   "outputs": [
    {
     "data": {
      "text/plain": [
       "60"
      ]
     },
     "execution_count": 45,
     "metadata": {},
     "output_type": "execute_result"
    }
   ],
   "source": [
    "# 합 / 스칼라이므로 0차원\n",
    "np.sum(arr) # arr.sum() 같은 결과 나옴"
   ]
  },
  {
   "cell_type": "code",
   "execution_count": 47,
   "id": "6e487ad9-fea1-444a-ad7c-db5615de1dff",
   "metadata": {},
   "outputs": [
    {
     "data": {
      "text/plain": [
       "10"
      ]
     },
     "execution_count": 47,
     "metadata": {},
     "output_type": "execute_result"
    }
   ],
   "source": [
    "# 최소값 / 스칼라이므로 0차원\n",
    "np.min(arr) # arr.min()"
   ]
  },
  {
   "cell_type": "code",
   "execution_count": 48,
   "id": "477ca364-b335-499d-80eb-4332989df176",
   "metadata": {},
   "outputs": [
    {
     "data": {
      "text/plain": [
       "14"
      ]
     },
     "execution_count": 48,
     "metadata": {},
     "output_type": "execute_result"
    }
   ],
   "source": [
    "# 최대값 / 스칼라이므로 0차원\n",
    "np.max(arr) # arr.max()"
   ]
  },
  {
   "cell_type": "code",
   "execution_count": 50,
   "id": "77c5d1ed-aacd-4b83-88b5-871b2dfdada9",
   "metadata": {},
   "outputs": [
    {
     "data": {
      "text/plain": [
       "array([[11, 12, 13, 14, 15],\n",
       "       [16, 17, 18, 19, 20]])"
      ]
     },
     "execution_count": 50,
     "metadata": {},
     "output_type": "execute_result"
    }
   ],
   "source": [
    "# 2차원 배열 sum, min, max\n",
    "arr  = np.arange(11,21).reshape(2,-1)\n",
    "arr"
   ]
  },
  {
   "cell_type": "code",
   "execution_count": 54,
   "id": "65de5c11-d248-4d9f-8cbc-bbd40568df5a",
   "metadata": {},
   "outputs": [
    {
     "data": {
      "text/plain": [
       "20"
      ]
     },
     "execution_count": 54,
     "metadata": {},
     "output_type": "execute_result"
    }
   ],
   "source": [
    "np.sum(arr)\n",
    "arr.sum()\n",
    "np.min(arr)\n",
    "np.max(arr)"
   ]
  },
  {
   "cell_type": "code",
   "execution_count": 56,
   "id": "ea8ff9da-874b-4c30-bbc6-008d293be2ad",
   "metadata": {},
   "outputs": [
    {
     "data": {
      "text/plain": [
       "9"
      ]
     },
     "execution_count": 56,
     "metadata": {},
     "output_type": "execute_result"
    }
   ],
   "source": [
    "# argmin() / argmax()함수 : 최소값 / 최대값 위치를 리턴하는 함수\n",
    "arr.argmin() # 0 출력\n",
    "arr.argmax() # 9 출력"
   ]
  },
  {
   "cell_type": "code",
   "execution_count": 58,
   "id": "76c2eb8a-3e98-4391-84e7-66ec32ec0258",
   "metadata": {},
   "outputs": [
    {
     "data": {
      "text/plain": [
       "4"
      ]
     },
     "execution_count": 58,
     "metadata": {},
     "output_type": "execute_result"
    }
   ],
   "source": [
    "arr[0].argmin() # 0출력\n",
    "arr[0].argmax() # 4출력"
   ]
  },
  {
   "cell_type": "code",
   "execution_count": 60,
   "id": "2ef10f1c-5707-48a1-bab7-1fe452801239",
   "metadata": {},
   "outputs": [
    {
     "data": {
      "text/plain": [
       "13.0"
      ]
     },
     "execution_count": 60,
     "metadata": {},
     "output_type": "execute_result"
    }
   ],
   "source": [
    "# mean() 함수 : 평균값 구하는 함수\n",
    "arr.mean() # 15.5 출력\n",
    "arr[0].mean() # 13.0 출력"
   ]
  },
  {
   "cell_type": "code",
   "execution_count": 64,
   "id": "66c783d3-4fae-4a09-8c2f-8bb281a2efcf",
   "metadata": {},
   "outputs": [
    {
     "data": {
      "text/plain": [
       "array([[11, 12, 13, 14, 15],\n",
       "       [16, 17, 18, 19, 20]])"
      ]
     },
     "execution_count": 64,
     "metadata": {},
     "output_type": "execute_result"
    }
   ],
   "source": [
    "# 산술함수(평균)의 취약점\n",
    "# 극단값에 영향이 받는다.\n",
    "# 극단값을 영향을 많이 안 받고 대표값 구하는 게 좋다.\n",
    "arr"
   ]
  },
  {
   "cell_type": "code",
   "execution_count": 67,
   "id": "1952d02a-5939-422d-a0e4-ed61058b1d07",
   "metadata": {},
   "outputs": [
    {
     "data": {
      "text/plain": [
       "13.0"
      ]
     },
     "execution_count": 67,
     "metadata": {},
     "output_type": "execute_result"
    }
   ],
   "source": [
    "# arr.median() 사용불가\n",
    "np.median(arr)\n",
    "np.median(arr[0]) # 첫번째 줄의 중간 값"
   ]
  },
  {
   "cell_type": "code",
   "execution_count": 71,
   "id": "358e3b2d-916c-40bc-8784-0056321f4564",
   "metadata": {},
   "outputs": [
    {
     "data": {
      "text/plain": [
       "False"
      ]
     },
     "execution_count": 71,
     "metadata": {},
     "output_type": "execute_result"
    }
   ],
   "source": [
    "# all 함수\n",
    "np.all(2>1) # 모두 다 True(참)인가? True or False\n",
    "np.all([2>1, 5>3, 3<1])\n",
    "np.all([2>1, 5>3, 3!=1])\n",
    "np.all([True,True ,True])\n",
    "np.all([True,True ,False])\n",
    "# 하나라도 False 있으면 False 출력"
   ]
  },
  {
   "cell_type": "code",
   "execution_count": 72,
   "id": "1cefb730-239f-496a-aeb5-660852f7d145",
   "metadata": {},
   "outputs": [
    {
     "data": {
      "text/plain": [
       "True"
      ]
     },
     "execution_count": 72,
     "metadata": {},
     "output_type": "execute_result"
    }
   ],
   "source": [
    "# any 함수\n",
    "np.any([True,True ,False]) # 하나라도 True 있으면 True 출력"
   ]
  },
  {
   "cell_type": "code",
   "execution_count": 75,
   "id": "409411a6-bef2-4b61-9eff-10a481943f90",
   "metadata": {},
   "outputs": [
    {
     "data": {
      "text/plain": [
       "True"
      ]
     },
     "execution_count": 75,
     "metadata": {},
     "output_type": "execute_result"
    }
   ],
   "source": [
    "np.all([1,2,3]) # True\n",
    "np.all([1,2,0]) # False\n",
    "np.all([1,2,0.1]) # True\n",
    "# 0 : 거짓 / 0이 아니면 : 참"
   ]
  },
  {
   "cell_type": "code",
   "execution_count": 78,
   "id": "07fda871-ee64-41ad-9fcc-76c776f745ee",
   "metadata": {},
   "outputs": [
    {
     "data": {
      "text/plain": [
       "True"
      ]
     },
     "execution_count": 78,
     "metadata": {},
     "output_type": "execute_result"
    }
   ],
   "source": [
    "# 1차 배열 True / False 출력\n",
    "np.all(np.arange(5)) # False / 0,1,2,3,4\n",
    "np.all(np.arange(1,5)) # True / 1,2,3,4"
   ]
  },
  {
   "cell_type": "code",
   "execution_count": 80,
   "id": "a0ec743f-4143-4fb0-b048-7fac9ded674c",
   "metadata": {},
   "outputs": [
    {
     "data": {
      "text/plain": [
       "array([0, 0, 0, 0, 0, 0, 0, 0, 0, 0], dtype=int32)"
      ]
     },
     "execution_count": 80,
     "metadata": {},
     "output_type": "execute_result"
    }
   ],
   "source": [
    "a = np.zeros(10,dtype=np.int32)\n",
    "a"
   ]
  },
  {
   "cell_type": "code",
   "execution_count": 81,
   "id": "278ff42b-0d74-4675-8b9a-462b97009fdc",
   "metadata": {},
   "outputs": [
    {
     "data": {
      "text/plain": [
       "array([ True,  True,  True,  True,  True,  True,  True,  True,  True,\n",
       "        True])"
      ]
     },
     "execution_count": 81,
     "metadata": {},
     "output_type": "execute_result"
    }
   ],
   "source": [
    "# 요소 하나하나씩 비교한다.\n",
    "a == 0\n",
    "# array([ True,  True,  True,  True,  True,  True,  True,  True,  True,\n",
    "#         True])"
   ]
  },
  {
   "cell_type": "code",
   "execution_count": 82,
   "id": "ca9876e1-bc8e-447a-91ad-b3ed3f99c311",
   "metadata": {},
   "outputs": [
    {
     "data": {
      "text/plain": [
       "True"
      ]
     },
     "execution_count": 82,
     "metadata": {},
     "output_type": "execute_result"
    }
   ],
   "source": [
    "np.all(a==0)\n",
    "# True / 하나만 출력 된다."
   ]
  },
  {
   "cell_type": "code",
   "execution_count": 83,
   "id": "549525ee-f1c7-4962-96db-ced5d51df8e3",
   "metadata": {},
   "outputs": [],
   "source": [
    "a = np.array([1, 2, 3, 2])\n",
    "b = np.array([2, 2, 3, 2])\n",
    "c = np.array([6, 4, 4, 5])"
   ]
  },
  {
   "cell_type": "code",
   "execution_count": 84,
   "id": "a73751b9-df31-48b7-aaf7-4211b82c4cb3",
   "metadata": {},
   "outputs": [],
   "source": [
    "# a에 저장된 값들이 모두 b에 저장된 값보다 작거나 같으면서\n",
    "# b에 저장된 값들이 모두 c에 저장된 값보다 작거나 같은가요? True/False\n",
    "np.all((a<=b) & (b <= c))"
   ]
  },
  {
   "cell_type": "code",
   "execution_count": 86,
   "id": "012449a1-98e6-4da4-94a4-bb7a61228b9e",
   "metadata": {},
   "outputs": [
    {
     "data": {
      "text/plain": [
       "array([[0, 1, 2, 3, 4],\n",
       "       [5, 6, 7, 8, 9]])"
      ]
     },
     "execution_count": 86,
     "metadata": {},
     "output_type": "execute_result"
    }
   ],
   "source": [
    "arr = np.arange(10).reshape(2,5)\n",
    "arr"
   ]
  },
  {
   "cell_type": "code",
   "execution_count": 88,
   "id": "a55c94db-e200-48c1-a337-4e79c5132aa2",
   "metadata": {},
   "outputs": [],
   "source": [
    "# 2차원 이상 다차원 배열에 대한 연산시에는 axis를 지정할 수 있음\n",
    "# axis = 0(기본값, 열방량 연산), axis=1(행방향 연산)"
   ]
  },
  {
   "cell_type": "code",
   "execution_count": 89,
   "id": "fc4a6a1e-fa7f-4e74-a4a0-743688086686",
   "metadata": {},
   "outputs": [
    {
     "data": {
      "text/plain": [
       "array([[0, 1, 2, 3, 4],\n",
       "       [5, 6, 7, 8, 9]])"
      ]
     },
     "execution_count": 89,
     "metadata": {},
     "output_type": "execute_result"
    }
   ],
   "source": [
    "arr"
   ]
  },
  {
   "cell_type": "code",
   "execution_count": 92,
   "id": "bbf1e841-0589-4a23-b3c9-28110da8a134",
   "metadata": {},
   "outputs": [
    {
     "data": {
      "text/plain": [
       "array([10, 35])"
      ]
     },
     "execution_count": 92,
     "metadata": {},
     "output_type": "execute_result"
    }
   ],
   "source": [
    "arr.sum(axis=0) #열 단위로 합 구함\n",
    "arr.sum(axis=1) #행 단위로 합 구함"
   ]
  },
  {
   "cell_type": "code",
   "execution_count": 93,
   "id": "77fe0f03-dd51-4064-a525-5d31049d40d3",
   "metadata": {},
   "outputs": [
    {
     "data": {
      "text/plain": [
       "array([5, 6, 7, 8, 9])"
      ]
     },
     "execution_count": 93,
     "metadata": {},
     "output_type": "execute_result"
    }
   ],
   "source": [
    "arr.max(axis=0) #열 단위로 최대값\n",
    "arr.max(axis=1) #행 단위로 최대값"
   ]
  },
  {
   "cell_type": "code",
   "execution_count": 102,
   "id": "ebdf2128-20bc-43f7-9a6a-179f8456a956",
   "metadata": {},
   "outputs": [
    {
     "data": {
      "text/plain": [
       "array([[ 4,  3,  5,  7],\n",
       "       [ 1, 12, 11,  9],\n",
       "       [ 2, 15,  1, 14]])"
      ]
     },
     "execution_count": 102,
     "metadata": {},
     "output_type": "execute_result"
    }
   ],
   "source": [
    "# 중간 점검\n",
    "a = np.array([[4,  3,  5,  7],\n",
    "              [1, 12, 11,  9],\n",
    "              [2, 15,  1, 14]])\n",
    "a"
   ]
  },
  {
   "cell_type": "code",
   "execution_count": 96,
   "id": "d89b16b7-0584-4b4d-acf5-e197d0e352b3",
   "metadata": {},
   "outputs": [
    {
     "data": {
      "text/plain": [
       "array([ 7, 12, 15])"
      ]
     },
     "execution_count": 96,
     "metadata": {},
     "output_type": "execute_result"
    }
   ],
   "source": [
    "a.max(axis=1)"
   ]
  },
  {
   "cell_type": "code",
   "execution_count": 98,
   "id": "7f4baa4e-f3a1-4f01-8089-2dd84a5738fc",
   "metadata": {},
   "outputs": [
    {
     "data": {
      "text/plain": [
       "array([[ 3,  4,  5,  7],\n",
       "       [ 1,  9, 11, 12],\n",
       "       [ 1,  2, 14, 15]])"
      ]
     },
     "execution_count": 98,
     "metadata": {},
     "output_type": "execute_result"
    }
   ],
   "source": [
    "# sort()함수 : 열 방향으로 올름차순으로 정렬\n",
    "a.sort()\n",
    "a"
   ]
  },
  {
   "cell_type": "code",
   "execution_count": 100,
   "id": "26c2e1a9-7de5-4b01-84ba-a824bc46f18e",
   "metadata": {},
   "outputs": [
    {
     "data": {
      "text/plain": [
       "array([[ 1,  3,  1,  7],\n",
       "       [ 2, 12,  5,  9],\n",
       "       [ 4, 15, 11, 14]])"
      ]
     },
     "execution_count": 100,
     "metadata": {},
     "output_type": "execute_result"
    }
   ],
   "source": [
    "a.sort(axis=0)\n",
    "a\n",
    "# 출력값\n",
    "# array([[ 1,  3,  1,  7],\n",
    "#        [ 2, 12,  5,  9],\n",
    "#        [ 4, 15, 11, 14]])"
   ]
  },
  {
   "cell_type": "code",
   "execution_count": 103,
   "id": "70f2d44d-8b71-4d19-8b0a-009cac0ce876",
   "metadata": {},
   "outputs": [
    {
     "data": {
      "text/plain": [
       "array([[ 3,  4,  5,  7],\n",
       "       [ 1,  9, 11, 12],\n",
       "       [ 1,  2, 14, 15]])"
      ]
     },
     "execution_count": 103,
     "metadata": {},
     "output_type": "execute_result"
    }
   ],
   "source": [
    "a.sort(axis=1)\n",
    "a\n",
    "# 출력값\n",
    "# array([[ 3,  4,  5,  7],\n",
    "#        [ 1,  9, 11, 12],\n",
    "#        [ 1,  2, 14, 15]])"
   ]
  },
  {
   "cell_type": "code",
   "execution_count": 104,
   "id": "59d4b47b-bb89-41ae-80ec-1ce05463fded",
   "metadata": {},
   "outputs": [],
   "source": [
    "a = np.array([[4,  3,  5,  7],\n",
    "              [1, 12, 11,  9],\n",
    "              [2, 15,  1, 14]])"
   ]
  },
  {
   "cell_type": "code",
   "execution_count": 105,
   "id": "af315917-48bb-4664-87d1-d89dabcd1a2d",
   "metadata": {},
   "outputs": [
    {
     "data": {
      "text/plain": [
       "array([[ 3,  4,  5,  7],\n",
       "       [ 1,  9, 11, 12],\n",
       "       [ 1,  2, 14, 15]])"
      ]
     },
     "execution_count": 105,
     "metadata": {},
     "output_type": "execute_result"
    }
   ],
   "source": [
    "np.sort(a) # axis 값이 1일때와 같음"
   ]
  },
  {
   "cell_type": "code",
   "execution_count": 106,
   "id": "1c279768-c866-485d-9e31-1d9d41730406",
   "metadata": {},
   "outputs": [
    {
     "data": {
      "text/plain": [
       "array([40, 20, 10, 30, 90])"
      ]
     },
     "execution_count": 106,
     "metadata": {},
     "output_type": "execute_result"
    }
   ],
   "source": [
    "arr = np.array([40,20,10,30,90])\n",
    "arr"
   ]
  },
  {
   "cell_type": "code",
   "execution_count": 107,
   "id": "66e1b8f6-71e5-410d-82e1-a626e8117d97",
   "metadata": {},
   "outputs": [
    {
     "data": {
      "text/plain": [
       "array([10, 20, 30, 40, 90])"
      ]
     },
     "execution_count": 107,
     "metadata": {},
     "output_type": "execute_result"
    }
   ],
   "source": [
    "# 올름차순\n",
    "np.sort(arr)"
   ]
  },
  {
   "cell_type": "code",
   "execution_count": 108,
   "id": "5eb6bfbc-93c0-4f03-adb5-e9f6de16e9ad",
   "metadata": {},
   "outputs": [
    {
     "data": {
      "text/plain": [
       "array([90, 40, 30, 20, 10])"
      ]
     },
     "execution_count": 108,
     "metadata": {},
     "output_type": "execute_result"
    }
   ],
   "source": [
    "# 내림차순 1\n",
    "np.sort(arr)[::-1]"
   ]
  },
  {
   "cell_type": "code",
   "execution_count": 109,
   "id": "caa02255-adbd-4c90-9e52-1a67ad454209",
   "metadata": {},
   "outputs": [
    {
     "data": {
      "text/plain": [
       "array([90, 40, 30, 20, 10])"
      ]
     },
     "execution_count": 109,
     "metadata": {},
     "output_type": "execute_result"
    }
   ],
   "source": [
    "# 내림차순 2\n",
    "np.flip(np.sort(arr))"
   ]
  },
  {
   "cell_type": "code",
   "execution_count": 110,
   "id": "ce3315f3-24e7-41d8-8da3-5abe76a28b53",
   "metadata": {},
   "outputs": [
    {
     "data": {
      "text/plain": [
       "array([40, 20, 10, 30, 90])"
      ]
     },
     "execution_count": 110,
     "metadata": {},
     "output_type": "execute_result"
    }
   ],
   "source": [
    "arr # 정렬해도 원래대로 된다. 이전에는 일시 적으로 저장"
   ]
  },
  {
   "cell_type": "code",
   "execution_count": 111,
   "id": "3fd12112-aa55-4aad-8eee-a88ee7739f56",
   "metadata": {},
   "outputs": [
    {
     "data": {
      "text/plain": [
       "array([90, 40, 30, 20, 10])"
      ]
     },
     "execution_count": 111,
     "metadata": {},
     "output_type": "execute_result"
    }
   ],
   "source": [
    "# 완전히 저장이된다.\n",
    "arr = np.sort(arr)[::-1]\n",
    "arr"
   ]
  },
  {
   "cell_type": "code",
   "execution_count": 113,
   "id": "ccb7d1bf-691e-45c2-bcbc-43708db3d8dd",
   "metadata": {},
   "outputs": [],
   "source": [
    "arr.sort()"
   ]
  },
  {
   "cell_type": "code",
   "execution_count": 114,
   "id": "59305796-1080-4e43-863c-a328b593a626",
   "metadata": {},
   "outputs": [
    {
     "data": {
      "text/plain": [
       "array([10, 20, 30, 40, 90])"
      ]
     },
     "execution_count": 114,
     "metadata": {},
     "output_type": "execute_result"
    }
   ],
   "source": [
    "arr"
   ]
  },
  {
   "cell_type": "code",
   "execution_count": 115,
   "id": "f378fbd9-e026-4b57-b1f3-98d53f59d9b5",
   "metadata": {},
   "outputs": [
    {
     "data": {
      "text/plain": [
       "5"
      ]
     },
     "execution_count": 115,
     "metadata": {},
     "output_type": "execute_result"
    }
   ],
   "source": [
    "len(arr)"
   ]
  },
  {
   "cell_type": "code",
   "execution_count": 116,
   "id": "82fe8027-68ea-4e48-8e22-6afdce8c7f77",
   "metadata": {},
   "outputs": [
    {
     "data": {
      "text/plain": [
       "38.0"
      ]
     },
     "execution_count": 116,
     "metadata": {},
     "output_type": "execute_result"
    }
   ],
   "source": [
    "np.mean(arr)"
   ]
  },
  {
   "cell_type": "code",
   "execution_count": 117,
   "id": "d48856e7-84b0-4d84-b9f4-e6dbc29c7fe2",
   "metadata": {},
   "outputs": [
    {
     "data": {
      "text/plain": [
       "776.0"
      ]
     },
     "execution_count": 117,
     "metadata": {},
     "output_type": "execute_result"
    }
   ],
   "source": [
    "# 분산\n",
    "np.var(arr)"
   ]
  },
  {
   "cell_type": "code",
   "execution_count": 118,
   "id": "e2d4fd2c-34bf-4da3-814b-5d03078cd0a2",
   "metadata": {},
   "outputs": [
    {
     "data": {
      "text/plain": [
       "27.85677655436824"
      ]
     },
     "execution_count": 118,
     "metadata": {},
     "output_type": "execute_result"
    }
   ],
   "source": [
    "# 표준편차\n",
    "np.std(arr)"
   ]
  },
  {
   "cell_type": "code",
   "execution_count": 132,
   "id": "4a268268-e885-4c87-b57d-1905639d5d07",
   "metadata": {},
   "outputs": [
    {
     "data": {
      "text/plain": [
       "8.5"
      ]
     },
     "execution_count": 132,
     "metadata": {},
     "output_type": "execute_result"
    }
   ],
   "source": [
    "# x에 대한 표준분산을 구하시오.\n",
    "x = np.array([5,10,9,3,8])\n",
    "x\n",
    "# 1)\n",
    "std_dev_x = np.sum((x - np.mean(x)) ** 2) / (len(x) - 1)\n",
    "std_dev_x\n",
    "\n",
    "# 2)\n",
    "np.sum(((x-x.mean())**2))/(len(x)-1)"
   ]
  },
  {
   "cell_type": "code",
   "execution_count": 134,
   "id": "4527fd7e-64f3-40a3-887f-82b3712b9bb6",
   "metadata": {},
   "outputs": [
    {
     "name": "stdout",
     "output_type": "stream",
     "text": [
      "표준 분산: 6.8\n"
     ]
    }
   ],
   "source": [
    "# 모본 분산\n",
    "x = np.array([5, 10, 9, 3, 8])\n",
    "variance_x = np.var(x)\n",
    "\n",
    "print(\"모본 분산:\", variance_x)"
   ]
  },
  {
   "cell_type": "code",
   "execution_count": 141,
   "id": "907f38ca-c00b-4094-bc44-283cd3dc46ac",
   "metadata": {},
   "outputs": [
    {
     "data": {
      "text/plain": [
       "8.5"
      ]
     },
     "execution_count": 141,
     "metadata": {},
     "output_type": "execute_result"
    }
   ],
   "source": [
    "np.var(x) #6.8\n",
    "np.sum((x - np.mean(x))**2)/(len(x))\n",
    "np.var(x, ddof=1) # 표본분산 / 8.5"
   ]
  },
  {
   "cell_type": "code",
   "execution_count": 143,
   "id": "e5fc4263-941f-4035-8f83-92678c0151f8",
   "metadata": {},
   "outputs": [
    {
     "data": {
      "text/plain": [
       "array([  1,   2,   3,   4,   5,   6,   7,   8,   9,  10,  11,  12,  13,\n",
       "        14,  15,  16,  17,  18,  19,  20,  21,  22,  23,  24,  25,  26,\n",
       "        27,  28,  29,  30,  31,  32,  33,  34,  35,  36,  37,  38,  39,\n",
       "        40,  41,  42,  43,  44,  45,  46,  47,  48,  49,  50,  51,  52,\n",
       "        53,  54,  55,  56,  57,  58,  59,  60,  61,  62,  63,  64,  65,\n",
       "        66,  67,  68,  69,  70,  71,  72,  73,  74,  75,  76,  77,  78,\n",
       "        79,  80,  81,  82,  83,  84,  85,  86,  87,  88,  89,  90,  91,\n",
       "        92,  93,  94,  95,  96,  97,  98,  99, 100, 101, 102, 103, 104,\n",
       "       105, 106, 107, 108, 109, 110, 111, 112, 113, 114, 115, 116, 117,\n",
       "       118, 119, 120, 121, 122, 123, 124, 125, 126, 127, 128, 129, 130,\n",
       "       131, 132, 133, 134, 135, 136, 137, 138, 139, 140, 141, 142, 143,\n",
       "       144, 145, 146, 147, 148, 149, 150, 151, 152, 153, 154, 155, 156,\n",
       "       157, 158, 159, 160, 161, 162, 163, 164, 165, 166, 167, 168, 169,\n",
       "       170, 171, 172, 173, 174, 175, 176, 177, 178, 179, 180, 181, 182,\n",
       "       183, 184, 185, 186, 187, 188, 189, 190, 191, 192, 193, 194, 195,\n",
       "       196, 197, 198, 199, 200])"
      ]
     },
     "execution_count": 143,
     "metadata": {},
     "output_type": "execute_result"
    }
   ],
   "source": [
    "x = np.arange(1,201)\n",
    "x"
   ]
  },
  {
   "cell_type": "code",
   "execution_count": null,
   "id": "a2ca8fcd-29b1-46f7-b627-4ba9cdf94611",
   "metadata": {},
   "outputs": [],
   "source": [
    "# 백분위수 : 위치를 100으로 나눈 수"
   ]
  },
  {
   "cell_type": "code",
   "execution_count": 145,
   "id": "c5894db4-2adc-4fbd-8e33-7d5734338b6a",
   "metadata": {},
   "outputs": [
    {
     "data": {
      "text/plain": [
       "1.0"
      ]
     },
     "execution_count": 145,
     "metadata": {},
     "output_type": "execute_result"
    }
   ],
   "source": [
    "np.percentile(x,0) # 최소값"
   ]
  },
  {
   "cell_type": "code",
   "execution_count": 146,
   "id": "c543353c-fdbf-48ac-8b5a-0ceb16472895",
   "metadata": {},
   "outputs": [
    {
     "data": {
      "text/plain": [
       "200.0"
      ]
     },
     "execution_count": 146,
     "metadata": {},
     "output_type": "execute_result"
    }
   ],
   "source": [
    "np.percentile(x,100) # 최대값"
   ]
  },
  {
   "cell_type": "code",
   "execution_count": 153,
   "id": "e926347f-a961-4d47-bba9-f46cd4305359",
   "metadata": {},
   "outputs": [
    {
     "data": {
      "text/plain": [
       "50.75"
      ]
     },
     "execution_count": 153,
     "metadata": {},
     "output_type": "execute_result"
    }
   ],
   "source": [
    "# 1사분위수 : 25% 백분율\n",
    "np.percentile(x,25)"
   ]
  },
  {
   "cell_type": "code",
   "execution_count": 154,
   "id": "f0afb779-2ba8-40ad-be04-6e98013071c2",
   "metadata": {},
   "outputs": [
    {
     "data": {
      "text/plain": [
       "100.5"
      ]
     },
     "execution_count": 154,
     "metadata": {},
     "output_type": "execute_result"
    }
   ],
   "source": [
    "# 2사분위수 : 50% 백분율\n",
    "np.percentile(x,50)"
   ]
  },
  {
   "cell_type": "code",
   "execution_count": 155,
   "id": "61493442-b4d9-469e-a498-86877d3d116c",
   "metadata": {},
   "outputs": [
    {
     "data": {
      "text/plain": [
       "150.25"
      ]
     },
     "execution_count": 155,
     "metadata": {},
     "output_type": "execute_result"
    }
   ],
   "source": [
    "# 3사분위수 : 75% 백분율\n",
    "np.percentile(x,75)"
   ]
  },
  {
   "cell_type": "code",
   "execution_count": 156,
   "id": "cdb10f56-46ea-4b08-8f66-71ff31e5b877",
   "metadata": {},
   "outputs": [
    {
     "data": {
      "text/plain": [
       "200.0"
      ]
     },
     "execution_count": 156,
     "metadata": {},
     "output_type": "execute_result"
    }
   ],
   "source": [
    "# 4사분위수 : 100% 백분율\n",
    "np.percentile(x,100)"
   ]
  },
  {
   "cell_type": "code",
   "execution_count": null,
   "id": "97e58e10-fd40-4f14-a4fa-49f0d7f84240",
   "metadata": {},
   "outputs": [],
   "source": []
  },
  {
   "cell_type": "code",
   "execution_count": null,
   "id": "761c9468-aa8c-44ea-bdd7-c560a34160d2",
   "metadata": {},
   "outputs": [],
   "source": []
  },
  {
   "cell_type": "code",
   "execution_count": 158,
   "id": "ba79d729-7dcb-4956-b1a8-0e38d54e2fec",
   "metadata": {},
   "outputs": [
    {
     "data": {
      "text/plain": [
       "array([ 0,  1,  2,  3,  4,  5,  6,  7,  8,  9, 10])"
      ]
     },
     "execution_count": 158,
     "metadata": {},
     "output_type": "execute_result"
    }
   ],
   "source": [
    "data=np.arange(11)\n",
    "data"
   ]
  },
  {
   "cell_type": "code",
   "execution_count": 159,
   "id": "16e4b80a-e523-42b9-b587-73c20ba27150",
   "metadata": {},
   "outputs": [
    {
     "data": {
      "text/plain": [
       "5.0"
      ]
     },
     "execution_count": 159,
     "metadata": {},
     "output_type": "execute_result"
    }
   ],
   "source": []
  },
  {
   "cell_type": "code",
   "execution_count": 160,
   "id": "60dcaf17-c67b-4784-8390-80476e93743b",
   "metadata": {},
   "outputs": [
    {
     "data": {
      "text/plain": [
       "2.5"
      ]
     },
     "execution_count": 160,
     "metadata": {},
     "output_type": "execute_result"
    }
   ],
   "source": [
    "np.percentile(data,25) # 1사분위"
   ]
  },
  {
   "cell_type": "code",
   "execution_count": 161,
   "id": "7893397b-d694-4560-857e-6fad562e4b83",
   "metadata": {},
   "outputs": [
    {
     "data": {
      "text/plain": [
       "5.0"
      ]
     },
     "execution_count": 161,
     "metadata": {},
     "output_type": "execute_result"
    }
   ],
   "source": [
    "np.percentile(data,50) #중위수(2사분위)"
   ]
  },
  {
   "cell_type": "code",
   "execution_count": 162,
   "id": "92551fe5-cc65-48d6-b89a-31414b59c0bf",
   "metadata": {},
   "outputs": [
    {
     "data": {
      "text/plain": [
       "7.5"
      ]
     },
     "execution_count": 162,
     "metadata": {},
     "output_type": "execute_result"
    }
   ],
   "source": [
    "np.percentile(data,75) # 3사분위"
   ]
  },
  {
   "cell_type": "code",
   "execution_count": 163,
   "id": "4cb7c3f9-f28d-4e42-881a-807889ee82c6",
   "metadata": {},
   "outputs": [
    {
     "data": {
      "text/plain": [
       "10.0"
      ]
     },
     "execution_count": 163,
     "metadata": {},
     "output_type": "execute_result"
    }
   ],
   "source": [
    "np.percentile(data,100) # 4사분위 / 최대"
   ]
  },
  {
   "cell_type": "code",
   "execution_count": 2,
   "id": "14869584-4f2f-48f2-9cd4-22bfdc189307",
   "metadata": {},
   "outputs": [],
   "source": [
    "import numpy as np"
   ]
  },
  {
   "cell_type": "code",
   "execution_count": 62,
   "id": "61ce3054-946b-4d2d-bdd8-7783a4051b43",
   "metadata": {},
   "outputs": [
    {
     "data": {
      "text/plain": [
       "array([1, 2, 3, 4, 5, 6])"
      ]
     },
     "execution_count": 62,
     "metadata": {},
     "output_type": "execute_result"
    }
   ],
   "source": [
    "# 1. 실수로 이루어진 5 x 6 형태의 데이터 행렬을 만들고 이 데이터에 대해 다음과 같은 값을 구한다.\n",
    "arr = np.arange(1,31).reshape(5,6)\n",
    "arr\n",
    "# 전체의 최댓값\n",
    "arr.max()\n",
    "\n",
    "# 각 행의 합\n",
    "arr.sum(axis=1)\n",
    "\n",
    "# 각 행의 최댓값\n",
    "arr.max(axis = 1)\n",
    "\n",
    "# 각 열의 평균\n",
    "arr.mean(axis = 0)\n",
    "\n",
    "# 각 열의 최솟값\n",
    "arr.min(axis = 0)"
   ]
  },
  {
   "cell_type": "code",
   "execution_count": 78,
   "id": "f8cf0332-15e8-4ea6-abc1-03f56b6c498d",
   "metadata": {},
   "outputs": [
    {
     "name": "stdout",
     "output_type": "stream",
     "text": [
      "[[  1   4   2   3]\n",
      " [ 46  71  99 100]\n",
      " [ 81 100  59  90]]\n"
     ]
    }
   ],
   "source": [
    "# 2. 다음 배열은 첫번째 행(row)에 학번, 두번째 행에 영어 성적, 세번째 행에 수학 성적을 적은 배열이다. 영어 성적을 기준으로 각 열(column)을 재정렬하라.\n",
    "\n",
    "score = np.array([[  1,    2,    3,    4],\n",
    "                  [ 46,   99,  100,   71],\n",
    "                  [ 81,   59,   90,  100]])\n",
    "\n",
    "# 영어 점수로 정렬된 인덱스 가져오기\n",
    "eng_sorted_indices = np.argsort(score[1])\n",
    "\n",
    "# 영어 점수로 정렬된 배열 생성\n",
    "sorted_score = score[:, eng_sorted_indices]\n",
    "\n",
    "print(sorted_score)"
   ]
  },
  {
   "cell_type": "code",
   "execution_count": null,
   "id": "f5a7e5b9-776a-4fc3-8f1d-9106954910a3",
   "metadata": {},
   "outputs": [],
   "source": []
  },
  {
   "cell_type": "code",
   "execution_count": 58,
   "id": "82c45a3a-a6d9-47e1-8e52-448507400600",
   "metadata": {},
   "outputs": [
    {
     "data": {
      "text/plain": [
       "array([[  0.,   0.,   0.,   1.,   1.],\n",
       "       [  0.,   0.,   0.,   1.,   1.],\n",
       "       [  0.,   0.,   0.,   1.,   1.],\n",
       "       [ 10.,  20.,  30.,  40.,  50.],\n",
       "       [ 60.,  70.,  80.,  90., 100.],\n",
       "       [110., 120., 130., 140., 150.],\n",
       "       [  0.,   0.,   0.,   1.,   1.],\n",
       "       [  0.,   0.,   0.,   1.,   1.],\n",
       "       [  0.,   0.,   0.,   1.,   1.],\n",
       "       [ 10.,  20.,  30.,  40.,  50.],\n",
       "       [ 60.,  70.,  80.,  90., 100.],\n",
       "       [110., 120., 130., 140., 150.]])"
      ]
     },
     "execution_count": 58,
     "metadata": {},
     "output_type": "execute_result"
    }
   ],
   "source": [
    "# 5월 8일 미 해결 문제\n",
    "# 1. 지금까지 공부한 명령어를 사용하여 다음과 같은 배열을 다양한 방법으로 만드시오.\n",
    "# - tile사용, tile 미사용,...\n",
    "# array([[   0.,    0.,    0.,    1.,    1.],\n",
    "#        [   0.,    0.,    0.,    1.,    1.],\n",
    "#        [   0.,    0.,    0.,    1.,    1.],\n",
    "#        [  10.,   20.,   30.,   40.,   50.],\n",
    "#        [  60.,   70.,   80.,   90.,  100.],\n",
    "#        [ 110.,  120.,  130.,  140.,  150.],\n",
    "#        [   0.,    0.,    0.,    1.,    1.],\n",
    "#        [   0.,    0.,    0.,    1.,    1.],\n",
    "#        [   0.,    0.,    0.,    1.,    1.],\n",
    "#        [  10.,   20.,   30.,   40.,   50.],\n",
    "#        [  60.,   70.,   80.,   90.,  100.],\n",
    "#        [ 110.,  120.,  130.,  140.,  150.]])\n",
    "\n",
    "# 1-1 tile 사용\n",
    "arr0 = np.zeros([3])\n",
    "arr1 = np.ones([2])\n",
    "arrhap = np.hstack([arr0,arr1]) # array([0., 0., 0., 1., 1.])\n",
    "arrhap_tile = np.tile(arrhap,(3,1))\n",
    "\n",
    "arr2 = np.linspace(10,150,15).reshape(3,-1)\n",
    "\n",
    "arr012 = np.vstack([arrhap_tile,arr2])\n",
    "arr012\n",
    "\n",
    "# 1-2 tile 미사용\n",
    "arr1 = np.hstack([np.zeros((12, 3)), np.ones((12, 2))])\n",
    "arr2 = np.arange(10, 151, 10).reshape(3, 5)\n",
    "\n",
    "arr1[3:6, :], arr1[9:12, :] = arr2, arr2\n",
    "\b\n",
    "arr1"
   ]
  },
  {
   "cell_type": "code",
   "execution_count": 77,
   "id": "21df7e4d-b707-44c4-a3be-7ba91fc9910f",
   "metadata": {},
   "outputs": [
    {
     "name": "stdout",
     "output_type": "stream",
     "text": [
      "[[ 1  2  3  4  5]\n",
      " [10  9  8  7  6]\n",
      " [11 12 13 14 15]\n",
      " [20 19 18 17 16]\n",
      " [21 22 23 24 25]]\n"
     ]
    }
   ],
   "source": [
    "# 2.  아래와 같은 구조의 배열을 생성하시오\n",
    "# 1 2 3 4 5\n",
    "# 10 9 8 7 6\n",
    "# 11 12 13 14 15\n",
    "# 20 19 18 17 16\n",
    "# 21 22 23 24 25\n",
    "\n",
    "arr = np.arange(1, 26).reshape(5, -1)\n",
    "\n",
    "arr[1::2, :] = np.flip(arr[1::2, :], axis=1)\n",
    "\n",
    "print(arr)"
   ]
  },
  {
   "cell_type": "code",
   "execution_count": null,
   "id": "1dc9ce5e-f4e6-4d3a-8fa7-07af243a6179",
   "metadata": {},
   "outputs": [],
   "source": []
  }
 ],
 "metadata": {
  "kernelspec": {
   "display_name": "Python 3 (ipykernel)",
   "language": "python",
   "name": "python3"
  },
  "language_info": {
   "codemirror_mode": {
    "name": "ipython",
    "version": 3
   },
   "file_extension": ".py",
   "mimetype": "text/x-python",
   "name": "python",
   "nbconvert_exporter": "python",
   "pygments_lexer": "ipython3",
   "version": "3.12.3"
  }
 },
 "nbformat": 4,
 "nbformat_minor": 5
}
