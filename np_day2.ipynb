{
 "cells": [
  {
   "cell_type": "code",
   "execution_count": 5,
   "id": "5433048e-302c-4bc5-93c2-8e8600291363",
   "metadata": {},
   "outputs": [],
   "source": [
    "import numpy as np"
   ]
  },
  {
   "cell_type": "code",
   "execution_count": 8,
   "id": "a0171aa6-50c0-4a05-801d-aea4c069023b",
   "metadata": {},
   "outputs": [
    {
     "data": {
      "text/plain": [
       "array([1, 2, 3, 4])"
      ]
     },
     "execution_count": 8,
     "metadata": {},
     "output_type": "execute_result"
    }
   ],
   "source": [
    "arr = np.array([1,2,3,4])\n",
    "arr"
   ]
  },
  {
   "cell_type": "code",
   "execution_count": 9,
   "id": "ed5dcc51-03b4-4bb3-aee8-e6bc6ccb1fb2",
   "metadata": {},
   "outputs": [
    {
     "data": {
      "text/plain": [
       "dtype('int64')"
      ]
     },
     "execution_count": 9,
     "metadata": {},
     "output_type": "execute_result"
    }
   ],
   "source": [
    "arr.dtype # 데이터 타입 / dtype('int64')출력 됨 int타입이고 64bit이다."
   ]
  },
  {
   "cell_type": "code",
   "execution_count": 10,
   "id": "3b6e4f68-a651-4034-9cb8-3d27e56ab663",
   "metadata": {},
   "outputs": [
    {
     "data": {
      "text/plain": [
       "numpy.ndarray"
      ]
     },
     "execution_count": 10,
     "metadata": {},
     "output_type": "execute_result"
    }
   ],
   "source": [
    "type(arr) \n",
    "# arr 안에 있는 형식의 타입이 나온다.\n",
    "# numpy.ndarray 출력_배열이기 때문에 int가 출력이 안나오고 numpy.ndarray이 나온다"
   ]
  },
  {
   "cell_type": "code",
   "execution_count": 11,
   "id": "1c3092e9-9ecf-47a5-8880-5b6e95d16197",
   "metadata": {},
   "outputs": [
    {
     "data": {
      "text/plain": [
       "numpy.int64"
      ]
     },
     "execution_count": 11,
     "metadata": {},
     "output_type": "execute_result"
    }
   ],
   "source": [
    "type(arr[0]) # numpy.int64 출력"
   ]
  },
  {
   "cell_type": "code",
   "execution_count": null,
   "id": "a91a5553-2eb4-4df3-89ff-06297bc61f48",
   "metadata": {},
   "outputs": [],
   "source": [
    "1MB = 100만 바이트\n",
    "1GB = 10억 바이트\n",
    "32GB = 320억 바이트\n",
    "320억 / 4 = 80억개 정수를 저장"
   ]
  },
  {
   "cell_type": "code",
   "execution_count": 12,
   "id": "bddaa2ff-8634-472a-9b06-62655671d2b8",
   "metadata": {},
   "outputs": [
    {
     "data": {
      "text/plain": [
       "dtype('<U6')"
      ]
     },
     "execution_count": 12,
     "metadata": {},
     "output_type": "execute_result"
    }
   ],
   "source": [
    "arr = np.array(['APPLE','CHERRY','BANNA'])\n",
    "arr.dtype\n",
    "# dtype('<U6') 출력\n",
    "# U의 의미는 unicod의미하며 영어권뿐만 아니라 모든언어에 대한 체계\n",
    "# 숫자 6은 최대 문자 길이를 나타낸다"
   ]
  },
  {
   "cell_type": "code",
   "execution_count": 18,
   "id": "62983658-1d9f-4b98-b26a-cd0424c5b853",
   "metadata": {},
   "outputs": [
    {
     "data": {
      "text/plain": [
       "dtype('float64')"
      ]
     },
     "execution_count": 18,
     "metadata": {},
     "output_type": "execute_result"
    }
   ],
   "source": [
    "arr = np.array([1,2,3], dtype = np.float64)\n",
    "arr.dtype\n",
    "# dtype('float64') 출력"
   ]
  },
  {
   "cell_type": "code",
   "execution_count": 19,
   "id": "a05e35fe-232d-4c71-9eb0-421159843e47",
   "metadata": {},
   "outputs": [
    {
     "data": {
      "text/plain": [
       "dtype('float16')"
      ]
     },
     "execution_count": 19,
     "metadata": {},
     "output_type": "execute_result"
    }
   ],
   "source": [
    "arr = np.array([1,2,3], dtype = np.float16)\n",
    "arr.dtype\n",
    "#dtype('float16') 출력"
   ]
  },
  {
   "cell_type": "code",
   "execution_count": 21,
   "id": "b813ca5d-be36-4b85-aada-653e19474035",
   "metadata": {},
   "outputs": [
    {
     "data": {
      "text/plain": [
       "dtype('int64')"
      ]
     },
     "execution_count": 21,
     "metadata": {},
     "output_type": "execute_result"
    }
   ],
   "source": [
    "arr = np.array([1,2,3], dtype = np.int64)\n",
    "arr.dtype\n",
    "# dtype('int64') 출력"
   ]
  },
  {
   "cell_type": "code",
   "execution_count": 23,
   "id": "6fc3b683-9bc6-4108-912c-fd19f0581674",
   "metadata": {},
   "outputs": [
    {
     "data": {
      "text/plain": [
       "dtype('int16')"
      ]
     },
     "execution_count": 23,
     "metadata": {},
     "output_type": "execute_result"
    }
   ],
   "source": [
    "arr = np.array([1,2,3], dtype = np.int16)\n",
    "arr.dtype\n",
    "#dtype('int16') 출력"
   ]
  },
  {
   "cell_type": "code",
   "execution_count": 24,
   "id": "f887ccad-5335-4d92-98d8-f3b1143039aa",
   "metadata": {},
   "outputs": [
    {
     "data": {
      "text/plain": [
       "dtype('float64')"
      ]
     },
     "execution_count": 24,
     "metadata": {},
     "output_type": "execute_result"
    }
   ],
   "source": [
    "arr = np.array([1,2,3], dtype = np.float64)\n",
    "arr.dtype\n",
    "# 64비트 float 수의 범위 = 4.9 *10의  324승~1.79*10의 308승\n",
    "# 32비트 float 수의 범위 = 1.9 *10의  45승~3.4*10의 38승\n",
    "\n",
    "# 32비트 int 수의 범위 = -21억~+21억\n",
    "# 64비트 int 수의 범위 = -922경~+922경\n",
    "\n",
    "# 넓은 범위에 수를 다루고 싶으면 int보다 float을 사용하는 것을 추천\n",
    "# "
   ]
  },
  {
   "cell_type": "code",
   "execution_count": 25,
   "id": "dd33e323-08f2-424c-b834-d3e9fd0f9aea",
   "metadata": {},
   "outputs": [
    {
     "data": {
      "text/plain": [
       "array([1., 2., 3.])"
      ]
     },
     "execution_count": 25,
     "metadata": {},
     "output_type": "execute_result"
    }
   ],
   "source": [
    "arr # array([1., 2., 3.]) 출력"
   ]
  },
  {
   "cell_type": "code",
   "execution_count": 27,
   "id": "efe255e1-4480-4f0c-bbee-536dbfb41ed9",
   "metadata": {},
   "outputs": [
    {
     "data": {
      "text/plain": [
       "array([1, 2, 3], dtype=int8)"
      ]
     },
     "execution_count": 27,
     "metadata": {},
     "output_type": "execute_result"
    }
   ],
   "source": [
    "arr = np.array([1,2,3], dtype = 'i1') # i 바이트 수\n",
    "arr\n",
    "# array([1, 2, 3], dtype=int8) 출력"
   ]
  },
  {
   "cell_type": "code",
   "execution_count": 29,
   "id": "be231956-35c2-458b-87f2-a751bd3411d5",
   "metadata": {},
   "outputs": [
    {
     "data": {
      "text/plain": [
       "array([1, 2, 3], dtype=int16)"
      ]
     },
     "execution_count": 29,
     "metadata": {},
     "output_type": "execute_result"
    }
   ],
   "source": [
    "arr = np.array([1,2,3], dtype = 'i2') # i 바이트 수\n",
    "arr\n",
    "# array([1, 2, 3], dtype=int6) 출력"
   ]
  },
  {
   "cell_type": "code",
   "execution_count": 31,
   "id": "4f0b72f6-79be-4da9-ad65-4a47296c1624",
   "metadata": {},
   "outputs": [
    {
     "data": {
      "text/plain": [
       "dtype('int64')"
      ]
     },
     "execution_count": 31,
     "metadata": {},
     "output_type": "execute_result"
    }
   ],
   "source": [
    "arr = np.array([1,2,3])\n",
    "arr\n",
    "arr.dtype"
   ]
  },
  {
   "cell_type": "code",
   "execution_count": 32,
   "id": "7050991d-d190-42f3-b184-455bd3059660",
   "metadata": {},
   "outputs": [
    {
     "data": {
      "text/plain": [
       "array([1., 2., 3.], dtype=float32)"
      ]
     },
     "execution_count": 32,
     "metadata": {},
     "output_type": "execute_result"
    }
   ],
   "source": [
    "# astype을 사용하여 타입 변경 가능\n",
    "farr = arr.astype(np.float32)\n",
    "farr\n",
    "#array([1., 2., 3.], dtype=float32) 출력 dot(.) 붙혀서 출력 됨"
   ]
  },
  {
   "cell_type": "code",
   "execution_count": 34,
   "id": "f7dbb04c-94e7-46d3-9822-b568fd3b512c",
   "metadata": {},
   "outputs": [
    {
     "data": {
      "text/plain": [
       "array([1., 2., 3.], dtype=float32)"
      ]
     },
     "execution_count": 34,
     "metadata": {},
     "output_type": "execute_result"
    }
   ],
   "source": [
    "farr2 = np.array([1,2,3,], dtype = np.float32)\n",
    "farr2 # array([1., 2., 3.], dtype=float32) 출력\n",
    "\n",
    "'''\n",
    "상황에 맞게 astype 및 np.array([1,2,3,], dtype = np.float32) 사용한다.\n",
    "'''"
   ]
  },
  {
   "cell_type": "code",
   "execution_count": 35,
   "id": "8e52eac8-6cf2-4546-b8e9-aca88453867e",
   "metadata": {},
   "outputs": [
    {
     "data": {
      "text/plain": [
       "array([1, 2, 3])"
      ]
     },
     "execution_count": 35,
     "metadata": {},
     "output_type": "execute_result"
    }
   ],
   "source": [
    "arr = np.array([1,2,3,])\n",
    "arr"
   ]
  },
  {
   "cell_type": "code",
   "execution_count": 37,
   "id": "542870fc-aeb0-4f1a-851f-c944ec54d9d6",
   "metadata": {},
   "outputs": [
    {
     "data": {
      "text/plain": [
       "[1, 2, '3']"
      ]
     },
     "execution_count": 37,
     "metadata": {},
     "output_type": "execute_result"
    }
   ],
   "source": [
    "myList = [1,2,'3']\n",
    "myList"
   ]
  },
  {
   "cell_type": "code",
   "execution_count": 39,
   "id": "0871e642-019f-46b9-9d83-1954c0caa0a0",
   "metadata": {},
   "outputs": [
    {
     "data": {
      "text/plain": [
       "int"
      ]
     },
     "execution_count": 39,
     "metadata": {},
     "output_type": "execute_result"
    }
   ],
   "source": [
    "type(myList) #list\n",
    "type(myList[0]) # int\n",
    "type(myList[2]) # str"
   ]
  },
  {
   "cell_type": "code",
   "execution_count": 40,
   "id": "3e811209-fe47-4f7c-abea-6bbebcd1be1f",
   "metadata": {},
   "outputs": [],
   "source": [
    "imyList = [1,2,3]\n",
    "cmyList = [1,2,'3']"
   ]
  },
  {
   "cell_type": "code",
   "execution_count": 41,
   "id": "774c8827-58ca-422f-9c89-699f952d3285",
   "metadata": {},
   "outputs": [
    {
     "data": {
      "text/plain": [
       "array([1, 2, 3])"
      ]
     },
     "execution_count": 41,
     "metadata": {},
     "output_type": "execute_result"
    }
   ],
   "source": [
    "np.array(imyList)\n",
    "# array([1, 2, 3]) 출력"
   ]
  },
  {
   "cell_type": "code",
   "execution_count": 42,
   "id": "e8ca42aa-9f6d-4331-b979-ab04c1ae6a3c",
   "metadata": {},
   "outputs": [
    {
     "data": {
      "text/plain": [
       "array(['1', '2', '3'], dtype='<U21')"
      ]
     },
     "execution_count": 42,
     "metadata": {},
     "output_type": "execute_result"
    }
   ],
   "source": [
    "np.array(cmyList)\n",
    "# array(['1', '2', '3'], dtype='<U21') 출력\n",
    "# 일괄적으로 문자열로 변경 됨\n",
    "# 배열 : 동일한 타입(크기도 같고)의 데이터를 여러개 나열한 것"
   ]
  },
  {
   "cell_type": "code",
   "execution_count": 43,
   "id": "0a224cfa-70b4-409d-a306-b6e279646eb6",
   "metadata": {},
   "outputs": [],
   "source": [
    "arr1 = np.array(list(range(10,14))).reshape(2,2)\n",
    "arr2 = np.array(list(range(10,14))).reshape(2,2)"
   ]
  },
  {
   "cell_type": "code",
   "execution_count": 44,
   "id": "c6795854-1008-462e-b2f9-d05029f6400b",
   "metadata": {},
   "outputs": [
    {
     "data": {
      "text/plain": [
       "array([[10, 11],\n",
       "       [12, 13]])"
      ]
     },
     "execution_count": 44,
     "metadata": {},
     "output_type": "execute_result"
    }
   ],
   "source": [
    "arr1\n",
    "arr2\n",
    "#array([[10, 11],\n",
    "#      [12, 13]])"
   ]
  },
  {
   "cell_type": "code",
   "execution_count": 45,
   "id": "78749871-cdde-4374-bb09-bd57581ee9ac",
   "metadata": {},
   "outputs": [
    {
     "data": {
      "text/plain": [
       "array([[0, 0],\n",
       "       [0, 0]])"
      ]
     },
     "execution_count": 45,
     "metadata": {},
     "output_type": "execute_result"
    }
   ],
   "source": [
    "arr1-arr2\n",
    "#array([[0, 0],\n",
    "#      [0, 0]])"
   ]
  },
  {
   "cell_type": "code",
   "execution_count": 46,
   "id": "b7b8bce3-9ffd-4458-bc7e-843281baf2b5",
   "metadata": {},
   "outputs": [
    {
     "data": {
      "text/plain": [
       "array([[20, 22],\n",
       "       [24, 26]])"
      ]
     },
     "execution_count": 46,
     "metadata": {},
     "output_type": "execute_result"
    }
   ],
   "source": [
    "arr1*2 #숫자와 연산을 할때는 모든 항목에 동일한 연산\n",
    "#array([[20, 22],\n",
    "#      [24, 26]])"
   ]
  },
  {
   "cell_type": "code",
   "execution_count": 47,
   "id": "89cb6b1c-3092-4daa-a3f8-f7885783be69",
   "metadata": {},
   "outputs": [
    {
     "data": {
      "text/plain": [
       "array([[100, 121],\n",
       "       [144, 169]])"
      ]
     },
     "execution_count": 47,
     "metadata": {},
     "output_type": "execute_result"
    }
   ],
   "source": [
    "arr1*arr2 # 주의 : 행렬의 곱셈(mtrix mutiply,matmul)이 아님\n",
    "#요소간 곱셈(element-wise product)\n",
    "#array([[100, 121],\n",
    "#      [144, 169]])"
   ]
  },
  {
   "cell_type": "code",
   "execution_count": 48,
   "id": "1d076625-77cd-41a8-a5b4-13d7955dab5b",
   "metadata": {},
   "outputs": [
    {
     "data": {
      "text/plain": [
       "array([[10, 11],\n",
       "       [12, 13]])"
      ]
     },
     "execution_count": 48,
     "metadata": {},
     "output_type": "execute_result"
    }
   ],
   "source": [
    "arr1=np.array(list(range(10,14))).reshape(2,2)\n",
    "arr1"
   ]
  },
  {
   "cell_type": "code",
   "execution_count": 49,
   "id": "2c5b79af-b64e-4384-9593-45a20ae3c478",
   "metadata": {},
   "outputs": [
    {
     "data": {
      "text/plain": [
       "array([[13, 14],\n",
       "       [15, 16]])"
      ]
     },
     "execution_count": 49,
     "metadata": {},
     "output_type": "execute_result"
    }
   ],
   "source": [
    "arr2=np.array(list(range(13,17))).reshape(2,2)\n",
    "arr2"
   ]
  },
  {
   "cell_type": "code",
   "execution_count": 50,
   "id": "d749955d-a0ed-448d-ac0c-8d7347f47373",
   "metadata": {},
   "outputs": [
    {
     "data": {
      "text/plain": [
       "array([[False, False],\n",
       "       [False, False]])"
      ]
     },
     "execution_count": 50,
     "metadata": {},
     "output_type": "execute_result"
    }
   ],
   "source": [
    "# 사칙연산뿐만 아니라 비교연산 가능\n",
    "arr1>arr2\n",
    "#array([[False, False],\n",
    "#      [False, False]])"
   ]
  },
  {
   "cell_type": "code",
   "execution_count": 51,
   "id": "c688e62a-ea73-4512-b080-f143952e637b",
   "metadata": {},
   "outputs": [
    {
     "data": {
      "text/plain": [
       "array([[ True,  True],\n",
       "       [ True,  True]])"
      ]
     },
     "execution_count": 51,
     "metadata": {},
     "output_type": "execute_result"
    }
   ],
   "source": [
    "arr1<arr2\n",
    "#array([[ True,  True],\n",
    "#      [ True,  True]])"
   ]
  },
  {
   "cell_type": "code",
   "execution_count": 52,
   "id": "ff811d5b-687c-4234-b355-ed7b67c8de32",
   "metadata": {},
   "outputs": [
    {
     "data": {
      "text/plain": [
       "array([[ True,  True],\n",
       "       [ True,  True]])"
      ]
     },
     "execution_count": 52,
     "metadata": {},
     "output_type": "execute_result"
    }
   ],
   "source": [
    "~(arr1 == arr2) # ~는 not 연산자\n",
    "# array([[ True,  True],\n",
    "#      [ True,  True]])"
   ]
  },
  {
   "cell_type": "code",
   "execution_count": 53,
   "id": "dc6eb61c-4e8b-4b01-a1aa-d3bddbb4a10c",
   "metadata": {},
   "outputs": [
    {
     "data": {
      "text/plain": [
       "array([[ True,  True],\n",
       "       [ True,  True]])"
      ]
     },
     "execution_count": 53,
     "metadata": {},
     "output_type": "execute_result"
    }
   ],
   "source": [
    "arr1!= arr2 #같지않다 !=\n",
    "#array([[ True,  True],\n",
    "#      [ True,  True]])"
   ]
  },
  {
   "cell_type": "code",
   "execution_count": 55,
   "id": "11073543-96ed-47d0-90be-d3e4c9fea1c0",
   "metadata": {},
   "outputs": [
    {
     "data": {
      "text/plain": [
       "array([[False, False],\n",
       "       [False, False]])"
      ]
     },
     "execution_count": 55,
     "metadata": {},
     "output_type": "execute_result"
    }
   ],
   "source": [
    "~(arr1 != arr2)\n",
    "# array([[False, False],\n",
    "#      [False, False]])"
   ]
  },
  {
   "cell_type": "code",
   "execution_count": 54,
   "id": "4f912e3f-bf0f-49e0-82cb-960b04ec8660",
   "metadata": {},
   "outputs": [
    {
     "data": {
      "text/plain": [
       "array([[ True,  True],\n",
       "       [ True,  True]])"
      ]
     },
     "execution_count": 54,
     "metadata": {},
     "output_type": "execute_result"
    }
   ],
   "source": [
    "(~(arr1 == arr2) | ~(arr1 != arr2))\n",
    "#                OR\n",
    "#OR 연선저는 둘 중 하나 이상이 TRUE면 TRUE 출력"
   ]
  },
  {
   "cell_type": "code",
   "execution_count": 56,
   "id": "db23ba08-7a76-4db0-895c-19bf021534b2",
   "metadata": {},
   "outputs": [
    {
     "data": {
      "text/plain": [
       "array([0, 1, 2, 3, 4, 5, 6, 7])"
      ]
     },
     "execution_count": 56,
     "metadata": {},
     "output_type": "execute_result"
    }
   ],
   "source": [
    "# arange는 배열 만들 때 쉽게 만들 수 있음\n",
    "np.arange(8) #np.array(list(range(8))와 같은 코드"
   ]
  },
  {
   "cell_type": "code",
   "execution_count": 57,
   "id": "81d1b6aa-0f94-472c-a119-027979f5bc5c",
   "metadata": {},
   "outputs": [
    {
     "data": {
      "text/plain": [
       "array([[[0, 1],\n",
       "        [2, 3]],\n",
       "\n",
       "       [[4, 5],\n",
       "        [6, 7]]])"
      ]
     },
     "execution_count": 57,
     "metadata": {},
     "output_type": "execute_result"
    }
   ],
   "source": [
    "np.arange(8).reshape(2,2,2)"
   ]
  },
  {
   "cell_type": "code",
   "execution_count": 58,
   "id": "5528338d-4a04-4b59-827e-11bce4ce3d1b",
   "metadata": {},
   "outputs": [
    {
     "data": {
      "text/plain": [
       "array([[0, 1],\n",
       "       [2, 3],\n",
       "       [4, 5],\n",
       "       [6, 7]])"
      ]
     },
     "execution_count": 58,
     "metadata": {},
     "output_type": "execute_result"
    }
   ],
   "source": [
    "np.arange(8).reshape(4,2)"
   ]
  },
  {
   "cell_type": "code",
   "execution_count": 62,
   "id": "fb47c4dc-1fc8-4ee0-99f6-9a6c801e852e",
   "metadata": {},
   "outputs": [
    {
     "data": {
      "text/plain": [
       "array([[[ 1,  2,  3,  4],\n",
       "        [ 5,  6,  7,  8],\n",
       "        [ 9, 10, 11, 12]],\n",
       "\n",
       "       [[13, 14, 15, 16],\n",
       "        [17, 18, 19, 20],\n",
       "        [21, 22, 23, 24]]])"
      ]
     },
     "execution_count": 62,
     "metadata": {},
     "output_type": "execute_result"
    }
   ],
   "source": [
    "#1-24까지의 값,2*3*4 행렬\n",
    "# arange / array 2가지를 사용하여 만들기\n",
    "\n",
    "np.arange(1,25).reshape(2,3,4)\n",
    "np.array(list(range(1,25))).reshape(2,3,4)"
   ]
  },
  {
   "cell_type": "code",
   "execution_count": 63,
   "id": "fb4b3249-d8df-4f9c-b5e7-fec42e1e87c4",
   "metadata": {},
   "outputs": [
    {
     "data": {
      "text/plain": [
       "(4, 50)"
      ]
     },
     "execution_count": 63,
     "metadata": {},
     "output_type": "execute_result"
    }
   ],
   "source": [
    "data = np.arange(200)\n",
    "data\n",
    "data2 = data.reshape(4,-1)\n",
    "data2.shape # (4, 50) 출력"
   ]
  },
  {
   "cell_type": "code",
   "execution_count": 67,
   "id": "cda64949-7e80-46ae-affc-5686ac542cc6",
   "metadata": {},
   "outputs": [
    {
     "ename": "ValueError",
     "evalue": "cannot reshape array of size 200 into shape (6,newaxis)",
     "output_type": "error",
     "traceback": [
      "\u001b[0;31m---------------------------------------------------------------------------\u001b[0m",
      "\u001b[0;31mValueError\u001b[0m                                Traceback (most recent call last)",
      "Cell \u001b[0;32mIn[67], line 1\u001b[0m\n\u001b[0;32m----> 1\u001b[0m data3 \u001b[38;5;241m=\u001b[39m \u001b[43mdata\u001b[49m\u001b[38;5;241;43m.\u001b[39;49m\u001b[43mreshape\u001b[49m\u001b[43m(\u001b[49m\u001b[38;5;241;43m6\u001b[39;49m\u001b[43m,\u001b[49m\u001b[38;5;241;43m-\u001b[39;49m\u001b[38;5;241;43m1\u001b[39;49m\u001b[43m)\u001b[49m\n\u001b[1;32m      2\u001b[0m data3 \u001b[38;5;66;03m# Error 출력\u001b[39;00m\n\u001b[1;32m      3\u001b[0m       \u001b[38;5;66;03m# AttributeError: 'numpy.ndarray' object has no attribute 'reshaoe'\u001b[39;00m\n",
      "\u001b[0;31mValueError\u001b[0m: cannot reshape array of size 200 into shape (6,newaxis)"
     ]
    }
   ],
   "source": [
    "data3 = data.reshape(6,-1)\n",
    "data3 # Error 출력\n",
    "      # ValueError: cannot reshape array of size 200 into shape (6,newaxis)\n",
    "      # 6의 약수가 아니라서 Error가 출력됨"
   ]
  },
  {
   "cell_type": "code",
   "execution_count": 68,
   "id": "b23c567b-5d56-43b7-aa26-b588da5758ad",
   "metadata": {},
   "outputs": [
    {
     "data": {
      "text/plain": [
       "array([[  0,   1,   2,   3,   4,   5,   6,   7,   8,   9],\n",
       "       [ 10,  11,  12,  13,  14,  15,  16,  17,  18,  19],\n",
       "       [ 20,  21,  22,  23,  24,  25,  26,  27,  28,  29],\n",
       "       [ 30,  31,  32,  33,  34,  35,  36,  37,  38,  39],\n",
       "       [ 40,  41,  42,  43,  44,  45,  46,  47,  48,  49],\n",
       "       [ 50,  51,  52,  53,  54,  55,  56,  57,  58,  59],\n",
       "       [ 60,  61,  62,  63,  64,  65,  66,  67,  68,  69],\n",
       "       [ 70,  71,  72,  73,  74,  75,  76,  77,  78,  79],\n",
       "       [ 80,  81,  82,  83,  84,  85,  86,  87,  88,  89],\n",
       "       [ 90,  91,  92,  93,  94,  95,  96,  97,  98,  99],\n",
       "       [100, 101, 102, 103, 104, 105, 106, 107, 108, 109],\n",
       "       [110, 111, 112, 113, 114, 115, 116, 117, 118, 119],\n",
       "       [120, 121, 122, 123, 124, 125, 126, 127, 128, 129],\n",
       "       [130, 131, 132, 133, 134, 135, 136, 137, 138, 139],\n",
       "       [140, 141, 142, 143, 144, 145, 146, 147, 148, 149],\n",
       "       [150, 151, 152, 153, 154, 155, 156, 157, 158, 159],\n",
       "       [160, 161, 162, 163, 164, 165, 166, 167, 168, 169],\n",
       "       [170, 171, 172, 173, 174, 175, 176, 177, 178, 179],\n",
       "       [180, 181, 182, 183, 184, 185, 186, 187, 188, 189],\n",
       "       [190, 191, 192, 193, 194, 195, 196, 197, 198, 199]])"
      ]
     },
     "execution_count": 68,
     "metadata": {},
     "output_type": "execute_result"
    }
   ],
   "source": [
    "data4 = data.reshape(-1,10)\n",
    "data4"
   ]
  },
  {
   "cell_type": "code",
   "execution_count": 71,
   "id": "9a9195c2-2ef1-4c88-a2a4-4fe94b57a545",
   "metadata": {},
   "outputs": [
    {
     "data": {
      "text/plain": [
       "array([[[  0,   1,   2,   3,   4,   5,   6,   7,   8,   9],\n",
       "        [ 10,  11,  12,  13,  14,  15,  16,  17,  18,  19],\n",
       "        [ 20,  21,  22,  23,  24,  25,  26,  27,  28,  29],\n",
       "        [ 30,  31,  32,  33,  34,  35,  36,  37,  38,  39],\n",
       "        [ 40,  41,  42,  43,  44,  45,  46,  47,  48,  49]],\n",
       "\n",
       "       [[ 50,  51,  52,  53,  54,  55,  56,  57,  58,  59],\n",
       "        [ 60,  61,  62,  63,  64,  65,  66,  67,  68,  69],\n",
       "        [ 70,  71,  72,  73,  74,  75,  76,  77,  78,  79],\n",
       "        [ 80,  81,  82,  83,  84,  85,  86,  87,  88,  89],\n",
       "        [ 90,  91,  92,  93,  94,  95,  96,  97,  98,  99]],\n",
       "\n",
       "       [[100, 101, 102, 103, 104, 105, 106, 107, 108, 109],\n",
       "        [110, 111, 112, 113, 114, 115, 116, 117, 118, 119],\n",
       "        [120, 121, 122, 123, 124, 125, 126, 127, 128, 129],\n",
       "        [130, 131, 132, 133, 134, 135, 136, 137, 138, 139],\n",
       "        [140, 141, 142, 143, 144, 145, 146, 147, 148, 149]],\n",
       "\n",
       "       [[150, 151, 152, 153, 154, 155, 156, 157, 158, 159],\n",
       "        [160, 161, 162, 163, 164, 165, 166, 167, 168, 169],\n",
       "        [170, 171, 172, 173, 174, 175, 176, 177, 178, 179],\n",
       "        [180, 181, 182, 183, 184, 185, 186, 187, 188, 189],\n",
       "        [190, 191, 192, 193, 194, 195, 196, 197, 198, 199]]])"
      ]
     },
     "execution_count": 71,
     "metadata": {},
     "output_type": "execute_result"
    }
   ],
   "source": [
    "data.reshape(-1,5,10) # 4*5*10 배열로 출력\n",
    "data.reshape(4,-1,10) # 4*5*10 배열로 출력"
   ]
  },
  {
   "cell_type": "code",
   "execution_count": 74,
   "id": "4d8f47e0-f8ae-4c9f-b0be-7cbd6b535574",
   "metadata": {},
   "outputs": [
    {
     "data": {
      "text/plain": [
       "array([[10, 12, 14, 16],\n",
       "       [18, 20, 22, 24],\n",
       "       [26, 28, 30, 32]])"
      ]
     },
     "execution_count": 74,
     "metadata": {},
     "output_type": "execute_result"
    }
   ],
   "source": [
    "# 2차원 배열 생성\n",
    "# 10부터 시작하여 2씩 증가시켜 값으로 초기화\n",
    "# shape은 3행 4열\n",
    "np.arange(10,34,2).reshape(3,4)\n",
    "np.array(list(range(10,34,2))).reshape(3,4)"
   ]
  },
  {
   "cell_type": "code",
   "execution_count": 76,
   "id": "09cc7fb5-5b16-4c1a-a30f-27f8d36f2182",
   "metadata": {},
   "outputs": [
    {
     "data": {
      "text/plain": [
       "array([[10, 12, 14, 16],\n",
       "       [18, 20, 22, 24],\n",
       "       [26, 28, 30, 32]])"
      ]
     },
     "execution_count": 76,
     "metadata": {},
     "output_type": "execute_result"
    }
   ],
   "source": [
    "np.arange(10,34,2).reshape(3,4)"
   ]
  },
  {
   "cell_type": "code",
   "execution_count": 79,
   "id": "8a7c4cd4-6660-4f95-9219-64265c54912b",
   "metadata": {},
   "outputs": [],
   "source": [
    "# 불린참조(팬시)\n",
    "# 사용 빈도 많으므로 자세히 알고 있으면 유용하다.\n",
    "\n",
    "arr = np.array([1,2,3,4]) #데이터 저장된 배열\n",
    "idx = np.array([True,False,False,True]) # 불린 저장된 배열"
   ]
  },
  {
   "cell_type": "code",
   "execution_count": 80,
   "id": "58cf9034-9702-407a-a687-986c02897fea",
   "metadata": {},
   "outputs": [
    {
     "data": {
      "text/plain": [
       "array([1, 4])"
      ]
     },
     "execution_count": 80,
     "metadata": {},
     "output_type": "execute_result"
    }
   ],
   "source": [
    "arr[idx] # array([1, 4]) 출력\n",
    "# True 대응하는 값만 출력된다."
   ]
  },
  {
   "cell_type": "code",
   "execution_count": 83,
   "id": "822f12fd-6e0a-47af-8b8f-bb0519258110",
   "metadata": {},
   "outputs": [
    {
     "ename": "IndexError",
     "evalue": "boolean index did not match indexed array along dimension 0; dimension is 4 but corresponding boolean dimension is 5",
     "output_type": "error",
     "traceback": [
      "\u001b[0;31m---------------------------------------------------------------------------\u001b[0m",
      "\u001b[0;31mIndexError\u001b[0m                                Traceback (most recent call last)",
      "Cell \u001b[0;32mIn[83], line 3\u001b[0m\n\u001b[1;32m      1\u001b[0m arr \u001b[38;5;241m=\u001b[39m np\u001b[38;5;241m.\u001b[39marray([\u001b[38;5;241m1\u001b[39m,\u001b[38;5;241m2\u001b[39m,\u001b[38;5;241m3\u001b[39m,\u001b[38;5;241m4\u001b[39m]) \u001b[38;5;66;03m#데이터 저장된 배열\u001b[39;00m\n\u001b[1;32m      2\u001b[0m idx \u001b[38;5;241m=\u001b[39m np\u001b[38;5;241m.\u001b[39marray([\u001b[38;5;28;01mTrue\u001b[39;00m,\u001b[38;5;28;01mTrue\u001b[39;00m,\u001b[38;5;28;01mFalse\u001b[39;00m,\u001b[38;5;28;01mFalse\u001b[39;00m,\u001b[38;5;28;01mTrue\u001b[39;00m]) \u001b[38;5;66;03m# 불린 저장된 배열\u001b[39;00m\n\u001b[0;32m----> 3\u001b[0m \u001b[43marr\u001b[49m\u001b[43m[\u001b[49m\u001b[43midx\u001b[49m\u001b[43m]\u001b[49m \u001b[38;5;66;03m# Error\u001b[39;00m\n\u001b[1;32m      4\u001b[0m \u001b[38;5;66;03m# 갯수가 다르므로 Error가 나옴\u001b[39;00m\n",
      "\u001b[0;31mIndexError\u001b[0m: boolean index did not match indexed array along dimension 0; dimension is 4 but corresponding boolean dimension is 5"
     ]
    }
   ],
   "source": [
    "arr = np.array([1,2,3,4]) #데이터 저장된 배열\n",
    "idx = np.array([True,True,False,False,True]) # 불린 저장된 배열\n",
    "arr[idx] # Error\n",
    "# 갯수가 다르므로 Error가 나옴"
   ]
  },
  {
   "cell_type": "code",
   "execution_count": 84,
   "id": "e3c31a5a-94e0-4cc1-9d03-a2c643de92c4",
   "metadata": {},
   "outputs": [
    {
     "data": {
      "text/plain": [
       "1"
      ]
     },
     "execution_count": 84,
     "metadata": {},
     "output_type": "execute_result"
    }
   ],
   "source": [
    "np.min(arr) # 최소값인 1 출력\n",
    "np.max(arr) # 최댓값인 4 출력"
   ]
  },
  {
   "cell_type": "code",
   "execution_count": 88,
   "id": "d2c3ba99-38a9-42d3-b09f-c2cd31eb3b16",
   "metadata": {},
   "outputs": [
    {
     "data": {
      "text/plain": [
       "array([ True, False, False, False])"
      ]
     },
     "execution_count": 88,
     "metadata": {},
     "output_type": "execute_result"
    }
   ],
   "source": [
    "arr == 1\n",
    "# array([ True, False, False, False]) 출력"
   ]
  },
  {
   "cell_type": "code",
   "execution_count": 91,
   "id": "c2065bdc-e920-475e-96e7-a06ab7b53725",
   "metadata": {},
   "outputs": [
    {
     "data": {
      "text/plain": [
       "array([False, False, False,  True])"
      ]
     },
     "execution_count": 91,
     "metadata": {},
     "output_type": "execute_result"
    }
   ],
   "source": [
    "arr == 4\n",
    "# array([False, False, False,  True]) 출력"
   ]
  },
  {
   "cell_type": "code",
   "execution_count": 89,
   "id": "f3f5fe5a-538f-4200-94ce-e98606761a01",
   "metadata": {},
   "outputs": [
    {
     "name": "stdout",
     "output_type": "stream",
     "text": [
      "True\n",
      "False\n",
      "False\n",
      "False\n"
     ]
    }
   ],
   "source": [
    "#python List 버전\n",
    "myList = [1,2,3,4]\n",
    "for i in myList:\n",
    "    if i ==1:\n",
    "        print(True)\n",
    "    else:\n",
    "        print(False)\n",
    "# 불필요하게 길게 할 필요가 없고 불린참조 사용"
   ]
  },
  {
   "cell_type": "code",
   "execution_count": 93,
   "id": "4f6b38b2-2b9d-4d08-96c5-1c433483a358",
   "metadata": {},
   "outputs": [
    {
     "data": {
      "text/plain": [
       "array([ True, False, False,  True])"
      ]
     },
     "execution_count": 93,
     "metadata": {},
     "output_type": "execute_result"
    }
   ],
   "source": [
    "(arr == np.min(arr)) | (arr == np.max(arr))\n",
    "# array([ True, False, False,  True]) 출력"
   ]
  },
  {
   "cell_type": "code",
   "execution_count": 94,
   "id": "00bff98d-8164-4a21-bec8-971775e7e270",
   "metadata": {},
   "outputs": [
    {
     "data": {
      "text/plain": [
       "array([1, 4])"
      ]
     },
     "execution_count": 94,
     "metadata": {},
     "output_type": "execute_result"
    }
   ],
   "source": [
    "arr[(arr == np.min(arr)) | (arr == np.max(arr))]\n",
    "# array([1, 4]) 출력"
   ]
  },
  {
   "cell_type": "code",
   "execution_count": 97,
   "id": "c8cbc41e-1341-4d39-9731-b30cd131ef3b",
   "metadata": {},
   "outputs": [
    {
     "data": {
      "text/plain": [
       "array([11, 12, 13, 14, 15, 16, 17, 18, 19, 20])"
      ]
     },
     "execution_count": 97,
     "metadata": {},
     "output_type": "execute_result"
    }
   ],
   "source": [
    "# 11~20까지의 수가 저장된 배열 arr 생성\n",
    "arr = np.arange(11,21)"
   ]
  },
  {
   "cell_type": "code",
   "execution_count": 98,
   "id": "417faee6-5c29-4557-87d4-63ce17252396",
   "metadata": {},
   "outputs": [
    {
     "data": {
      "text/plain": [
       "array([1, 0, 1, 0, 1, 0, 1, 0, 1, 0])"
      ]
     },
     "execution_count": 98,
     "metadata": {},
     "output_type": "execute_result"
    }
   ],
   "source": [
    "arr % 2\n",
    "# 2를 나눈 나머지 출력\n",
    "# array([1, 0, 1, 0, 1, 0, 1, 0, 1, 0]) 출력"
   ]
  },
  {
   "cell_type": "code",
   "execution_count": 99,
   "id": "1e39178a-eaa9-4803-87dd-0484f7ccc8bb",
   "metadata": {},
   "outputs": [
    {
     "data": {
      "text/plain": [
       "array([False,  True, False,  True, False,  True, False,  True, False,\n",
       "        True])"
      ]
     },
     "execution_count": 99,
     "metadata": {},
     "output_type": "execute_result"
    }
   ],
   "source": [
    "arr % 2 == 0\n",
    "# 2를 나눠서 0이면 True 아니면 False 출력\n",
    "# array([False,  True, False,  True, False,  True, False,  True, False, True]) 출력"
   ]
  },
  {
   "cell_type": "code",
   "execution_count": 100,
   "id": "c26d5299-62ef-4ad8-aaae-e08a06dd39f4",
   "metadata": {},
   "outputs": [
    {
     "data": {
      "text/plain": [
       "array([12, 14, 16, 18, 20])"
      ]
     },
     "execution_count": 100,
     "metadata": {},
     "output_type": "execute_result"
    }
   ],
   "source": [
    "arr[arr % 2 == 0]\n",
    "# 2를 나눈 수중 0이 나오는 수만 출력\n",
    "# array([12, 14, 16, 18, 20]) 출력"
   ]
  },
  {
   "cell_type": "code",
   "execution_count": 101,
   "id": "fdf4e053-a385-4178-8109-687689073d9b",
   "metadata": {},
   "outputs": [
    {
     "data": {
      "text/plain": [
       "array([11, 12, 13, 14, 15, 16, 17, 18, 19, 20])"
      ]
     },
     "execution_count": 101,
     "metadata": {},
     "output_type": "execute_result"
    }
   ],
   "source": [
    "arr"
   ]
  },
  {
   "cell_type": "code",
   "execution_count": 106,
   "id": "b32238f2-c34e-42f1-83fc-03978664e970",
   "metadata": {},
   "outputs": [
    {
     "data": {
      "text/plain": [
       "array([12, 14])"
      ]
     },
     "execution_count": 106,
     "metadata": {},
     "output_type": "execute_result"
    }
   ],
   "source": [
    "arr[1]\n",
    "\n",
    "arr[1,3] # Error 나옴 / Error내용 : IndexError: too many indices for array: array is 1-dimensional, but 2 were indexed\n",
    "         # 배열은 1차원인데 출력하고자하는 코드는 2차원이라 Error 나옴\n",
    "\n",
    "arr[np.array([1,3])] # 위 코드는 틀린 코드이고 현위치의 코드는 옳은 코드이다\n",
    "                     # array([12, 14]) 출력\n",
    "\n",
    "# 추후 출력해 보기\n",
    "arr[np.array([1,3,5,7,9])]\n",
    "arr[np.array([1,3,5,7,9,9,9,9,9,9])]"
   ]
  },
  {
   "cell_type": "code",
   "execution_count": 107,
   "id": "984a7248-c8d4-4906-b6b5-e2ce1ddd459c",
   "metadata": {},
   "outputs": [],
   "source": [
    "idx = np.array([0,0,0,1,1,1,3,3,3,])"
   ]
  },
  {
   "cell_type": "code",
   "execution_count": 108,
   "id": "72190a64-63fa-45e8-ab26-5342e7195aa3",
   "metadata": {},
   "outputs": [
    {
     "data": {
      "text/plain": [
       "array([11, 11, 11, 12, 12, 12, 14, 14, 14])"
      ]
     },
     "execution_count": 108,
     "metadata": {},
     "output_type": "execute_result"
    }
   ],
   "source": [
    "arr[idx] # array([11, 11, 11, 12, 12, 12, 14, 14, 14]) 출력"
   ]
  },
  {
   "cell_type": "code",
   "execution_count": 109,
   "id": "cf7ce4a7-b387-4284-9a91-3a0e0714eaec",
   "metadata": {},
   "outputs": [
    {
     "data": {
      "text/plain": [
       "array([[10, 11, 12, 13, 14, 15],\n",
       "       [16, 17, 18, 19, 20, 21],\n",
       "       [22, 23, 24, 25, 26, 27],\n",
       "       [28, 29, 30, 31, 32, 33],\n",
       "       [34, 35, 36, 37, 38, 39]])"
      ]
     },
     "execution_count": 109,
     "metadata": {},
     "output_type": "execute_result"
    }
   ],
   "source": [
    "arr = np.arange(10,40).reshape(5,-1)\n",
    "arr"
   ]
  },
  {
   "cell_type": "code",
   "execution_count": 112,
   "id": "29e00dbe-99fc-4695-9aa3-93ca44b77c48",
   "metadata": {},
   "outputs": [
    {
     "data": {
      "text/plain": [
       "array([[10, 11, 12, 13, 14, 15],\n",
       "       [16, 17, 18, 19, 20, 21],\n",
       "       [22, 23, 24, 25, 26, 27],\n",
       "       [28, 29, 30, 31, 32, 33],\n",
       "       [34, 35, 36, 37, 38, 39]])"
      ]
     },
     "execution_count": 112,
     "metadata": {},
     "output_type": "execute_result"
    }
   ],
   "source": [
    "arr[:] # 전체행 출력\n",
    "arr[:,:] #전체행에 대해 전체열을 추출"
   ]
  },
  {
   "cell_type": "code",
   "execution_count": 113,
   "id": "18fda298-9aef-45e5-91b1-a20177c0b6c5",
   "metadata": {},
   "outputs": [
    {
     "data": {
      "text/plain": [
       "array([[10, 11, 12],\n",
       "       [16, 17, 18],\n",
       "       [22, 23, 24],\n",
       "       [28, 29, 30],\n",
       "       [34, 35, 36]])"
      ]
     },
     "execution_count": 113,
     "metadata": {},
     "output_type": "execute_result"
    }
   ],
   "source": [
    "arr[:,[True,True,True,False,False,False]] # 아래와 같이 출력 됨 \n",
    "# array([[10, 11, 12],\n",
    "#        [16, 17, 18],\n",
    "#        [22, 23, 24],\n",
    "#        [28, 29, 30],\n",
    "#        [34, 35, 36]])"
   ]
  },
  {
   "cell_type": "code",
   "execution_count": 116,
   "id": "cd8c7a50-0dfa-462c-8250-3731df790353",
   "metadata": {},
   "outputs": [
    {
     "data": {
      "text/plain": [
       "array([[10, 11, 12],\n",
       "       [16, 17, 18],\n",
       "       [22, 23, 24],\n",
       "       [28, 29, 30],\n",
       "       [34, 35, 36]])"
      ]
     },
     "execution_count": 116,
     "metadata": {},
     "output_type": "execute_result"
    }
   ],
   "source": [
    "# 위에 코드와 같은 결과인데 다른 버전의 코드\n",
    "idx = np.array([True,True,True,False,False,False])\n",
    "idx\n",
    "arr[:,idx]"
   ]
  },
  {
   "cell_type": "code",
   "execution_count": 120,
   "id": "52883dfe-c2ba-49cc-8c07-ad0aaeef1dfd",
   "metadata": {},
   "outputs": [
    {
     "data": {
      "text/plain": [
       "array([[10, 12, 14],\n",
       "       [16, 18, 20],\n",
       "       [22, 24, 26],\n",
       "       [28, 30, 32],\n",
       "       [34, 36, 38]])"
      ]
     },
     "execution_count": 120,
     "metadata": {},
     "output_type": "execute_result"
    }
   ],
   "source": [
    "#arr에서 1(10~),3(12~),5(14~)번째 열을 출력하시오.\n",
    "arr[:, idx]\n",
    "arr[:, [0, 2, 4]]\n",
    "arr[:, np.array([0, 2, 4])]\n",
    "arr[:, np.arange(0, 5, 2)]\n",
    "#4가지 코드는 동일한 결과가 출력됨"
   ]
  },
  {
   "cell_type": "code",
   "execution_count": 122,
   "id": "a8fecba2-e79b-427c-aa18-a8eb29c3a515",
   "metadata": {},
   "outputs": [
    {
     "data": {
      "text/plain": [
       "array([[14, 11, 13, 10],\n",
       "       [20, 17, 19, 16],\n",
       "       [26, 23, 25, 22],\n",
       "       [32, 29, 31, 28],\n",
       "       [38, 35, 37, 34]])"
      ]
     },
     "execution_count": 122,
     "metadata": {},
     "output_type": "execute_result"
    }
   ],
   "source": [
    "arr[:,[4,1,3,0]] # 순서를 바뀜\n",
    "# array([[14, 11, 13, 10],\n",
    "#        [20, 17, 19, 16],\n",
    "#        [26, 23, 25, 22],\n",
    "#        [32, 29, 31, 28],\n",
    "#        [38, 35, 37, 34]])"
   ]
  },
  {
   "cell_type": "code",
   "execution_count": 124,
   "id": "8dacbc9f-b2d7-4e5f-8a49-5930a643ede2",
   "metadata": {},
   "outputs": [
    {
     "data": {
      "text/plain": [
       "array([[22, 23, 24, 25, 26, 27],\n",
       "       [16, 17, 18, 19, 20, 21],\n",
       "       [28, 29, 30, 31, 32, 33]])"
      ]
     },
     "execution_count": 124,
     "metadata": {},
     "output_type": "execute_result"
    }
   ],
   "source": [
    "# arr에서 3번째 행, 2번째 행, 4번째행 순서로 데이터를 출력하시오.\n",
    "arr[[2,1,3]] # 헹과 열을 구분하는 컴마가 생략되었을 경우에는 행 추출\n",
    "# array([[22, 23, 24, 25, 26, 27],\n",
    "#        [16, 17, 18, 19, 20, 21],\n",
    "#        [28, 29, 30, 31, 32, 33]])"
   ]
  },
  {
   "cell_type": "code",
   "execution_count": null,
   "id": "48928cb9-fcb7-45f8-9652-6125dbe101dd",
   "metadata": {},
   "outputs": [],
   "source": [
    "# arr[ 행 , 열 ]\n",
    "# , 기준으로 좌측은 행, 우측은 열이다.\n",
    "arr[:,[2,1,3]] # arr의 전체 행에서 [2,1,3]번 열을 추출"
   ]
  },
  {
   "cell_type": "code",
   "execution_count": 125,
   "id": "5d1b2286-1b8e-4cd2-88e9-85f40fe3abcc",
   "metadata": {},
   "outputs": [
    {
     "data": {
      "text/plain": [
       "array([[22, 23, 24, 25, 26, 27],\n",
       "       [16, 17, 18, 19, 20, 21],\n",
       "       [28, 29, 30, 31, 32, 33]])"
      ]
     },
     "execution_count": 125,
     "metadata": {},
     "output_type": "execute_result"
    }
   ],
   "source": [
    "arr[[2,1,3],:]"
   ]
  },
  {
   "cell_type": "code",
   "execution_count": null,
   "id": "c3592955-bbcf-4b3d-999f-5c1bca552b85",
   "metadata": {},
   "outputs": [],
   "source": []
  },
  {
   "cell_type": "code",
   "execution_count": 126,
   "id": "eb68c252-9df6-4f67-94ce-9bedeb20ab02",
   "metadata": {},
   "outputs": [],
   "source": [
    "# 무한대(infinity) : np.inf\n",
    "# 숫자아님(not a number) : np.nan"
   ]
  },
  {
   "cell_type": "code",
   "execution_count": 128,
   "id": "69e889bb-f834-4248-a152-2e72ce7a569b",
   "metadata": {},
   "outputs": [
    {
     "name": "stderr",
     "output_type": "stream",
     "text": [
      "/var/folders/bs/rn4q13z924s9_wzlq41h6grc0000gn/T/ipykernel_1356/618795488.py:1: RuntimeWarning: divide by zero encountered in divide\n",
      "  np.array([1])/np.array([0]) # array([inf])출력\n",
      "/var/folders/bs/rn4q13z924s9_wzlq41h6grc0000gn/T/ipykernel_1356/618795488.py:2: RuntimeWarning: divide by zero encountered in log\n",
      "  np.log(0)\n"
     ]
    },
    {
     "data": {
      "text/plain": [
       "-inf"
      ]
     },
     "execution_count": 128,
     "metadata": {},
     "output_type": "execute_result"
    }
   ],
   "source": [
    "np.array([1])/np.array([0]) # array([inf])출력\n",
    "np.log(0) # -inf출력"
   ]
  },
  {
   "cell_type": "code",
   "execution_count": 130,
   "id": "4dc6fd13-7f74-42fa-bcac-71156c49e026",
   "metadata": {},
   "outputs": [
    {
     "name": "stderr",
     "output_type": "stream",
     "text": [
      "/var/folders/bs/rn4q13z924s9_wzlq41h6grc0000gn/T/ipykernel_1356/2748191917.py:2: RuntimeWarning: invalid value encountered in divide\n",
      "  np.array([0])/np.array([0])\n"
     ]
    },
    {
     "data": {
      "text/plain": [
       "array([nan])"
      ]
     },
     "execution_count": 130,
     "metadata": {},
     "output_type": "execute_result"
    }
   ],
   "source": [
    "#0/0\n",
    "np.array([0])/np.array([0]) # array([nan]) 출력"
   ]
  },
  {
   "cell_type": "code",
   "execution_count": 131,
   "id": "b9751e7d-98d0-484c-a4d4-2543ed5db00a",
   "metadata": {},
   "outputs": [
    {
     "data": {
      "text/plain": [
       "array([0., 0., 0.])"
      ]
     },
     "execution_count": 131,
     "metadata": {},
     "output_type": "execute_result"
    }
   ],
   "source": [
    "# zeros / ones는 사용빈도는 적지만 가끔 사용이 됨\n",
    "np.zeros(3) # 모든 값이 0으로 만들고 3열로 배열 시킴\n",
    "            # array([0., 0., 0.]) 출력"
   ]
  },
  {
   "cell_type": "code",
   "execution_count": 132,
   "id": "d354991a-8fd3-4f8f-b756-523aa75d8b3a",
   "metadata": {},
   "outputs": [
    {
     "data": {
      "text/plain": [
       "array([[0., 0.],\n",
       "       [0., 0.],\n",
       "       [0., 0.]])"
      ]
     },
     "execution_count": 132,
     "metadata": {},
     "output_type": "execute_result"
    }
   ],
   "source": [
    "np.zeros((3,2))\n",
    "# 결과\n",
    "# array([[0., 0.],\n",
    "#        [0., 0.],\n",
    "#        [0., 0.]])"
   ]
  },
  {
   "cell_type": "code",
   "execution_count": 133,
   "id": "decf7e61-49fe-49fe-8b94-bdd117071713",
   "metadata": {},
   "outputs": [
    {
     "data": {
      "text/plain": [
       "dtype('float64')"
      ]
     },
     "execution_count": 133,
     "metadata": {},
     "output_type": "execute_result"
    }
   ],
   "source": [
    "np.zeros((3,2)).dtype\n",
    "# 타입 : dtype('float64')"
   ]
  },
  {
   "cell_type": "code",
   "execution_count": 135,
   "id": "ff67c395-6281-4ca5-a0a5-1fd4bbfd63fd",
   "metadata": {},
   "outputs": [
    {
     "data": {
      "text/plain": [
       "array([[0, 0],\n",
       "       [0, 0],\n",
       "       [0, 0]], dtype=int32)"
      ]
     },
     "execution_count": 135,
     "metadata": {},
     "output_type": "execute_result"
    }
   ],
   "source": [
    "np.zeros((3,2),dtype='i')\n",
    "np.zeros((3,2),dtype='i4')"
   ]
  },
  {
   "cell_type": "code",
   "execution_count": 136,
   "id": "f1cc8173-4fb7-415d-8dff-c1943a51aaa0",
   "metadata": {},
   "outputs": [
    {
     "data": {
      "text/plain": [
       "array([[0, 0],\n",
       "       [0, 0],\n",
       "       [0, 0]])"
      ]
     },
     "execution_count": 136,
     "metadata": {},
     "output_type": "execute_result"
    }
   ],
   "source": [
    "np.zeros((3,2),dtype='i8')"
   ]
  },
  {
   "cell_type": "code",
   "execution_count": 138,
   "id": "2da2676e-3e78-4f74-844e-6eed0ab571bb",
   "metadata": {},
   "outputs": [
    {
     "data": {
      "text/plain": [
       "array([[1., 1.],\n",
       "       [1., 1.],\n",
       "       [1., 1.]])"
      ]
     },
     "execution_count": 138,
     "metadata": {},
     "output_type": "execute_result"
    }
   ],
   "source": [
    "np.ones((3,2))\n",
    "# 모든 숫자가 1로 초기화\n",
    "# 결과\n",
    "# array([[1., 1.],\n",
    "#        [1., 1.],\n",
    "#        [1., 1.]])"
   ]
  },
  {
   "cell_type": "code",
   "execution_count": 140,
   "id": "ba6d2e03-a59b-4ade-9227-5eac4078fcaf",
   "metadata": {},
   "outputs": [
    {
     "ename": "AttributeError",
     "evalue": "module 'numpy' has no attribute 'twos'",
     "output_type": "error",
     "traceback": [
      "\u001b[0;31m---------------------------------------------------------------------------\u001b[0m",
      "\u001b[0;31mAttributeError\u001b[0m                            Traceback (most recent call last)",
      "Cell \u001b[0;32mIn[140], line 1\u001b[0m\n\u001b[0;32m----> 1\u001b[0m \u001b[43mnp\u001b[49m\u001b[38;5;241;43m.\u001b[39;49m\u001b[43mtwos\u001b[49m((\u001b[38;5;241m3\u001b[39m,\u001b[38;5;241m2\u001b[39m))\n\u001b[1;32m      2\u001b[0m \u001b[38;5;66;03m# twos부터 나머지는 출력이 안나오고 zeros / ones만 출력 된다\u001b[39;00m\n\u001b[1;32m      3\u001b[0m \u001b[38;5;66;03m# twos출력하고 싶으면 밑에 코드로 사용된다.\u001b[39;00m\n\u001b[1;32m      4\u001b[0m np\u001b[38;5;241m.\u001b[39mones((\u001b[38;5;241m3\u001b[39m,\u001b[38;5;241m2\u001b[39m))\u001b[38;5;241m*\u001b[39m\u001b[38;5;241m2\u001b[39m\n",
      "File \u001b[0;32m/Library/Frameworks/Python.framework/Versions/3.12/lib/python3.12/site-packages/numpy/__init__.py:333\u001b[0m, in \u001b[0;36m__getattr__\u001b[0;34m(attr)\u001b[0m\n\u001b[1;32m    330\u001b[0m     \u001b[38;5;124m\"\u001b[39m\u001b[38;5;124mRemoved in NumPy 1.25.0\u001b[39m\u001b[38;5;124m\"\u001b[39m\n\u001b[1;32m    331\u001b[0m     \u001b[38;5;28;01mraise\u001b[39;00m \u001b[38;5;167;01mRuntimeError\u001b[39;00m(\u001b[38;5;124m\"\u001b[39m\u001b[38;5;124mTester was removed in NumPy 1.25.\u001b[39m\u001b[38;5;124m\"\u001b[39m)\n\u001b[0;32m--> 333\u001b[0m \u001b[38;5;28;01mraise\u001b[39;00m \u001b[38;5;167;01mAttributeError\u001b[39;00m(\u001b[38;5;124m\"\u001b[39m\u001b[38;5;124mmodule \u001b[39m\u001b[38;5;132;01m{!r}\u001b[39;00m\u001b[38;5;124m has no attribute \u001b[39m\u001b[38;5;124m\"\u001b[39m\n\u001b[1;32m    334\u001b[0m                      \u001b[38;5;124m\"\u001b[39m\u001b[38;5;132;01m{!r}\u001b[39;00m\u001b[38;5;124m\"\u001b[39m\u001b[38;5;241m.\u001b[39mformat(\u001b[38;5;18m__name__\u001b[39m, attr))\n",
      "\u001b[0;31mAttributeError\u001b[0m: module 'numpy' has no attribute 'twos'"
     ]
    }
   ],
   "source": [
    "np.twos((3,2))\n",
    "# twos부터 나머지는 출력이 안나오고 zeros / ones만 출력 된다"
   ]
  },
  {
   "cell_type": "code",
   "execution_count": 141,
   "id": "7303841f-732d-4b7f-b7e7-a6427ab35b36",
   "metadata": {},
   "outputs": [
    {
     "data": {
      "text/plain": [
       "array([[2., 2.],\n",
       "       [2., 2.],\n",
       "       [2., 2.]])"
      ]
     },
     "execution_count": 141,
     "metadata": {},
     "output_type": "execute_result"
    }
   ],
   "source": [
    "# twos출력하고 싶으면 밑에 코드로 사용된다.\n",
    "np.ones((3,2))*2"
   ]
  },
  {
   "cell_type": "code",
   "execution_count": null,
   "id": "4e8efb82-3fed-4763-9cbc-e7c0d9b0ac5f",
   "metadata": {},
   "outputs": [],
   "source": []
  },
  {
   "cell_type": "code",
   "execution_count": 144,
   "id": "c02b9355-b4ab-457f-a1ef-3a505c1f6c62",
   "metadata": {},
   "outputs": [],
   "source": [
    "# np.ones_like 함수\n",
    "# 사용빈도는 그나마 조금 있는 함수"
   ]
  },
  {
   "cell_type": "code",
   "execution_count": 145,
   "id": "486227cd-e7fe-41be-aea4-c2d496f2d798",
   "metadata": {},
   "outputs": [
    {
     "data": {
      "text/plain": [
       "array([[1, 1, 1, 1, 1, 1],\n",
       "       [1, 1, 1, 1, 1, 1],\n",
       "       [1, 1, 1, 1, 1, 1],\n",
       "       [1, 1, 1, 1, 1, 1],\n",
       "       [1, 1, 1, 1, 1, 1]])"
      ]
     },
     "execution_count": 145,
     "metadata": {},
     "output_type": "execute_result"
    }
   ],
   "source": [
    "np.ones_like(arr)"
   ]
  },
  {
   "cell_type": "code",
   "execution_count": 146,
   "id": "1bf737b2-f4ee-43cf-acda-45e5972dda01",
   "metadata": {},
   "outputs": [
    {
     "data": {
      "text/plain": [
       "array([[0, 0, 0, 0, 0, 0],\n",
       "       [0, 0, 0, 0, 0, 0],\n",
       "       [0, 0, 0, 0, 0, 0],\n",
       "       [0, 0, 0, 0, 0, 0],\n",
       "       [0, 0, 0, 0, 0, 0]])"
      ]
     },
     "execution_count": 146,
     "metadata": {},
     "output_type": "execute_result"
    }
   ],
   "source": [
    "np.zeros_like(arr)"
   ]
  },
  {
   "cell_type": "code",
   "execution_count": 148,
   "id": "d0bb0aec-ad9e-4ee5-9e17-2359789982d1",
   "metadata": {},
   "outputs": [
    {
     "data": {
      "text/plain": [
       "array([[ 2,  4,  6],\n",
       "       [ 8, 10, 12],\n",
       "       [14, 16, 18],\n",
       "       [20, 22, 24],\n",
       "       [26, 28, 30]])"
      ]
     },
     "execution_count": 148,
     "metadata": {},
     "output_type": "execute_result"
    }
   ],
   "source": [
    "np.arange(2,31,2).reshape(-1,3)"
   ]
  },
  {
   "cell_type": "code",
   "execution_count": 150,
   "id": "c1ea08ca-aa61-4d63-b373-d4f9ef338464",
   "metadata": {},
   "outputs": [
    {
     "data": {
      "text/plain": [
       "array([ 0. ,  2.5,  5. ,  7.5, 10. ])"
      ]
     },
     "execution_count": 150,
     "metadata": {},
     "output_type": "execute_result"
    }
   ],
   "source": [
    "# linspace 함수 : 구간을 나누는 함수\n",
    "# 사용 빈도 적은 함수\n",
    "np.linspace(0,10,5)"
   ]
  },
  {
   "cell_type": "code",
   "execution_count": 154,
   "id": "680e2de6-9428-4a6f-a58c-34bc572e76e4",
   "metadata": {},
   "outputs": [
    {
     "data": {
      "text/plain": [
       "array([[1, 2, 3],\n",
       "       [4, 5, 6]])"
      ]
     },
     "execution_count": 154,
     "metadata": {},
     "output_type": "execute_result"
    }
   ],
   "source": [
    "arr = np.arange(1,7).reshape(2,3)\n",
    "arr"
   ]
  },
  {
   "cell_type": "code",
   "execution_count": 155,
   "id": "c7f20bf8-9f42-473b-a48b-6191dc8e89a7",
   "metadata": {},
   "outputs": [
    {
     "data": {
      "text/plain": [
       "array([[1, 4],\n",
       "       [2, 5],\n",
       "       [3, 6]])"
      ]
     },
     "execution_count": 155,
     "metadata": {},
     "output_type": "execute_result"
    }
   ],
   "source": [
    "# transpase : 전치행렬(행과 열을 바꾼 행렬)\n",
    "arr.transpose()"
   ]
  },
  {
   "cell_type": "code",
   "execution_count": 156,
   "id": "e24bb7c8-6920-4277-ae19-6204bd6f044f",
   "metadata": {},
   "outputs": [
    {
     "data": {
      "text/plain": [
       "array([[1, 2, 3],\n",
       "       [4, 5, 6]])"
      ]
     },
     "execution_count": 156,
     "metadata": {},
     "output_type": "execute_result"
    }
   ],
   "source": [
    "# transpose 2번 사용하면 원래 행렬이 된다\n",
    "arr.transpose().transpose()"
   ]
  },
  {
   "cell_type": "code",
   "execution_count": 159,
   "id": "c9e3ad07-8844-4c82-8901-e691adf9e961",
   "metadata": {},
   "outputs": [],
   "source": [
    "# (사과, 배, 딸기)\n",
    "data = np.array([[1,5,0],\n",
    "                [5,3,2],\n",
    "                [1,2,0]])\n",
    "price = np.array([[1000],\n",
    "                  [5000],\n",
    "                  [8000]])"
   ]
  },
  {
   "cell_type": "code",
   "execution_count": 160,
   "id": "98af711e-79de-4476-9b35-eb8afb2a7e08",
   "metadata": {},
   "outputs": [
    {
     "data": {
      "text/plain": [
       "(3, 1)"
      ]
     },
     "execution_count": 160,
     "metadata": {},
     "output_type": "execute_result"
    }
   ],
   "source": [
    "data.shape # 3행 3열\n",
    "price.shape # 3행 1열"
   ]
  },
  {
   "cell_type": "code",
   "execution_count": 161,
   "id": "20ad8f76-38d2-4ecb-88fa-2073dd0e4fb2",
   "metadata": {},
   "outputs": [
    {
     "data": {
      "text/plain": [
       "array([[26000],\n",
       "       [36000],\n",
       "       [11000]])"
      ]
     },
     "execution_count": 161,
     "metadata": {},
     "output_type": "execute_result"
    }
   ],
   "source": [
    "# data배열과 price배열간에 행렬의 곱셈 연산 가능하다\n",
    "data.dot(price) #내적"
   ]
  },
  {
   "cell_type": "code",
   "execution_count": 163,
   "id": "0329113a-6f01-4a7f-932a-59a31dd64730",
   "metadata": {},
   "outputs": [
    {
     "data": {
      "text/plain": [
       "array([[26000],\n",
       "       [36000],\n",
       "       [11000]])"
      ]
     },
     "execution_count": 163,
     "metadata": {},
     "output_type": "execute_result"
    }
   ],
   "source": [
    "# .dot()과 @ : 2차원에서는 결과값이 같음\n",
    "data@(price) # 행렬의 곱셉\n",
    "             # 3차원부터 결과값이 다라짐"
   ]
  },
  {
   "cell_type": "code",
   "execution_count": null,
   "id": "f063d8cb-b3e6-43c9-9a9f-6e61886e496e",
   "metadata": {},
   "outputs": [],
   "source": []
  },
  {
   "cell_type": "code",
   "execution_count": 177,
   "id": "ea6c5a7e-d0b9-45d2-8258-ccb58efb853a",
   "metadata": {},
   "outputs": [
    {
     "data": {
      "text/plain": [
       "array([10, 11, 12, 13, 14])"
      ]
     },
     "execution_count": 177,
     "metadata": {},
     "output_type": "execute_result"
    }
   ],
   "source": [
    "arr = np.arange(10,15)\n",
    "arr"
   ]
  },
  {
   "cell_type": "code",
   "execution_count": 178,
   "id": "114d8aca-a0f3-452c-98ab-85680c9b5395",
   "metadata": {},
   "outputs": [
    {
     "data": {
      "text/plain": [
       "array([10, 99, 12, 13, 14])"
      ]
     },
     "execution_count": 178,
     "metadata": {},
     "output_type": "execute_result"
    }
   ],
   "source": [
    "arr2 = arr # 데이터를 공유한다는 의미(뷰)\n",
    "arr2[1] = 99\n",
    "arr2"
   ]
  },
  {
   "cell_type": "code",
   "execution_count": 179,
   "id": "a766bdee-4a38-49b3-ae6f-c634d58f861b",
   "metadata": {},
   "outputs": [
    {
     "data": {
      "text/plain": [
       "array([10, 99, 12, 13, 14])"
      ]
     },
     "execution_count": 179,
     "metadata": {},
     "output_type": "execute_result"
    }
   ],
   "source": [
    "arr"
   ]
  },
  {
   "cell_type": "code",
   "execution_count": 173,
   "id": "8506298c-59a2-4079-a3da-04aff652b85d",
   "metadata": {},
   "outputs": [
    {
     "data": {
      "text/plain": [
       "array([10, 11, 12, 13, 14])"
      ]
     },
     "execution_count": 173,
     "metadata": {},
     "output_type": "execute_result"
    }
   ],
   "source": [
    "# 여기는 copy 함수 사용함\n",
    "arr = np.arange(10,15)\n",
    "arr3 = arr.copy()\n",
    "arr3"
   ]
  },
  {
   "cell_type": "code",
   "execution_count": 175,
   "id": "3578f909-9f1c-464e-99b3-d5d22ad27079",
   "metadata": {},
   "outputs": [
    {
     "data": {
      "text/plain": [
       "array([10, 99, 12, 13, 14])"
      ]
     },
     "execution_count": 175,
     "metadata": {},
     "output_type": "execute_result"
    }
   ],
   "source": [
    "arr3[1]=99\n",
    "arr3"
   ]
  },
  {
   "cell_type": "code",
   "execution_count": 176,
   "id": "08ab8942-3ad5-48f1-a6db-13ebcf67e989",
   "metadata": {},
   "outputs": [
    {
     "data": {
      "text/plain": [
       "array([10, 11, 12, 13, 14])"
      ]
     },
     "execution_count": 176,
     "metadata": {},
     "output_type": "execute_result"
    }
   ],
   "source": [
    "arr"
   ]
  },
  {
   "cell_type": "code",
   "execution_count": null,
   "id": "b5ded5d2-d6f2-4822-a71b-3d5e147d082d",
   "metadata": {},
   "outputs": [],
   "source": []
  },
  {
   "cell_type": "code",
   "execution_count": 181,
   "id": "bf559bb5-f363-40ba-9b1c-a80e67591b97",
   "metadata": {},
   "outputs": [
    {
     "data": {
      "text/plain": [
       "array([ 0,  2,  4,  6,  8, 10, 12, 14, 16, 18, 20, 22, 24, 26, 28])"
      ]
     },
     "execution_count": 181,
     "metadata": {},
     "output_type": "execute_result"
    }
   ],
   "source": [
    "# 1. 1차원 numpy 배열을 만들어 결과와 같이 출력하기\n",
    "#[ 0, 2, 4, 6, 8, 10, 12, 14, 16, 18, 20, 22, 24, 26, 28]\n",
    "\n",
    "arr = np.arange(0,29,2)\n",
    "arr"
   ]
  },
  {
   "cell_type": "code",
   "execution_count": 188,
   "id": "89626982-06ec-419d-a143-82371d44fc35",
   "metadata": {},
   "outputs": [
    {
     "data": {
      "text/plain": [
       "array([[10, 20, 30, 40],\n",
       "       [50, 60, 70, 80]])"
      ]
     },
     "execution_count": 188,
     "metadata": {},
     "output_type": "execute_result"
    }
   ],
   "source": [
    "# 2. 2차원 numpy 배열을 만들어 결과와 같이 출력하기\n",
    "# [[10, 20, 30, 40],\n",
    "# 50, 60, 70, 80]]\n",
    "\n",
    "np.arange(10,81,10).reshape(2,4)"
   ]
  },
  {
   "cell_type": "code",
   "execution_count": 190,
   "id": "7b6718be-37d3-457e-b028-2c8a13e0bec0",
   "metadata": {},
   "outputs": [
    {
     "data": {
      "text/plain": [
       "array([[[ 1,  2,  3],\n",
       "        [ 4,  5,  6],\n",
       "        [ 7,  8,  9],\n",
       "        [10, 11, 12]],\n",
       "\n",
       "       [[13, 14, 15],\n",
       "        [16, 17, 18],\n",
       "        [19, 20, 21],\n",
       "        [22, 23, 24]]])"
      ]
     },
     "execution_count": 190,
     "metadata": {},
     "output_type": "execute_result"
    }
   ],
   "source": [
    "# 3. 3차원 numpy 배열을 만들어 결과와 같이 출력하기\n",
    "# [[[ 1, 2, 3],\n",
    "# [ 4, 5, 6]],\n",
    "# [[ 7, 8, 9],\n",
    "# [10, 11, 12]],\n",
    "# [[13, 14, 15],\n",
    "# [16, 17, 18]],\n",
    "# [[19, 20, 21],\n",
    "# [22, 23, 24]]]\n",
    "\n",
    "np.arange(1,25).reshape(2,4,3)"
   ]
  },
  {
   "cell_type": "code",
   "execution_count": 197,
   "id": "45b4ec7e-2232-4d41-8f07-40a87ae5516b",
   "metadata": {},
   "outputs": [
    {
     "data": {
      "text/plain": [
       "6"
      ]
     },
     "execution_count": 197,
     "metadata": {},
     "output_type": "execute_result"
    }
   ],
   "source": [
    "# 4. 아래와 같은 행렬을 이용하여 조건에 맞는 코드 작성\n",
    "# vector = np.array(range(0, 30, 2))\n",
    "\n",
    "# 값 24 인덱싱\n",
    "# 값 6 인덱싱\n",
    "\n",
    "vector = np.array(range(0, 30, 2))\n",
    "vector[-3]\n",
    "vector[3]"
   ]
  },
  {
   "cell_type": "code",
   "execution_count": 208,
   "id": "e3da51a2-ce12-456e-b451-56a9a3d8fa0b",
   "metadata": {},
   "outputs": [
    {
     "data": {
      "text/plain": [
       "15"
      ]
     },
     "execution_count": 208,
     "metadata": {},
     "output_type": "execute_result"
    }
   ],
   "source": [
    "# 5. 아래와 같은 행렬을 이용하여 조건에 맞는 코드 작성\n",
    "matrix = np.array([\n",
    "[1, 2, 3, 4],\n",
    "[5, 6, 7, 8],\n",
    "[9, 10, 11, 12],\n",
    "[13, 14, 15, 16]\n",
    "])\n",
    "\n",
    "# 1)- 값 8 인덱싱\n",
    "matrix[1,-1]\n",
    "\n",
    "# 2)- 값 2 인덱싱\n",
    "matrix[0,1]\n",
    "\n",
    "# 3)- 값 9 인덱싱\n",
    "matrix[2,0]\n",
    "\n",
    "# 4)- 값 15 인덱싱\n",
    "matrix[-1,-2]"
   ]
  },
  {
   "cell_type": "code",
   "execution_count": 210,
   "id": "f05751f0-1e36-4983-8cf0-b7bb259938c5",
   "metadata": {},
   "outputs": [
    {
     "data": {
      "text/plain": [
       "array([-1, -2, -3, -4, -5])"
      ]
     },
     "execution_count": 210,
     "metadata": {},
     "output_type": "execute_result"
    }
   ],
   "source": [
    "# 6. 아래와 같은 행렬을 작성해보세요\n",
    "# [-1, -2, -3, -4, -5]\n",
    "\n",
    "np.arange(-1,-6,-1)"
   ]
  },
  {
   "cell_type": "code",
   "execution_count": 221,
   "id": "ed07b129-9c51-4880-a6cf-524687876680",
   "metadata": {},
   "outputs": [
    {
     "name": "stdout",
     "output_type": "stream",
     "text": [
      "[ 3  6  9 12 15 18]\n",
      "[ 1  5  9 13 17]\n",
      "[9]\n"
     ]
    }
   ],
   "source": [
    "# 7.다음 행렬과 같은 배열이 있다.\n",
    "\n",
    "x = np.array([1, 2, 3, 4, 5, 6, 7, 8, 9, 10,\n",
    "              11, 12, 13, 14, 15, 16, 17, 18, 19, 20])\n",
    "\n",
    "# 1)이 배열에서 3의 배수를 찾아라.\n",
    "print(x[x % 3 == 0])\n",
    "\n",
    "# 2)이 배열에서 4로 나누면 1이 남는 수를 찾아라.\n",
    "print(x[x % 4 == 1])\n",
    "\n",
    "# 3)이 배열에서 3으로 나누면 나누어지고 4로 나누면 1이 남는 수를 찾아라.\n",
    "print(x[(x % 3 == 0) & (x % 4 == 1)])"
   ]
  },
  {
   "cell_type": "code",
   "execution_count": 237,
   "id": "96835d55-25e4-43d5-ad61-95f12f069ffc",
   "metadata": {},
   "outputs": [
    {
     "name": "stdout",
     "output_type": "stream",
     "text": [
      "5\n",
      "[1 2 3]\n",
      "[3 6 9]\n",
      "[[2 3]\n",
      " [5 6]]\n",
      "[[1 2 3]\n",
      " [4 5 6]]\n",
      "[[1 2]\n",
      " [4 5]\n",
      " [7 8]]\n",
      "[3 6 9]\n",
      "[[1 0 0]\n",
      " [4 0 0]\n",
      " [7 8 9]]\n"
     ]
    }
   ],
   "source": [
    "# 8. 다음 배열을 만들고 슬라이싱, 인덱싱 연습하세요\n",
    "arr2d = np.array([[1, 2, 3], [4, 5, 6], [7, 8, 9]])\n",
    "arr2d\n",
    "\n",
    "# 1)\n",
    "print(arr2d[1,1]) \n",
    "# 5\n",
    "\n",
    "# 2)\n",
    "print(arr2d[0]) \n",
    "# [1 2 3]\n",
    "\n",
    "# 3)\n",
    "print(arr2d[:,2]) \n",
    "# [3 6 9]\n",
    "\n",
    "#4)\n",
    "print(arr2d[:2, 1:])\n",
    "#[[2 3]\n",
    "#[5 6]]\n",
    "\n",
    "# 5)\n",
    "print(arr2d[0:2]) \n",
    "# [[1 2 3]\n",
    "# [4 5 6]]\n",
    "\n",
    "# 6)\n",
    "print(arr2d[:,0:2]) \n",
    "# [[1 2]\n",
    "#  [4 5]\n",
    "#  [7 8]]\n",
    "\n",
    "# 7)\n",
    "print(arr2d[:,-1])\n",
    "#[3 6 9]\n",
    "\n",
    "# 8)\n",
    "arr2d[:2, 1:] =0\n",
    "print(arr2d)\n",
    "# [[1 0 0]\n",
    "#  [4 0 0]\n",
    "#  [7 8 9]]"
   ]
  },
  {
   "cell_type": "code",
   "execution_count": null,
   "id": "2d38df88-1ee5-43aa-8ee9-db999499be61",
   "metadata": {},
   "outputs": [],
   "source": [
    "# 1) 특정 원소에 접근\n",
    "print(arr2d[1,1]) # arr2d[행 인덱스, 열 인덱스]\n",
    "# 5\n",
    "\n",
    "# 2) 특정 행에 접근\n",
    "print(arr2d[0]) # arr2d[행 인덱스]\n",
    "# [1 2 3]\n",
    "\n",
    "# 3) 특정 열에 접근\n",
    "print(arr2d[:,2]) # arr2d[:, 열 인덱스]\n",
    "# [3 6 9]\n",
    "\n",
    "#4) 부분 배열(슬라이스) 생성\n",
    "print(arr2d[:2, 1:]) # arr2d[시작 행:끝 행, 시작 열:끝 열]\n",
    "#[[2 3]\n",
    "#[5 6]]\n",
    "\n",
    "# 5) 특정 행 범위에 접근\n",
    "print(arr2d[0:2]) # arr2d[시작 행:끝 행]\n",
    "# [[1 2 3]\n",
    "# [4 5 6]]\n",
    "\n",
    "# 6 특정 열 범위에 접근\n",
    "print(arr2d[:,0:2])  # arr2d[:, 시작 열:끝 열]\n",
    "# [[1 2]\n",
    "#  [4 5]\n",
    "#  [7 8]]\n",
    "\n",
    "# 7) 마지막 열에 접근\n",
    "print(arr2d[:,-1]) # arr2d[:, 음수 인덱스]\n",
    "#[3 6 9]\n",
    "\n",
    "# 8) 부분 배열에 새로운 값을 할당\n",
    "arr2d[:2, 1:] =0 # arr2d[시작 행:끝 행, 시작 열:끝 열]\n",
    "print(arr2d)\n",
    "# [[1 0 0]\n",
    "#  [4 0 0]\n",
    "#  [7 8 9]]"
   ]
  }
 ],
 "metadata": {
  "kernelspec": {
   "display_name": "Python 3 (ipykernel)",
   "language": "python",
   "name": "python3"
  },
  "language_info": {
   "codemirror_mode": {
    "name": "ipython",
    "version": 3
   },
   "file_extension": ".py",
   "mimetype": "text/x-python",
   "name": "python",
   "nbconvert_exporter": "python",
   "pygments_lexer": "ipython3",
   "version": "3.12.3"
  }
 },
 "nbformat": 4,
 "nbformat_minor": 5
}
