{
 "cells": [
  {
   "cell_type": "code",
   "execution_count": 1,
   "id": "b4693d25-fe06-40cb-94e5-f58cf688c93b",
   "metadata": {},
   "outputs": [],
   "source": [
    "import numpy as np"
   ]
  },
  {
   "cell_type": "code",
   "execution_count": 4,
   "id": "ef0b5aa9-eef4-4896-bb73-b23e8d5f8233",
   "metadata": {},
   "outputs": [
    {
     "data": {
      "text/plain": [
       "array([[ 0,  1,  2,  3],\n",
       "       [ 4,  5,  6,  7],\n",
       "       [ 8,  9, 10, 11]])"
      ]
     },
     "execution_count": 4,
     "metadata": {},
     "output_type": "execute_result"
    }
   ],
   "source": [
    "# 2차원 배열\n",
    "arr = np.arange(12).reshape(3,4)\n",
    "arr"
   ]
  },
  {
   "cell_type": "code",
   "execution_count": 6,
   "id": "d10b1d13-ee72-4621-9fdb-b4df55e07aea",
   "metadata": {},
   "outputs": [
    {
     "data": {
      "text/plain": [
       "array([ 0,  1,  2,  3,  4,  5,  6,  7,  8,  9, 10, 11])"
      ]
     },
     "execution_count": 6,
     "metadata": {},
     "output_type": "execute_result"
    }
   ],
   "source": [
    "# 1차원 배열\n",
    "arr.reshape(12)\n",
    "arr.reshape(3*4)"
   ]
  },
  {
   "cell_type": "code",
   "execution_count": 8,
   "id": "3ad24de0-7f22-40f0-a4c7-4910e4429979",
   "metadata": {},
   "outputs": [
    {
     "data": {
      "text/plain": [
       "array([ 0,  1,  2,  3,  4,  5,  6,  7,  8,  9, 10, 11])"
      ]
     },
     "execution_count": 8,
     "metadata": {},
     "output_type": "execute_result"
    }
   ],
   "source": [
    "# flatten / ravel : 다차원 배열을 1차원 배열 변환 \n",
    "#                  사용빈도가 빈번하여 기억하는게 좋음\n",
    "arr.flatten()\n",
    "arr.ravel()"
   ]
  },
  {
   "cell_type": "code",
   "execution_count": 10,
   "id": "86f2c8c6-13c9-4346-bb1b-0c49894272fc",
   "metadata": {},
   "outputs": [
    {
     "data": {
      "text/plain": [
       "array([0, 1, 2])"
      ]
     },
     "execution_count": 10,
     "metadata": {},
     "output_type": "execute_result"
    }
   ],
   "source": [
    "# x는 1차원 배열 _ []가 1개있음\n",
    "x = np.arange(3)\n",
    "x"
   ]
  },
  {
   "cell_type": "code",
   "execution_count": 11,
   "id": "d997a97b-d1fe-4987-8ff4-ad1c7eea4439",
   "metadata": {},
   "outputs": [
    {
     "data": {
      "text/plain": [
       "array([[0, 1, 2]])"
      ]
     },
     "execution_count": 11,
     "metadata": {},
     "output_type": "execute_result"
    }
   ],
   "source": [
    "# x는 2차원 배열(행렬, 1행*3열) _ []가 2개있음\n",
    "x.reshape(1,3)"
   ]
  },
  {
   "cell_type": "code",
   "execution_count": 12,
   "id": "14f54fc6-8138-4227-a291-3f35c38c9f14",
   "metadata": {},
   "outputs": [
    {
     "data": {
      "text/plain": [
       "array([[0],\n",
       "       [1],\n",
       "       [2]])"
      ]
     },
     "execution_count": 12,
     "metadata": {},
     "output_type": "execute_result"
    }
   ],
   "source": [
    "# x는 2차원 배열(행렬, 3행*1열) _ []가 2개있음\n",
    "x.reshape(3,1)"
   ]
  },
  {
   "cell_type": "code",
   "execution_count": 13,
   "id": "f4e392ea-f140-467c-9677-7de89676e34a",
   "metadata": {},
   "outputs": [
    {
     "data": {
      "text/plain": [
       "array([0, 1, 2])"
      ]
     },
     "execution_count": 13,
     "metadata": {},
     "output_type": "execute_result"
    }
   ],
   "source": [
    "x = np.arange(3)\n",
    "x"
   ]
  },
  {
   "cell_type": "code",
   "execution_count": 16,
   "id": "442dfd1c-d410-4b8f-a57e-a50d3819fdd4",
   "metadata": {},
   "outputs": [
    {
     "data": {
      "text/plain": [
       "(3, 1)"
      ]
     },
     "execution_count": 16,
     "metadata": {},
     "output_type": "execute_result"
    }
   ],
   "source": [
    "# newaxis : 차원 1씩 증가 함\n",
    "# 2차원 배열(3행 1열)\n",
    "x[ : , np.newaxis ]\n",
    "x[ : , np.newaxis ].shape # (3, 1) 출력"
   ]
  },
  {
   "cell_type": "code",
   "execution_count": 20,
   "id": "4be63854-c257-440b-9070-589b37a4dfa2",
   "metadata": {},
   "outputs": [
    {
     "data": {
      "text/plain": [
       "array([ 0,  1,  2,  3,  4,  5,  6,  7,  8,  9, 10, 11])"
      ]
     },
     "execution_count": 20,
     "metadata": {},
     "output_type": "execute_result"
    }
   ],
   "source": [
    "arr = arr.flatten()\n",
    "arr"
   ]
  },
  {
   "cell_type": "code",
   "execution_count": 21,
   "id": "75961102-4748-4ceb-a77e-be7d93403300",
   "metadata": {
    "scrolled": true
   },
   "outputs": [
    {
     "name": "stdout",
     "output_type": "stream",
     "text": [
      "0\n",
      "1\n",
      "2\n",
      "3\n",
      "4\n",
      "5\n",
      "6\n",
      "7\n",
      "8\n",
      "9\n",
      "10\n",
      "11\n"
     ]
    }
   ],
   "source": [
    "# for문 사용 가능\n",
    "for i in arr:\n",
    "    print(i)"
   ]
  },
  {
   "cell_type": "code",
   "execution_count": 24,
   "id": "6640d46c-9eb0-4bc0-9ce1-033d4fea835a",
   "metadata": {},
   "outputs": [
    {
     "data": {
      "text/plain": [
       "array([[ 0,  1,  2],\n",
       "       [ 3,  4,  5],\n",
       "       [ 6,  7,  8],\n",
       "       [ 9, 10, 11]])"
      ]
     },
     "execution_count": 24,
     "metadata": {},
     "output_type": "execute_result"
    }
   ],
   "source": [
    "# 2차원 배열\n",
    "arr = arr.reshape(4,3)\n",
    "arr"
   ]
  },
  {
   "cell_type": "code",
   "execution_count": 25,
   "id": "c584b96f-47cc-4acd-aebb-a435fcba4887",
   "metadata": {},
   "outputs": [
    {
     "name": "stdout",
     "output_type": "stream",
     "text": [
      "[0 1 2]\n",
      "[3 4 5]\n",
      "[6 7 8]\n",
      "[ 9 10 11]\n"
     ]
    }
   ],
   "source": [
    "# 2차원 배열은 2중for문 사용\n",
    "for i in arr:\n",
    "    print(i)"
   ]
  },
  {
   "cell_type": "code",
   "execution_count": 26,
   "id": "3c578f4e-3a0d-4283-9cca-9ab7d86dfbbd",
   "metadata": {},
   "outputs": [
    {
     "name": "stdout",
     "output_type": "stream",
     "text": [
      "0\n",
      "1\n",
      "2\n",
      "3\n",
      "4\n",
      "5\n",
      "6\n",
      "7\n",
      "8\n",
      "9\n",
      "10\n",
      "11\n"
     ]
    }
   ],
   "source": [
    "# 2중 for문\n",
    "for i in arr:\n",
    "    for j in i:\n",
    "        print(j)"
   ]
  },
  {
   "cell_type": "code",
   "execution_count": 29,
   "id": "ee390025-3730-4e8f-943d-0c50d85da01b",
   "metadata": {},
   "outputs": [
    {
     "data": {
      "text/plain": [
       "array([[[ 0,  1],\n",
       "        [ 2,  3],\n",
       "        [ 4,  5]],\n",
       "\n",
       "       [[ 6,  7],\n",
       "        [ 8,  9],\n",
       "        [10, 11]]])"
      ]
     },
     "execution_count": 29,
     "metadata": {},
     "output_type": "execute_result"
    }
   ],
   "source": [
    "# 3차원배열\n",
    "arr = arr.reshape(2,3,2)\n",
    "arr"
   ]
  },
  {
   "cell_type": "code",
   "execution_count": 31,
   "id": "735d8cd3-891a-4be1-b414-096c31538db3",
   "metadata": {},
   "outputs": [
    {
     "name": "stdout",
     "output_type": "stream",
     "text": [
      "0\n",
      "1\n",
      "2\n",
      "3\n",
      "4\n",
      "5\n",
      "6\n",
      "7\n",
      "8\n",
      "9\n",
      "10\n",
      "11\n"
     ]
    }
   ],
   "source": [
    "# 3차원 배열은 3중 for문 사용\n",
    "for i in arr:\n",
    "    for j in i:\n",
    "        for k in j:\n",
    "            print(k)"
   ]
  },
  {
   "cell_type": "code",
   "execution_count": 32,
   "id": "17c2d562-ddb2-44f3-bfb6-20450d93634b",
   "metadata": {},
   "outputs": [],
   "source": [
    "# 데이터 자료구조\n",
    "# 파이썬 : 리스트, 튜플, 딕셔너리,집합\n",
    "# 넘파이 : 배열(ndarray)\n",
    "# 판다스 : 데이터 프레임, 시리즈\n",
    "\n",
    "# 데이터 수집(크롤링, db) -> 전처리(넘파이 / 판다스) -> 분석(판다스)"
   ]
  },
  {
   "cell_type": "code",
   "execution_count": 45,
   "id": "a6190839-894f-40ae-aac0-24940336136f",
   "metadata": {},
   "outputs": [
    {
     "data": {
      "text/plain": [
       "array([[0., 0.],\n",
       "       [0., 0.]])"
      ]
     },
     "execution_count": 45,
     "metadata": {},
     "output_type": "execute_result"
    }
   ],
   "source": [
    "# hstack()함수를 위한 소스\n",
    "a1 = np.ones((2,3))\n",
    "a2 = np.zeros((2,2))"
   ]
  },
  {
   "cell_type": "code",
   "execution_count": 40,
   "id": "c1f16fba-5126-47b2-9ccb-84c77fb900d8",
   "metadata": {},
   "outputs": [
    {
     "data": {
      "text/plain": [
       "array([[1., 1., 1., 0., 0.],\n",
       "       [1., 1., 1., 0., 0.]])"
      ]
     },
     "execution_count": 40,
     "metadata": {},
     "output_type": "execute_result"
    }
   ],
   "source": [
    "# hstack()함수 : 2개의 행열을 수평(좌우)으로 합치는 함수\n",
    "#               행이 일치되어야 가능하다.\n",
    "np.hstack([a1,a2])"
   ]
  },
  {
   "cell_type": "code",
   "execution_count": 43,
   "id": "db247c8f-4360-4302-ba68-067f821cac52",
   "metadata": {},
   "outputs": [],
   "source": [
    "# vstack()함수를 위한 소스\n",
    "a1 = np.ones((2,3))\n",
    "a2 = np.zeros((3,3))"
   ]
  },
  {
   "cell_type": "code",
   "execution_count": 44,
   "id": "69bd410a-462a-4d1f-ba9c-20ee5c09ba1d",
   "metadata": {},
   "outputs": [
    {
     "data": {
      "text/plain": [
       "array([[1., 1., 1.],\n",
       "       [1., 1., 1.],\n",
       "       [0., 0., 0.],\n",
       "       [0., 0., 0.],\n",
       "       [0., 0., 0.]])"
      ]
     },
     "execution_count": 44,
     "metadata": {},
     "output_type": "execute_result"
    }
   ],
   "source": [
    "# vstack()함수 : 2개의 행열을 수직(상하)으로 합치는 함수\n",
    "#               열이 일치되어야 가능하다.\n",
    "np.vstack([a1,a2])"
   ]
  },
  {
   "cell_type": "code",
   "execution_count": 46,
   "id": "f7081f7e-b408-4230-b2e0-555a4c63976f",
   "metadata": {},
   "outputs": [],
   "source": [
    "# dstack(depth) : 행과 열이 아닌 깊이 방향으로 배열을 합침(쉽게 생각하면 차원이 늘어나는 것)"
   ]
  },
  {
   "cell_type": "code",
   "execution_count": 47,
   "id": "a56d2abc-b4b3-43b0-9c4e-5aeecc538ee2",
   "metadata": {},
   "outputs": [],
   "source": [
    "a1 = np.ones((3,4))\n",
    "a2 = np.zeros((3,4))"
   ]
  },
  {
   "cell_type": "code",
   "execution_count": 48,
   "id": "13eb23e9-61b8-4994-8070-6133c33f641d",
   "metadata": {},
   "outputs": [
    {
     "data": {
      "text/plain": [
       "array([[1., 1., 1., 1.],\n",
       "       [1., 1., 1., 1.],\n",
       "       [1., 1., 1., 1.]])"
      ]
     },
     "execution_count": 48,
     "metadata": {},
     "output_type": "execute_result"
    }
   ],
   "source": [
    "a1"
   ]
  },
  {
   "cell_type": "code",
   "execution_count": 49,
   "id": "1bd7bef8-e9dc-4f55-af26-9ef3ea1532b1",
   "metadata": {},
   "outputs": [
    {
     "data": {
      "text/plain": [
       "array([[0., 0., 0., 0.],\n",
       "       [0., 0., 0., 0.],\n",
       "       [0., 0., 0., 0.]])"
      ]
     },
     "execution_count": 49,
     "metadata": {},
     "output_type": "execute_result"
    }
   ],
   "source": [
    "a2"
   ]
  },
  {
   "cell_type": "code",
   "execution_count": 50,
   "id": "b7c4b4e4-8899-4bce-a6d1-e3468f807162",
   "metadata": {},
   "outputs": [
    {
     "data": {
      "text/plain": [
       "array([[[1., 0.],\n",
       "        [1., 0.],\n",
       "        [1., 0.],\n",
       "        [1., 0.]],\n",
       "\n",
       "       [[1., 0.],\n",
       "        [1., 0.],\n",
       "        [1., 0.],\n",
       "        [1., 0.]],\n",
       "\n",
       "       [[1., 0.],\n",
       "        [1., 0.],\n",
       "        [1., 0.],\n",
       "        [1., 0.]]])"
      ]
     },
     "execution_count": 50,
     "metadata": {},
     "output_type": "execute_result"
    }
   ],
   "source": [
    "# 2행 3열 4가 아닌\n",
    "# 3 4행 2열로 변환됨\n",
    "np.dstack([a1,a2])"
   ]
  },
  {
   "cell_type": "code",
   "execution_count": 52,
   "id": "fec06f4b-ece4-4468-9793-16b28149293f",
   "metadata": {},
   "outputs": [
    {
     "data": {
      "text/plain": [
       "(3, 4, 2)"
      ]
     },
     "execution_count": 52,
     "metadata": {},
     "output_type": "execute_result"
    }
   ],
   "source": [
    "np.dstack([a1,a2]).shape\n",
    "# dstack([a1,a2]) => 2개의 3*4 배열 => 1개의 3*4*2 배열\n",
    "# dstack은 잘 사용하지 않으며, stack을 주로 사용함"
   ]
  },
  {
   "cell_type": "code",
   "execution_count": 53,
   "id": "ad338a04-a445-4c01-ae5c-be88f96a2c83",
   "metadata": {},
   "outputs": [
    {
     "data": {
      "text/plain": [
       "array([[[1., 1., 1., 1.],\n",
       "        [1., 1., 1., 1.],\n",
       "        [1., 1., 1., 1.]],\n",
       "\n",
       "       [[0., 0., 0., 0.],\n",
       "        [0., 0., 0., 0.],\n",
       "        [0., 0., 0., 0.]]])"
      ]
     },
     "execution_count": 53,
     "metadata": {},
     "output_type": "execute_result"
    }
   ],
   "source": [
    "# stack()함수 : dstack보다 사용도가 많다\n",
    "np.stack([a1,a2]) # axis(축)를 지정, 기본값 0\n",
    "#2개 3*4 => 1개의 2*3*4"
   ]
  },
  {
   "cell_type": "code",
   "execution_count": 54,
   "id": "59b8641b-0776-4517-9e7f-53da42c8260e",
   "metadata": {},
   "outputs": [
    {
     "data": {
      "text/plain": [
       "array([[[1., 1., 1., 1.],\n",
       "        [0., 0., 0., 0.]],\n",
       "\n",
       "       [[1., 1., 1., 1.],\n",
       "        [0., 0., 0., 0.]],\n",
       "\n",
       "       [[1., 1., 1., 1.],\n",
       "        [0., 0., 0., 0.]]])"
      ]
     },
     "execution_count": 54,
     "metadata": {},
     "output_type": "execute_result"
    }
   ],
   "source": [
    "#axis로 축 지정하는 법\n",
    "r1 = np.stack([a1,a2],axis = 1)\n",
    "r1"
   ]
  },
  {
   "cell_type": "code",
   "execution_count": 55,
   "id": "3a66804c-3346-4f8d-b510-3f6b273670c8",
   "metadata": {},
   "outputs": [
    {
     "data": {
      "text/plain": [
       "(3, 2, 4)"
      ]
     },
     "execution_count": 55,
     "metadata": {},
     "output_type": "execute_result"
    }
   ],
   "source": [
    "# 배열 확인\n",
    "r1.shape #(3, 2, 4)"
   ]
  },
  {
   "cell_type": "code",
   "execution_count": 56,
   "id": "76a5c4cd-b236-4c99-960d-d7e0f7ad8ee6",
   "metadata": {},
   "outputs": [
    {
     "data": {
      "text/plain": [
       "array([[[1., 0.],\n",
       "        [1., 0.],\n",
       "        [1., 0.],\n",
       "        [1., 0.]],\n",
       "\n",
       "       [[1., 0.],\n",
       "        [1., 0.],\n",
       "        [1., 0.],\n",
       "        [1., 0.]],\n",
       "\n",
       "       [[1., 0.],\n",
       "        [1., 0.],\n",
       "        [1., 0.],\n",
       "        [1., 0.]]])"
      ]
     },
     "execution_count": 56,
     "metadata": {},
     "output_type": "execute_result"
    }
   ],
   "source": [
    "r2 = np.stack([a1,a2],axis = 2)\n",
    "r2"
   ]
  },
  {
   "cell_type": "code",
   "execution_count": 57,
   "id": "4c6f0eee-d73f-4ab0-9e32-a9bc638c5c65",
   "metadata": {},
   "outputs": [
    {
     "data": {
      "text/plain": [
       "(3, 4, 2)"
      ]
     },
     "execution_count": 57,
     "metadata": {},
     "output_type": "execute_result"
    }
   ],
   "source": [
    "# 배열 확인\n",
    "r2.shape # (3, 4, 2)"
   ]
  },
  {
   "cell_type": "code",
   "execution_count": 58,
   "id": "01de1376-06b1-465c-903a-bd6c3fc6ae92",
   "metadata": {},
   "outputs": [],
   "source": [
    "# 두 행렬(3,4),(3,4)를 stack함수로 연결할 때 axis값에 따라 shape이 달라짐\n",
    "# axis0 => 2,3,4\n",
    "# axis1 => 3,2,4\n",
    "# axis2 => 3,4,2"
   ]
  },
  {
   "cell_type": "code",
   "execution_count": 61,
   "id": "1d895d9a-2b1b-4fa9-b704-b60d911a159a",
   "metadata": {},
   "outputs": [
    {
     "data": {
      "text/plain": [
       "array([ 1,  2,  3, 11, 12, 13])"
      ]
     },
     "execution_count": 61,
     "metadata": {},
     "output_type": "execute_result"
    }
   ],
   "source": [
    "# 중간점검\n",
    "# array([ 1,  2,  3, 11, 12, 13]) 출력해 보기\n",
    "a1 = np.array([1,2,3])\n",
    "a2 = np.array([11,12,13])\n",
    "np.hstack([a1,a2])"
   ]
  },
  {
   "cell_type": "code",
   "execution_count": 62,
   "id": "44d6f336-c416-42de-b9c7-aaca70de97ac",
   "metadata": {},
   "outputs": [
    {
     "data": {
      "text/plain": [
       "array([ 1,  2,  3, 11, 12, 13])"
      ]
     },
     "execution_count": 62,
     "metadata": {},
     "output_type": "execute_result"
    }
   ],
   "source": [
    "# r_[] : hstack과 비슷한 결과 값 나옴\n",
    "#        특별한 함수, 인덱서함수, r(row)\n",
    "np.r_[a1,a2]\n",
    "# 결과 : array([ 1,  2,  3, 11, 12, 13])"
   ]
  },
  {
   "cell_type": "code",
   "execution_count": 63,
   "id": "248d80b7-16be-4c87-8557-e73cca4b440f",
   "metadata": {},
   "outputs": [
    {
     "data": {
      "text/plain": [
       "array([[ 1, 11],\n",
       "       [ 2, 12],\n",
       "       [ 3, 13]])"
      ]
     },
     "execution_count": 63,
     "metadata": {},
     "output_type": "execute_result"
    }
   ],
   "source": [
    "# c_[] : 특별한 함수, 인덱서함수, c(column)\n",
    "np.c_[a1,a2]\n",
    "# 결과 값\n",
    "# array([[ 1, 11],\n",
    "#        [ 2, 12],\n",
    "#        [ 3, 13]])"
   ]
  },
  {
   "cell_type": "code",
   "execution_count": 64,
   "id": "d8631296-91b8-4d45-932e-c08e34ec75d6",
   "metadata": {},
   "outputs": [
    {
     "data": {
      "text/plain": [
       "array([[ 1,  2,  3],\n",
       "       [11, 12, 13]])"
      ]
     },
     "execution_count": 64,
     "metadata": {},
     "output_type": "execute_result"
    }
   ],
   "source": [
    "# c_[]함수와 vstack 결과 값 비교\n",
    "a1 = np.array([1,2,3])\n",
    "a2 = np.array([11,12,13])\n",
    "np.vstack([a1,a2])\n",
    "\n",
    "# array([[ 1,  2,  3],\n",
    "#        [11, 12, 13]])"
   ]
  },
  {
   "cell_type": "code",
   "execution_count": 67,
   "id": "35483606-9584-44f6-b4ac-50ef4a816845",
   "metadata": {},
   "outputs": [
    {
     "data": {
      "text/plain": [
       "array([[0, 1, 2],\n",
       "       [3, 4, 5]])"
      ]
     },
     "execution_count": 67,
     "metadata": {},
     "output_type": "execute_result"
    }
   ],
   "source": [
    "# tile : 동일한 배열을 반복해서 연결 / 사용 빈도 적음\n",
    "arr = np.arange(6).reshape(2,3)\n",
    "arr"
   ]
  },
  {
   "cell_type": "code",
   "execution_count": 68,
   "id": "8f2b1f95-7c99-4890-bb99-f236fca881f8",
   "metadata": {},
   "outputs": [
    {
     "ename": "TypeError",
     "evalue": "tile() missing 1 required positional argument: 'reps'",
     "output_type": "error",
     "traceback": [
      "\u001b[0;31m---------------------------------------------------------------------------\u001b[0m",
      "\u001b[0;31mTypeError\u001b[0m                                 Traceback (most recent call last)",
      "Cell \u001b[0;32mIn[68], line 1\u001b[0m\n\u001b[0;32m----> 1\u001b[0m \u001b[43mnp\u001b[49m\u001b[38;5;241;43m.\u001b[39;49m\u001b[43mtile\u001b[49m\u001b[43m(\u001b[49m\u001b[43marr\u001b[49m\u001b[43m)\u001b[49m\n",
      "\u001b[0;31mTypeError\u001b[0m: tile() missing 1 required positional argument: 'reps'"
     ]
    }
   ],
   "source": [
    "# tile함수 잘못된 형식 : 반복 숫자가 없어서 오류 발생\n",
    "np.tile(arr)"
   ]
  },
  {
   "cell_type": "code",
   "execution_count": 69,
   "id": "084672f4-7669-4410-9163-aba40d894543",
   "metadata": {},
   "outputs": [
    {
     "data": {
      "text/plain": [
       "array([[0, 1, 2, 0, 1, 2, 0, 1, 2],\n",
       "       [3, 4, 5, 3, 4, 5, 3, 4, 5]])"
      ]
     },
     "execution_count": 69,
     "metadata": {},
     "output_type": "execute_result"
    }
   ],
   "source": [
    "# tile함수 옳은 형식들\n",
    "np.tile(arr, 3) # 좌우 방향으로 3번 반복 "
   ]
  },
  {
   "cell_type": "code",
   "execution_count": 70,
   "id": "af8c786e-aa75-47cf-ad53-7489c527aee0",
   "metadata": {},
   "outputs": [
    {
     "data": {
      "text/plain": [
       "array([[0, 1, 2],\n",
       "       [3, 4, 5],\n",
       "       [0, 1, 2],\n",
       "       [3, 4, 5],\n",
       "       [0, 1, 2],\n",
       "       [3, 4, 5]])"
      ]
     },
     "execution_count": 70,
     "metadata": {},
     "output_type": "execute_result"
    }
   ],
   "source": [
    "np.tile(arr,(3,1)) # 위아래로 3번 반복, 좌우 방향으로 1번 반복"
   ]
  },
  {
   "cell_type": "code",
   "execution_count": 71,
   "id": "c34eb336-41fd-4d21-aedb-279ed9ecfe5d",
   "metadata": {},
   "outputs": [
    {
     "data": {
      "text/plain": [
       "array([[0, 1, 2, 0, 1, 2],\n",
       "       [3, 4, 5, 3, 4, 5],\n",
       "       [0, 1, 2, 0, 1, 2],\n",
       "       [3, 4, 5, 3, 4, 5],\n",
       "       [0, 1, 2, 0, 1, 2],\n",
       "       [3, 4, 5, 3, 4, 5]])"
      ]
     },
     "execution_count": 71,
     "metadata": {},
     "output_type": "execute_result"
    }
   ],
   "source": [
    "np.tile(arr,(3,2)) # 위아래로 3번 반복, 좌우 방향으로 2번 반복"
   ]
  },
  {
   "cell_type": "code",
   "execution_count": 73,
   "id": "f3aae4bc-bbea-4751-8032-bd6ca12a8557",
   "metadata": {},
   "outputs": [
    {
     "data": {
      "text/plain": [
       "array([[0., 0., 0., 1., 1.],\n",
       "       [0., 0., 0., 1., 1.],\n",
       "       [0., 0., 0., 1., 1.]])"
      ]
     },
     "execution_count": 73,
     "metadata": {},
     "output_type": "execute_result"
    }
   ],
   "source": [
    "# 중간 점검\n",
    "# 아래와 같이 출력 하시오\n",
    "# [[0., 0., 0., 1., 1.],\n",
    "#  [0., 0., 0., 1., 1.],\n",
    "#  [0., 0., 0., 1., 1.]]\n",
    "\n",
    "# 첫번째 방식\n",
    "arr = np.array([0,0,0,1,1])\n",
    "np.tile(arr,(3,1))\n",
    "\n",
    "#두번째 방식\n",
    "arr1=np.ones((3,2))\n",
    "arr2=np.zeros((3,3))\n",
    "np.hstack([arr2,arr1])"
   ]
  },
  {
   "cell_type": "code",
   "execution_count": null,
   "id": "bcdab760-194e-412a-b4fb-d9c52c8f60e0",
   "metadata": {},
   "outputs": [],
   "source": []
  },
  {
   "cell_type": "code",
   "execution_count": 74,
   "id": "fef37f8b-2ed3-46ab-872b-5ea20f7ff0e2",
   "metadata": {},
   "outputs": [],
   "source": [
    "# meshgrid() 함수 : 사각형의 영역을 출력\n",
    "x = np.arange(3)\n",
    "y = np.arange(5)\n",
    "# (x,y) = (0,0),(0,1)...(0,4),(1,0)...(1,4)...(2,4)"
   ]
  },
  {
   "cell_type": "code",
   "execution_count": 75,
   "id": "fcee69c6-5b9f-4dad-bb1e-f2afd2c11b83",
   "metadata": {},
   "outputs": [
    {
     "data": {
      "text/plain": [
       "array([0, 1, 2])"
      ]
     },
     "execution_count": 75,
     "metadata": {},
     "output_type": "execute_result"
    }
   ],
   "source": [
    "x"
   ]
  },
  {
   "cell_type": "code",
   "execution_count": 76,
   "id": "af2ffba1-0100-48e5-a6e3-abad4488d45e",
   "metadata": {},
   "outputs": [
    {
     "data": {
      "text/plain": [
       "array([0, 1, 2, 3, 4])"
      ]
     },
     "execution_count": 76,
     "metadata": {},
     "output_type": "execute_result"
    }
   ],
   "source": [
    "y"
   ]
  },
  {
   "cell_type": "code",
   "execution_count": 78,
   "id": "a952bca4-f264-4fd7-a4e5-9252556bd7cd",
   "metadata": {},
   "outputs": [],
   "source": [
    "x,y = np.meshgrid(x,y)"
   ]
  },
  {
   "cell_type": "code",
   "execution_count": 79,
   "id": "70594717-b4d6-4c1f-8efa-e39ba52de023",
   "metadata": {},
   "outputs": [
    {
     "data": {
      "text/plain": [
       "array([[0, 1, 2],\n",
       "       [0, 1, 2],\n",
       "       [0, 1, 2],\n",
       "       [0, 1, 2],\n",
       "       [0, 1, 2]])"
      ]
     },
     "execution_count": 79,
     "metadata": {},
     "output_type": "execute_result"
    }
   ],
   "source": [
    "x"
   ]
  },
  {
   "cell_type": "code",
   "execution_count": 80,
   "id": "95e7e820-207f-4bd6-ae0a-c069f8b68cfa",
   "metadata": {},
   "outputs": [
    {
     "data": {
      "text/plain": [
       "array([[0, 0, 0],\n",
       "       [1, 1, 1],\n",
       "       [2, 2, 2],\n",
       "       [3, 3, 3],\n",
       "       [4, 4, 4]])"
      ]
     },
     "execution_count": 80,
     "metadata": {},
     "output_type": "execute_result"
    }
   ],
   "source": [
    "y"
   ]
  },
  {
   "cell_type": "code",
   "execution_count": 81,
   "id": "fb920b2f-9436-4990-b5ce-268366a689cd",
   "metadata": {},
   "outputs": [],
   "source": [
    "# (x,y) = (0,0),(0,1)...(0,4),(1,0)...(1,4)...(2,4)"
   ]
  },
  {
   "cell_type": "code",
   "execution_count": 82,
   "id": "79ff569a-f2b4-4653-80d0-692f6e8724f7",
   "metadata": {},
   "outputs": [
    {
     "data": {
      "text/plain": [
       "[[(0, 0), (1, 0), (2, 0)],\n",
       " [(0, 1), (1, 1), (2, 1)],\n",
       " [(0, 2), (1, 2), (2, 2)],\n",
       " [(0, 3), (1, 3), (2, 3)],\n",
       " [(0, 4), (1, 4), (2, 4)]]"
      ]
     },
     "execution_count": 82,
     "metadata": {},
     "output_type": "execute_result"
    }
   ],
   "source": [
    "[list(zip(x,y)) for x,y in zip(x,y)]"
   ]
  },
  {
   "cell_type": "code",
   "execution_count": null,
   "id": "9718f7dd-a39b-43df-a790-a43ed36a4d63",
   "metadata": {},
   "outputs": [],
   "source": []
  },
  {
   "cell_type": "code",
   "execution_count": 83,
   "id": "cdc8488b-57ca-4463-946f-44c477a7d5ab",
   "metadata": {},
   "outputs": [],
   "source": [
    "#concatenate 함수 : 하나로 합치는 합수\n",
    "arr1 = np.array([1,2,3])\n",
    "arr2 = np.array([11,21,31])"
   ]
  },
  {
   "cell_type": "code",
   "execution_count": 84,
   "id": "96eae5a1-39e0-4a9a-81bf-e5e4c2f9e0d1",
   "metadata": {},
   "outputs": [
    {
     "data": {
      "text/plain": [
       "array([ 1,  2,  3, 11, 21, 31])"
      ]
     },
     "execution_count": 84,
     "metadata": {},
     "output_type": "execute_result"
    }
   ],
   "source": [
    "# 인수 1개있어애하며 [] 혹은 ()로 사용해야한다.\n",
    "np.concatenate((arr1,arr2))"
   ]
  },
  {
   "cell_type": "code",
   "execution_count": 92,
   "id": "7010e5ac-67bc-42c4-8192-8a3d85c4d09b",
   "metadata": {},
   "outputs": [
    {
     "data": {
      "text/plain": [
       "array([[ 0,  1,  2,  3,  4,  5],\n",
       "       [10, 11, 12, 13, 14, 15],\n",
       "       [20, 21, 22, 23, 24, 25],\n",
       "       [30, 31, 32, 33, 34, 35],\n",
       "       [40, 41, 42, 43, 44, 45],\n",
       "       [50, 51, 52, 53, 54, 55]])"
      ]
     },
     "execution_count": 92,
     "metadata": {},
     "output_type": "execute_result"
    }
   ],
   "source": [
    "# 중간점검\n",
    "# 아래 같이 출력하시오.\n",
    "# array([[0,1,2,3,4,5],\n",
    "#        [10,11,12,13,14,15],\n",
    "#        [20,21,22,23,24,25],\n",
    "#        [30,31,32,33,34,35],\n",
    "#        [40,41,42,43,44,45],\n",
    "#        [50,51,52,53,54,55]])\n",
    "\n",
    "# 1\n",
    "arr1 = np.arange(6)\n",
    "arr2 = np.arange(0, 56, 10)\n",
    "\n",
    "x = arr1 + arr2[:, np.newaxis]\n",
    "x\n",
    "\n",
    "# 2\n",
    "arr1 = np.arange(6)\n",
    "arr2 = np.arange(0, 51, 10)\n",
    "n, m = np.meshgrid(arr1, arr2)\n",
    "m + n\n",
    "\n",
    "# 3\n",
    "arr = np.arange(6)\n",
    "res = arr\n",
    "for i in range(5):\n",
    "    new_arr = res + 10\n",
    "    res = np.vstack([arr, new_arr])\n",
    "res\n",
    "\n",
    "# 4\n",
    "arr = np.arange(6)\n",
    "res = arr\n",
    "for i in range(5):\n",
    "    new_arr = res + 10\n",
    "    res = np.vstack([arr, new_arr])\n",
    "res\n",
    "\n",
    "# 5\n",
    "arrays = []\n",
    "for i in range(6):\n",
    "    arr = np.arange(0 + i * 10, 6 + i * 10)\n",
    "    arrays.append(arr)\n",
    "\n",
    "res = np.concatenate(arrays)\n",
    "res.reshape(6,6)"
   ]
  },
  {
   "cell_type": "code",
   "execution_count": 103,
   "id": "2166ff85-39d1-463c-b1df-dd4e3d96368a",
   "metadata": {},
   "outputs": [],
   "source": [
    "a=np.arange(1,5)\n",
    "b=np.array([4,2,2,4,])"
   ]
  },
  {
   "cell_type": "code",
   "execution_count": 104,
   "id": "733bb61d-1524-400a-8132-e9d39a22b847",
   "metadata": {},
   "outputs": [
    {
     "data": {
      "text/plain": [
       "array([1, 2, 3, 4])"
      ]
     },
     "execution_count": 104,
     "metadata": {},
     "output_type": "execute_result"
    }
   ],
   "source": [
    "a"
   ]
  },
  {
   "cell_type": "code",
   "execution_count": 105,
   "id": "8274563f-a34d-497d-87de-e35592a9d124",
   "metadata": {},
   "outputs": [
    {
     "data": {
      "text/plain": [
       "array([4, 2, 2, 4])"
      ]
     },
     "execution_count": 105,
     "metadata": {},
     "output_type": "execute_result"
    }
   ],
   "source": [
    "b"
   ]
  },
  {
   "cell_type": "code",
   "execution_count": 106,
   "id": "ef8803cb-3575-4846-8114-0cac4fccb75d",
   "metadata": {},
   "outputs": [
    {
     "data": {
      "text/plain": [
       "array([False,  True,  True,  True])"
      ]
     },
     "execution_count": 106,
     "metadata": {},
     "output_type": "execute_result"
    }
   ],
   "source": [
    "# 비교연산\n",
    "a >= b\n",
    "# array([False,  True,  True,  True]) 출력"
   ]
  },
  {
   "cell_type": "code",
   "execution_count": 107,
   "id": "376ae310-f56a-45d8-a836-95a124f4208a",
   "metadata": {},
   "outputs": [
    {
     "data": {
      "text/plain": [
       "False"
      ]
     },
     "execution_count": 107,
     "metadata": {},
     "output_type": "execute_result"
    }
   ],
   "source": [
    "# np.all(x <>= y)\n",
    "# 각요소들을 일일이 비교하는게 아니라, 배열의 모든 요소에 대해 조건을 비교\n",
    "np.all(a >= b) "
   ]
  },
  {
   "cell_type": "code",
   "execution_count": 113,
   "id": "5996b726-1f32-414e-8dde-089cf6545e9f",
   "metadata": {},
   "outputs": [],
   "source": [
    "#벡터(행렬)끼리 연산하려면 크기가 동일해야 함\n",
    "# 브로드캐스팅: 백터(행렬)의 크기가 다르더라도 연산이 가능하도록\n",
    "# 크기를 동일하게 해주는 작업\n",
    "\n",
    "# 예시\n",
    "# 벡터        스칼라\n",
    "# 1          10(분신)    11\n",
    "# 2      +   10       = 12\n",
    "# 3          10(분신)    13\n",
    "# 4          10(분신)    14"
   ]
  },
  {
   "cell_type": "code",
   "execution_count": 114,
   "id": "c7c88dd8-bec7-422f-b233-6c065dbbffcc",
   "metadata": {},
   "outputs": [
    {
     "data": {
      "text/plain": [
       "array([1, 2, 3, 4])"
      ]
     },
     "execution_count": 114,
     "metadata": {},
     "output_type": "execute_result"
    }
   ],
   "source": [
    "x = np.arange(1,5)\n",
    "x"
   ]
  },
  {
   "cell_type": "code",
   "execution_count": 115,
   "id": "a47274d7-cc02-4c3e-8482-eefc4a457036",
   "metadata": {},
   "outputs": [],
   "source": [
    "y = 10"
   ]
  },
  {
   "cell_type": "code",
   "execution_count": 116,
   "id": "eb0ed1c7-02c0-437c-813d-00d3ae54161b",
   "metadata": {},
   "outputs": [
    {
     "data": {
      "text/plain": [
       "10"
      ]
     },
     "execution_count": 116,
     "metadata": {},
     "output_type": "execute_result"
    }
   ],
   "source": [
    "y"
   ]
  },
  {
   "cell_type": "code",
   "execution_count": 112,
   "id": "e8fff6d7-34c7-492f-9b03-76039f827e32",
   "metadata": {},
   "outputs": [
    {
     "data": {
      "text/plain": [
       "array([11, 12, 13, 14])"
      ]
     },
     "execution_count": 112,
     "metadata": {},
     "output_type": "execute_result"
    }
   ],
   "source": [
    "x + y"
   ]
  },
  {
   "cell_type": "code",
   "execution_count": null,
   "id": "e159cbd1-331e-4f60-a2e9-570db03b94eb",
   "metadata": {},
   "outputs": [],
   "source": [
    "행렬(2)       백터(1차원)->행열(2차원) 변경\n",
    "             원래 백터 숫자 | 원래 없는 숫자\n",
    "0 1 2        10(본체)     | 10(분신) 10(분신)\n",
    "1 2 3    +   11(본체)     | 11(분신) 11(분신)\n",
    "3 4 5        12(본체)     | 12(분신) 12(분신)\n",
    "여기에서는 열 방향으로 증가함"
   ]
  },
  {
   "cell_type": "code",
   "execution_count": null,
   "id": "739a762d-41b8-4e03-92a4-f620b353992f",
   "metadata": {},
   "outputs": [],
   "source": [
    "행렬(2)       백터(1차원)->행열(2차원) 변경\n",
    "             \n",
    "0 1 2        [10 11 12] (분신)\n",
    "1 2 3    +   [10 11 12] (본체)\n",
    "3 4 5        [10 11 12] (분신)\n",
    "여기에서는 행 방향으로 증가함"
   ]
  },
  {
   "cell_type": "code",
   "execution_count": 120,
   "id": "e4cd7be9-b095-49d6-ae33-52f82d809af9",
   "metadata": {},
   "outputs": [
    {
     "data": {
      "text/plain": [
       "array([1, 2, 3, 4, 5])"
      ]
     },
     "execution_count": 120,
     "metadata": {},
     "output_type": "execute_result"
    }
   ],
   "source": [
    "x = np.arange(5)\n",
    "y=1\n",
    "x+y"
   ]
  },
  {
   "cell_type": "code",
   "execution_count": 121,
   "id": "971f3464-db07-4663-b2d2-356589690b9b",
   "metadata": {},
   "outputs": [
    {
     "data": {
      "text/plain": [
       "array([1, 1, 1, 1, 1])"
      ]
     },
     "execution_count": 121,
     "metadata": {},
     "output_type": "execute_result"
    }
   ],
   "source": [
    "y = np.ones_like(x)\n",
    "y"
   ]
  },
  {
   "cell_type": "code",
   "execution_count": 122,
   "id": "e2de0440-f6ad-4ee7-a9d4-ddba510daa9e",
   "metadata": {},
   "outputs": [
    {
     "data": {
      "text/plain": [
       "array([0, 1, 2, 3, 4])"
      ]
     },
     "execution_count": 122,
     "metadata": {},
     "output_type": "execute_result"
    }
   ],
   "source": [
    "x"
   ]
  },
  {
   "cell_type": "code",
   "execution_count": 123,
   "id": "a0bcdc59-db3d-4a22-a841-30dd62b2b860",
   "metadata": {},
   "outputs": [
    {
     "data": {
      "text/plain": [
       "array([1, 2, 3, 4, 5])"
      ]
     },
     "execution_count": 123,
     "metadata": {},
     "output_type": "execute_result"
    }
   ],
   "source": [
    "x+y"
   ]
  },
  {
   "cell_type": "code",
   "execution_count": null,
   "id": "d3bd5adb-67b7-4fda-9506-d0056fbaad19",
   "metadata": {},
   "outputs": [],
   "source": []
  },
  {
   "cell_type": "code",
   "execution_count": 132,
   "id": "e7e28343-fc1b-4269-84ff-385cb26dfd44",
   "metadata": {},
   "outputs": [
    {
     "data": {
      "text/plain": [
       "array([[0, 1, 2],\n",
       "       [1, 2, 3],\n",
       "       [2, 3, 4],\n",
       "       [3, 4, 5],\n",
       "       [4, 5, 6]])"
      ]
     },
     "execution_count": 132,
     "metadata": {},
     "output_type": "execute_result"
    }
   ],
   "source": [
    "# array([[0,1,2],\n",
    "#        [1,2,3],\n",
    "#        [2,3,4],\n",
    "#        [3,4,5],\n",
    "#        [4,5,6]])\n",
    "\n",
    "# 1\n",
    "x = np.arange(3)\n",
    "y = np.tile(x, (5, 1)) + np.arange(5)[:, np.newaxis]\n",
    "y\n",
    "\n",
    "# 2\n",
    "x=np.arange(3)\n",
    "y=np.arange(5)\n",
    "x,y=np.meshgrid(x,y)\n",
    "x+y\n",
    "\n",
    "# 3\n",
    "x, y = np.arange(3), np.arange(5)\n",
    "x, y = np.meshgrid(x, y)\n",
    "x + y\n",
    "\n",
    "# 4\n",
    "x = np.arange(3)\n",
    "y = np.array([[0],[1],[2],[3],[4]])\n",
    "x+y\n",
    "\n",
    "# 5\n",
    "arr=np.arange(3)\n",
    "arr_f= [arr + i for i in range(5)]\n",
    "arr_f=np.array(arr_f)\n",
    "arr_f\n",
    "\n",
    "# 6\n",
    "x,y=np.meshgrid(np.arange(3),np.arange(5))\n",
    "x+y\n",
    "\n",
    "# 7\n",
    "np.vstack([range(7)[i : i+3] for i in range(5)])"
   ]
  },
  {
   "cell_type": "code",
   "execution_count": null,
   "id": "dada22d6-bde0-4a13-bff2-5ebea19caa9c",
   "metadata": {},
   "outputs": [],
   "source": []
  }
 ],
 "metadata": {
  "kernelspec": {
   "display_name": "Python 3 (ipykernel)",
   "language": "python",
   "name": "python3"
  },
  "language_info": {
   "codemirror_mode": {
    "name": "ipython",
    "version": 3
   },
   "file_extension": ".py",
   "mimetype": "text/x-python",
   "name": "python",
   "nbconvert_exporter": "python",
   "pygments_lexer": "ipython3",
   "version": "3.12.3"
  }
 },
 "nbformat": 4,
 "nbformat_minor": 5
}
