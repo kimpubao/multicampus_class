{
 "cells": [
  {
   "cell_type": "code",
   "execution_count": 1,
   "metadata": {},
   "outputs": [
    {
     "data": {
      "text/plain": [
       "'Dead Man Walking (1995)'"
      ]
     },
     "execution_count": 1,
     "metadata": {},
     "output_type": "execute_result"
    }
   ],
   "source": [
    "import pandas as pd\n",
    "from sklearn.metrics.pairwise import cosine_similarity\n",
    "\n",
    "# 데이터 불러오기\n",
    "movie_data = pd.read_csv('archive/movies.csv')\n",
    "rating_data = pd.read_csv('archive/ratings.csv')\n",
    "\n",
    "# 영화와 사용자의 평점 테이블 만들기\n",
    "movie_user_rating = rating_data.pivot_table('rating', index='movieId', columns='userId').fillna(0)\n",
    "\n",
    "# 코사인 유사도 계산\n",
    "item_based_cola_sim = cosine_similarity(movie_user_rating)\n",
    "item_based_cola_sim_df = pd.DataFrame(data=item_based_cola_sim, index=movie_user_rating.index, columns=movie_user_rating.index)\n",
    "\n",
    "# 'Leaving Las Vegas (1995)' 영화의 movieId 찾기\n",
    "movie_id = movie_data[movie_data['title'] == 'Leaving Las Vegas (1995)']['movieId'].values[0]\n",
    "\n",
    "# 'Leaving Las Vegas (1995)' 영화와 가장 유사한 영화 찾기 (자신 제외)\n",
    "most_similar_movie_id = item_based_cola_sim_df[movie_id].sort_values(ascending=False).index[1]  # 첫 번째는 자신이므로 두 번째로 유사한 영화 선택\n",
    "\n",
    "# 가장 유사한 영화 제목 출력\n",
    "most_similar_movie_title = movie_data[movie_data['movieId'] == most_similar_movie_id]['title'].values[0]\n",
    "most_similar_movie_title"
   ]
  },
  {
   "cell_type": "code",
   "execution_count": 2,
   "metadata": {},
   "outputs": [
    {
     "ename": "KeyboardInterrupt",
     "evalue": "Interrupted by user",
     "output_type": "error",
     "traceback": [
      "\u001b[0;31m---------------------------------------------------------------------------\u001b[0m",
      "\u001b[0;31mKeyboardInterrupt\u001b[0m                         Traceback (most recent call last)",
      "Cell \u001b[0;32mIn[2], line 1\u001b[0m\n\u001b[0;32m----> 1\u001b[0m movie_user_rating\u001b[38;5;241m.\u001b[39mindex[item_based_cola_sim[movie_user_rating\u001b[38;5;241m.\u001b[39mindex\u001b[38;5;241m.\u001b[39mget_loc(\u001b[38;5;28;43minput\u001b[39;49m\u001b[43m(\u001b[49m\u001b[38;5;124;43m\"\u001b[39;49m\u001b[38;5;124;43m영화 제목: \u001b[39;49m\u001b[38;5;124;43m\"\u001b[39;49m\u001b[43m)\u001b[49m)]\u001b[38;5;241m.\u001b[39margsort()[\u001b[38;5;241m-\u001b[39m\u001b[38;5;241m2\u001b[39m:\u001b[38;5;241m-\u001b[39m\u001b[38;5;241m7\u001b[39m:\u001b[38;5;241m-\u001b[39m\u001b[38;5;241m1\u001b[39m]]\n",
      "File \u001b[0;32m/Library/Frameworks/Python.framework/Versions/3.12/lib/python3.12/site-packages/ipykernel/kernelbase.py:1270\u001b[0m, in \u001b[0;36mKernel.raw_input\u001b[0;34m(self, prompt)\u001b[0m\n\u001b[1;32m   1268\u001b[0m     msg \u001b[38;5;241m=\u001b[39m \u001b[38;5;124m\"\u001b[39m\u001b[38;5;124mraw_input was called, but this frontend does not support input requests.\u001b[39m\u001b[38;5;124m\"\u001b[39m\n\u001b[1;32m   1269\u001b[0m     \u001b[38;5;28;01mraise\u001b[39;00m StdinNotImplementedError(msg)\n\u001b[0;32m-> 1270\u001b[0m \u001b[38;5;28;01mreturn\u001b[39;00m \u001b[38;5;28;43mself\u001b[39;49m\u001b[38;5;241;43m.\u001b[39;49m\u001b[43m_input_request\u001b[49m\u001b[43m(\u001b[49m\n\u001b[1;32m   1271\u001b[0m \u001b[43m    \u001b[49m\u001b[38;5;28;43mstr\u001b[39;49m\u001b[43m(\u001b[49m\u001b[43mprompt\u001b[49m\u001b[43m)\u001b[49m\u001b[43m,\u001b[49m\n\u001b[1;32m   1272\u001b[0m \u001b[43m    \u001b[49m\u001b[38;5;28;43mself\u001b[39;49m\u001b[38;5;241;43m.\u001b[39;49m\u001b[43m_parent_ident\u001b[49m\u001b[43m[\u001b[49m\u001b[38;5;124;43m\"\u001b[39;49m\u001b[38;5;124;43mshell\u001b[39;49m\u001b[38;5;124;43m\"\u001b[39;49m\u001b[43m]\u001b[49m\u001b[43m,\u001b[49m\n\u001b[1;32m   1273\u001b[0m \u001b[43m    \u001b[49m\u001b[38;5;28;43mself\u001b[39;49m\u001b[38;5;241;43m.\u001b[39;49m\u001b[43mget_parent\u001b[49m\u001b[43m(\u001b[49m\u001b[38;5;124;43m\"\u001b[39;49m\u001b[38;5;124;43mshell\u001b[39;49m\u001b[38;5;124;43m\"\u001b[39;49m\u001b[43m)\u001b[49m\u001b[43m,\u001b[49m\n\u001b[1;32m   1274\u001b[0m \u001b[43m    \u001b[49m\u001b[43mpassword\u001b[49m\u001b[38;5;241;43m=\u001b[39;49m\u001b[38;5;28;43;01mFalse\u001b[39;49;00m\u001b[43m,\u001b[49m\n\u001b[1;32m   1275\u001b[0m \u001b[43m\u001b[49m\u001b[43m)\u001b[49m\n",
      "File \u001b[0;32m/Library/Frameworks/Python.framework/Versions/3.12/lib/python3.12/site-packages/ipykernel/kernelbase.py:1313\u001b[0m, in \u001b[0;36mKernel._input_request\u001b[0;34m(self, prompt, ident, parent, password)\u001b[0m\n\u001b[1;32m   1310\u001b[0m \u001b[38;5;28;01mexcept\u001b[39;00m \u001b[38;5;167;01mKeyboardInterrupt\u001b[39;00m:\n\u001b[1;32m   1311\u001b[0m     \u001b[38;5;66;03m# re-raise KeyboardInterrupt, to truncate traceback\u001b[39;00m\n\u001b[1;32m   1312\u001b[0m     msg \u001b[38;5;241m=\u001b[39m \u001b[38;5;124m\"\u001b[39m\u001b[38;5;124mInterrupted by user\u001b[39m\u001b[38;5;124m\"\u001b[39m\n\u001b[0;32m-> 1313\u001b[0m     \u001b[38;5;28;01mraise\u001b[39;00m \u001b[38;5;167;01mKeyboardInterrupt\u001b[39;00m(msg) \u001b[38;5;28;01mfrom\u001b[39;00m \u001b[38;5;28;01mNone\u001b[39;00m\n\u001b[1;32m   1314\u001b[0m \u001b[38;5;28;01mexcept\u001b[39;00m \u001b[38;5;167;01mException\u001b[39;00m:\n\u001b[1;32m   1315\u001b[0m     \u001b[38;5;28mself\u001b[39m\u001b[38;5;241m.\u001b[39mlog\u001b[38;5;241m.\u001b[39mwarning(\u001b[38;5;124m\"\u001b[39m\u001b[38;5;124mInvalid Message:\u001b[39m\u001b[38;5;124m\"\u001b[39m, exc_info\u001b[38;5;241m=\u001b[39m\u001b[38;5;28;01mTrue\u001b[39;00m)\n",
      "\u001b[0;31mKeyboardInterrupt\u001b[0m: Interrupted by user"
     ]
    }
   ],
   "source": [
    "movie_user_rating.index[item_based_cola_sim[movie_user_rating.index.get_loc(input(\"영화 제목: \"))].argsort()[-2:-7:-1]]"
   ]
  },
  {
   "cell_type": "code",
   "execution_count": null,
   "metadata": {},
   "outputs": [],
   "source": [
    "import pandas as pd\n",
    "from sklearn.metrics.pairwise import cosine_similarity\n",
    "\n",
    "# 데이터 불러오기\n",
    "movie_data = pd.read_csv('archive/movies.csv')\n",
    "rating_data = pd.read_csv('archive/ratings.csv')\n",
    "\n",
    "# 영화 제목과 평점을 함께 포함하도록 데이터 병합\n",
    "data = pd.merge(rating_data, movie_data, on='movieId')\n",
    "\n",
    "# 사용자-아이템 행렬 생성\n",
    "movie_user_rating = data.pivot_table(index='userId', columns='title', values='rating')\n",
    "\n",
    "# 결측값을 0으로 채움\n",
    "movie_user_rating.fillna(0, inplace=True)\n",
    "\n",
    "# 코사인 유사도 행렬 계산\n",
    "item_based_cola_sim = cosine_similarity(movie_user_rating.T)\n",
    "\n",
    "# 유사도 행렬을 DataFrame으로 변환하여 다루기 쉽게 함\n",
    "item_based_cola_sim_df = pd.DataFrame(item_based_cola_sim, index=movie_user_rating.columns, columns=movie_user_rating.columns)\n",
    "\n",
    "# 사용자에게 영화 제목을 입력받아 유사한 영화 5편 출력\n",
    "movie_title = input(\"영화 제목: \")\n",
    "\n",
    "# 영화 제목이 데이터셋에 있는지 확인\n",
    "if movie_title in movie_user_rating.columns:\n",
    "    # 영화 제목의 인덱스를 찾음\n",
    "    movie_index = movie_user_rating.columns.get_loc(movie_title)\n",
    "    \n",
    "    # 유사도 점수를 추출\n",
    "    similarities = item_based_cola_sim_df.iloc[movie_index]\n",
    "    \n",
    "    # 유사도 점수를 기준으로 상위 5개의 영화 인덱스를 찾음 (자기 자신 제외)\n",
    "    top_similar_indices = similarities.nlargest(6).index[1:6]\n",
    "    \n",
    "    # 유사한 영화 제목들\n",
    "    similar_movies = movie_user_rating.columns[top_similar_indices]\n",
    "    print(\"유사한 영화 5편:\", similar_movies)\n",
    "else:\n",
    "    print(f\"영화 '{movie_title}'가 데이터셋에 없습니다.\")\n"
   ]
  }
 ],
 "metadata": {
  "kernelspec": {
   "display_name": "Python 3",
   "language": "python",
   "name": "python3"
  },
  "language_info": {
   "codemirror_mode": {
    "name": "ipython",
    "version": 3
   },
   "file_extension": ".py",
   "mimetype": "text/x-python",
   "name": "python",
   "nbconvert_exporter": "python",
   "pygments_lexer": "ipython3",
   "version": "3.12.3"
  }
 },
 "nbformat": 4,
 "nbformat_minor": 2
}
