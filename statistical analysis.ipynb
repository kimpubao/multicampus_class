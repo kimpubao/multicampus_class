{
 "cells": [
  {
   "cell_type": "markdown",
   "metadata": {},
   "source": [
    "통계 분석\n",
    "필요한 이유 : 판단,의사결정하기 위해 필요하다.\n",
    "           모든현상이 확률이라서 불확성하다.\n",
    "           비교 / 예측 / 전체추측\n",
    "           \n",
    "\n",
    "\n",
    "빅데이터 마이닝 통계와 연관성\n",
    "           빅데이터 마이닝이 통계와 연관이 있다.\n",
    "\n",
    "용어\n",
    "           -탐색적 데이터 분석(EDA) : 데이터 패턴 / 이상치를 분석하는 과정\n",
    "           -확인적 데이터 분석(CDA) : 가설을 새우고 타당성 증명한는 과정\n",
    "           EDA를 통해 데이터를 이해, 가설 생성하고\n",
    "           CDA를 통해 가설 검증\n",
    "\n",
    "           -머신러닝 : 데이터의 통계적 패턴을 학습\n",
    "           -딥러닝 : 머신 러닝의 부분 집합\n",
    "                   머신러닝의 신경망을 개선한 학습 기법\n",
    "\n",
    "           -데이터마이닝 : 대규모 데이터셋에서 숨겨진 패턴, 추세, 관계를 찾아내는 과정\n",
    "                        # data mining \n",
    "                        # mine : 광물등을 캔다\n",
    "                        데이터분석에 포함이 되어있다.\n",
    "\n",
    "\n",
    "            # 취업사이트 키워드\n",
    "            # 데이터마이닝 : 데이터 분석에 포함되어있어 \n",
    "                         데이터 마이닝 / 데이터 분석을 검색해도 무관하다\n",
    "\n",
    "            \n",
    "            빅데이터 3v : 거대한 규모(volume), 빠른 속도(velocity), 높은 다양성(variety)특징으로 하는 데이터\n",
    "\n",
    "            정형 데이터 : 엑셀 / 표 / 테이블\n",
    "            비정형 데이터 : 텍스트 등등\n",
    "            사물인터넷(IoT, Internet of Things) : 센서(및 기타 기술)가 장착된 연결된 오브젝트와 장치(일명 \"사물\")로 \n",
    "                                               이루어진 네트워크\n",
    "\n",
    "\n",
    "데이터 분석 도구 : 파이썬 / 태블로 / R / 엑셀 등\n",
    "               엑셀은 데이터 분석 가능하지만 규모가 작은것들만 가능\n",
    "               파이썬은 패키지를 통해 데이터 분석 가능 / 머신러닝,딥러닝 가능\n",
    "               R은 데이터분석만 가능하고 배우기 쉽다.\n",
    "\n",
    "\n",
    "용어\n",
    "               CASE(사례) : 데이터 수집 단위 / 표형태로 만들고 분석기법으로 분석 진행\n",
    "               변수 : 데이터 모델에서 사용하는 예측을 수행하는 데 사용되는 입력 변수\n",
    "                     RDBMS에서 속성(열)이라고 부르는 것을 머신러닝에서는 통계학의 영향으로 변수(Feature)라고 한다.\n",
    "                     예) 키와 체중으로 성별을 예측할 때 데이터 세트에서는 변수 3개(키,체중,성별)있다. 키, 체중처럼 값이 알려진 값과 성별처럼 값을 예측해야 되는 값은 다른 유형으로 구분\n",
    "\n",
    "               \n",
    "               \n",
    "               \n",
    "데이터(자료) 종류\n",
    "              연속형 / 범주형\n",
    "              연속형 : 연속적인 값으로 나타낸 자료(실수)\n",
    "              -나이 / 키 / 무게 / 가격 / 점수 등 \n",
    "              -연산 가능\n",
    "\n",
    "              범주형(category) : 서로 다른 것으로 구분되는 자료\n",
    "              -혈액형 / 성별 / 가족 구성원\n",
    "              -연산 불가능\n",
    "\n",
    "\n",
    "             척도(scale) : 수집된 데이터의 수준\n",
    "             척도의 종류 : 명명척도 / 서열척도 / 등간척도 / 비율척도\n",
    "\n",
    "                        *명명 척도 / 서열 척도 구분하기\n",
    "                         명명 척도 : 예시_혈액형 / 데이터간에 순서없음,연산 불가능, 빈도수 가능  \n",
    "                         서열 척도 : 예시_직급 / 사원->대리->과장등 순서 있음, 연산 불가능, 빈도수 가능, \n",
    "                                            데이터 간격 일정치 않음\n",
    "                                   ex) 어린이, 청소년, 청년, 장년, 노년\n",
    "                         \n",
    "                         *등간 척도 / 비율 척도 구분하기\n",
    "                         등간 척도 : 예시_온도 / 순서있음,연산가능, 영점의 기준이 임의적\n",
    "                                   ex) 섭씨 20도는 섭씨 5도의 4배(수치상), 4배 따뜻하다? 아님\n",
    "                         비율 척도 : 예시_길이 / 등간척도 + 영점의 기준이 절대적(절대영점)\n",
    "                                   ex) 길이 20미터는 길이 5미터의 4배(수치상), 실제로도 4배 길다\n",
    "\n",
    "                        척도에 따라 데이터 분석 방법이 달라짐\n",
    "\n",
    "          모집단 : 분석대상의 전체\n",
    "          표본 : 모집단의 부분 집합 \n",
    "          samople(표본)\n",
    "          samoling(표본 추출)\n",
    "\n",
    "          표본추출 방법\n",
    "          단순 무작위 추출 : 동일한 확률로 랜덤 추출\n",
    "          계통 추출 : 첫번쨰 데이터를 랜덤 추출 => ㅌx번쨰 데이터를 계속하여 추출 / 많이 사용 안함   \n",
    "                    ex)출구 조사 : 5번째 투표자 추출\n",
    "         층화(stratified random) 추출 : 층 구분 + 층 별 랜덤 추출\n",
    "                    ex)여론 조사: 연령별(층) 구분 + 각 연령별 데이터 랜덤 추출\n",
    "         군집(culster randm) 랜덤 추출 : 모집단 -> 군집으로 나눔 -> 군집 내에서 랜덤 추출\n",
    "                    ex)동일한 도시 내에 있는 중학교를 랜덤하게 추출 -> 중학생들을 조사\n",
    "\n",
    "\n",
    "독립변수 : 원인\n",
    "종속변수 : 걀괴, 독립변수에 의해 값이 결정되는 변수\n",
    "\n",
    "도수분포표 : 데이터를 구간 나눔, 각 구간별 빈도수 표\n",
    "히스토그램 : 도수분포표 -> 그래프"
   ]
  },
  {
   "cell_type": "code",
   "execution_count": 1,
   "metadata": {},
   "outputs": [],
   "source": [
    "import pandas as pd\n",
    "import numpy as np\n",
    "import seaborn as sns\n",
    "import matplotlib as mpl\n",
    "import matplotlib.pyplot as plt\n",
    "import pandas_datareader as pdr\n",
    "from IPython.display import HTML\n",
    "import plotly.express as px\n",
    "\n",
    "# 맥 폰트 깨짐 이슈 해결\n",
    "import matplotlib.pyplot as plt\n",
    "from matplotlib import rc\n",
    "import seaborn as sns\n",
    "%matplotlib inline\n",
    "\n",
    "rc('font', family='AppleGothic')\n",
    "\n",
    "plt.rcParams['axes.unicode_minus'] = False"
   ]
  },
  {
   "cell_type": "code",
   "execution_count": 2,
   "metadata": {},
   "outputs": [],
   "source": [
    "blood = ['A', 'A', 'A', 'B', 'B', 'AB', 'O']"
   ]
  },
  {
   "cell_type": "code",
   "execution_count": 5,
   "metadata": {},
   "outputs": [
    {
     "data": {
      "text/plain": [
       "(array(['A', 'AB', 'B', 'O'], dtype='<U2'), array([3, 1, 2, 1]))"
      ]
     },
     "execution_count": 5,
     "metadata": {},
     "output_type": "execute_result"
    }
   ],
   "source": [
    "# numpy\n",
    "np.unique(blood)\n",
    "np.unique(blood,return_counts=True)"
   ]
  },
  {
   "cell_type": "code",
   "execution_count": 6,
   "metadata": {},
   "outputs": [
    {
     "name": "stderr",
     "output_type": "stream",
     "text": [
      "/var/folders/bs/rn4q13z924s9_wzlq41h6grc0000gn/T/ipykernel_3721/1456856484.py:2: FutureWarning: pandas.value_counts is deprecated and will be removed in a future version. Use pd.Series(obj).value_counts() instead.\n",
      "  pd.value_counts(blood)\n",
      "/var/folders/bs/rn4q13z924s9_wzlq41h6grc0000gn/T/ipykernel_3721/1456856484.py:2: FutureWarning: value_counts with argument that is not not a Series, Index, ExtensionArray, or np.ndarray is deprecated and will raise in a future version.\n",
      "  pd.value_counts(blood)\n"
     ]
    },
    {
     "data": {
      "text/plain": [
       "A     3\n",
       "B     2\n",
       "AB    1\n",
       "O     1\n",
       "Name: count, dtype: int64"
      ]
     },
     "execution_count": 6,
     "metadata": {},
     "output_type": "execute_result"
    }
   ],
   "source": [
    "# pandas\n",
    "pd.value_counts(blood)"
   ]
  },
  {
   "cell_type": "code",
   "execution_count": 9,
   "metadata": {},
   "outputs": [
    {
     "data": {
      "text/plain": [
       "<Axes: ylabel='count'>"
      ]
     },
     "execution_count": 9,
     "metadata": {},
     "output_type": "execute_result"
    },
    {
     "data": {
      "image/png": "[encoded data removed]",
      "text/plain": [
       "<Figure size 640x480 with 1 Axes>"
      ]
     },
     "metadata": {},
     "output_type": "display_data"
    }
   ],
   "source": [
    "# seaborn\n",
    "sns.countplot(x = blood)"
   ]
  },
  {
   "cell_type": "code",
   "execution_count": 8,
   "metadata": {},
   "outputs": [],
   "source": [
    "x = [1, 1, 1, 2, 3, 5, 5, 7, 8, 9]"
   ]
  },
  {
   "cell_type": "code",
   "execution_count": 12,
   "metadata": {},
   "outputs": [],
   "source": [
    "hist, edge = np.histogram(x,4)"
   ]
  },
  {
   "cell_type": "code",
   "execution_count": 13,
   "metadata": {},
   "outputs": [
    {
     "data": {
      "text/plain": [
       "array([4, 1, 2, 3])"
      ]
     },
     "execution_count": 13,
     "metadata": {},
     "output_type": "execute_result"
    }
   ],
   "source": [
    "hist"
   ]
  },
  {
   "cell_type": "code",
   "execution_count": 14,
   "metadata": {},
   "outputs": [
    {
     "data": {
      "text/plain": [
       "array([1., 3., 5., 7., 9.])"
      ]
     },
     "execution_count": 14,
     "metadata": {},
     "output_type": "execute_result"
    }
   ],
   "source": [
    "edge"
   ]
  },
  {
   "cell_type": "code",
   "execution_count": 18,
   "metadata": {},
   "outputs": [
    {
     "data": {
      "text/plain": [
       "460.0"
      ]
     },
     "execution_count": 18,
     "metadata": {},
     "output_type": "execute_result"
    }
   ],
   "source": [
    "# 중심 경험치: 자료의 중심이 되는 숫자(평균, 중위수, 최빈수 등)\n",
    "# - 무엇을 중심으로 모여있냐(흩어져 있냐)\n",
    "\n",
    "# 변산성 측정치 : 자료가 흩어진 정도를 나타낸 값(분선, 표준편차, 범위, 사분위수 등)\n",
    "# -모여있는 정도(흩어진 정도)\n",
    "\n",
    "x = [100, 100, 200, 400, 1500]\n",
    "np.mean(x)"
   ]
  },
  {
   "cell_type": "code",
   "execution_count": 19,
   "metadata": {},
   "outputs": [
    {
     "data": {
      "text/plain": [
       "200.0"
      ]
     },
     "execution_count": 19,
     "metadata": {},
     "output_type": "execute_result"
    }
   ],
   "source": [
    "np.median(x)"
   ]
  },
  {
   "cell_type": "code",
   "execution_count": null,
   "metadata": {},
   "outputs": [],
   "source": [
    "# x의 중위수 : 명명척도 사용못함 / 서열,등간,비율 사용가능\n",
    "\n",
    "\n",
    "# 척도(scale) : 수집된 데이터의 수준\n",
    "#              척도의 종류 : 명명척도 / 서열척도 / 등간척도 / 비율척도\n",
    "\n",
    "#                         *명명 척도 / 서열 척도 구분하기\n",
    "#                          명명 척도 : 예시_혈액형 / 데이터간에 순서없음,연산 불가능, 빈도수 가능  \n",
    "#                          서열 척도 : 예시_직급 / 사원->대리->과장등 순서 있음, 연산 불가능, 빈도수 가능, \n",
    "#                                             데이터 간격 일정치 않음\n",
    "#                                    ex) 어린이, 청소년, 청년, 장년, 노년\n",
    "                         \n",
    "#                          *등간 척도 / 비율 척도 구분하기\n",
    "#                          등간 척도 : 예시_온도 / 순서있음,연산가능, 영점의 기준이 임의적\n",
    "#                                    ex) 섭씨 20도는 섭씨 5도의 4배(수치상), 4배 따뜻하다? 아님\n",
    "#                          비율 척도 : 예시_길이 / 등간척도 + 영점의 기준이 절대적(절대영점)\n",
    "#                                    ex) 길이 20미터는 길이 5미터의 4배(수치상), 실제로도 4배 길다"
   ]
  },
  {
   "cell_type": "code",
   "execution_count": 20,
   "metadata": {},
   "outputs": [
    {
     "data": {
      "text/plain": [
       "[100, 100, 200, 400, 1500]"
      ]
     },
     "execution_count": 20,
     "metadata": {},
     "output_type": "execute_result"
    }
   ],
   "source": [
    "x"
   ]
  },
  {
   "cell_type": "code",
   "execution_count": 21,
   "metadata": {},
   "outputs": [],
   "source": [
    "from scipy.stats import mode"
   ]
  },
  {
   "cell_type": "code",
   "execution_count": 22,
   "metadata": {},
   "outputs": [
    {
     "data": {
      "text/plain": [
       "ModeResult(mode=100, count=2)"
      ]
     },
     "execution_count": 22,
     "metadata": {},
     "output_type": "execute_result"
    }
   ],
   "source": [
    "mode(x)"
   ]
  },
  {
   "cell_type": "code",
   "execution_count": null,
   "metadata": {},
   "outputs": [],
   "source": []
  },
  {
   "cell_type": "code",
   "execution_count": 23,
   "metadata": {},
   "outputs": [],
   "source": [
    "x = [1, 1, 2, 3, 3, 3, 4, 5, 5, 7]"
   ]
  },
  {
   "cell_type": "code",
   "execution_count": 26,
   "metadata": {},
   "outputs": [
    {
     "data": {
      "text/plain": [
       "6"
      ]
     },
     "execution_count": 26,
     "metadata": {},
     "output_type": "execute_result"
    }
   ],
   "source": [
    "# 범위(range) : 데이터의 최소값과 최대값의 차이 / 자료의 퍼짐 정도\n",
    "np.min(x)\n",
    "np.max(x)\n",
    "np.max(x)-np.min(x)"
   ]
  },
  {
   "cell_type": "markdown",
   "metadata": {},
   "source": [
    "<!-- 분산 : 변수의 흩어진 정도를 계산하는 지표이다. 분산의 제곱근인 표준편차는 어떤 변수 x에 관하여 그 평균값를 중심으로 보았을 때 \n",
    "      각 관측값이 평균적으로 어느 정도 평균값에서 벗어나 있는지를 계산한 것 -->\n"
   ]
  },
  {
   "cell_type": "markdown",
   "metadata": {},
   "source": [
    "      "
   ]
  },
  {
   "cell_type": "code",
   "execution_count": 27,
   "metadata": {},
   "outputs": [
    {
     "data": {
      "text/plain": [
       "3.2399999999999998"
      ]
     },
     "execution_count": 27,
     "metadata": {},
     "output_type": "execute_result"
    }
   ],
   "source": [
    "np.var(x)"
   ]
  },
  {
   "cell_type": "code",
   "execution_count": 28,
   "metadata": {},
   "outputs": [
    {
     "data": {
      "text/plain": [
       "[1, 1, 2, 3, 3, 3, 4, 5, 5, 7]"
      ]
     },
     "execution_count": 28,
     "metadata": {},
     "output_type": "execute_result"
    }
   ],
   "source": [
    "x"
   ]
  },
  {
   "cell_type": "code",
   "execution_count": 30,
   "metadata": {},
   "outputs": [
    {
     "data": {
      "text/plain": [
       "3.2399999999999998"
      ]
     },
     "execution_count": 30,
     "metadata": {},
     "output_type": "execute_result"
    }
   ],
   "source": [
    "np.sum((x-np.mean(x))**2)/len(x)"
   ]
  },
  {
   "cell_type": "code",
   "execution_count": 31,
   "metadata": {},
   "outputs": [
    {
     "data": {
      "text/plain": [
       "3.2399999999999998"
      ]
     },
     "execution_count": 31,
     "metadata": {},
     "output_type": "execute_result"
    }
   ],
   "source": [
    "s=0\n",
    "for i in x:\n",
    "    s+=(i-np.mean(x))**2\n",
    "s/len(x)"
   ]
  },
  {
   "cell_type": "markdown",
   "metadata": {},
   "source": [
    "공분산 : 두 변수의 관계를 나타내는 양을 말한다.\n",
    "       두변수가 함께 변화하는 정도 \n",
    "       두 변수가 함께 변화하는 정도를 나타낸 지표\n",
    "\n",
    "\n",
    "공분산 > 0 : 두변수가 같은 방향으로 변화\n",
    "공분산 < 0 : 두 변수가 반대 방향으로 변화\n",
    "공분산 = 0 : 두변수가 독립(상관없음)\n",
    "\n",
    "공분산의 크기사 클 때 : 두 변수가 함께 많이 변화\n",
    "공분산의 크기는 단위의 영향 받음 -> 절대적 크기로 판단 못함 =>-1~ +1 값으로 표준화\n",
    "=> 상관계수\n",
    "공분산은 선형적인 관계 측정, 비선형적인 관계는 측정하지 못함\n",
    "\n",
    "\n",
    "\n",
    "ex)\n",
    "공부시간(독립변수), 성적(종속 변수) : 공부시간에 따라 성적이 결정 =>양의 상관관계\n",
    "공부신간에 따라 성적 예상\n",
    "\n",
    "결석일수(독립변수), 성적(종속 변수) : 출석일수에 따라 성적이 결정 => 음의 상관관계\n",
    "결석일수에 따라 성적 예상\n",
    "\n",
    "셔츠색상(독립변수), 성적(종속 변수) : 셔츠색상에 따라 성적이 결정 => 무상관"
   ]
  },
  {
   "cell_type": "markdown",
   "metadata": {},
   "source": [
    "상관계수 : 두 변수가 함께 변화하는 정도를 -1 ~ +1 사이로 나타낸 수\n",
    "\n",
    "상관계수 = 공분산/각 변수의 표준편차 곱\n",
    "-1 <= 싱관계수 <= +1\n",
    "\n",
    "피어슨 상관계수 : 일반적인 상관계수\n",
    "스피어만 상관계수 / 켄달 등"
   ]
  },
  {
   "cell_type": "code",
   "execution_count": 35,
   "metadata": {},
   "outputs": [],
   "source": [
    "x = [8, 3, 6, 6, 9, 4, 3, 9, 3, 4] # 부모\n",
    "y = [6, 2, 4, 6, 10, 5, 1, 8, 4, 5]  # 자식"
   ]
  },
  {
   "cell_type": "code",
   "execution_count": 36,
   "metadata": {},
   "outputs": [
    {
     "data": {
      "text/plain": [
       "[<matplotlib.lines.Line2D at 0x11e7b1250>]"
      ]
     },
     "execution_count": 36,
     "metadata": {},
     "output_type": "execute_result"
    },
    {
     "data": {
      "image/png": "[encoded data removed]",
      "text/plain": [
       "<Figure size 640x480 with 1 Axes>"
      ]
     },
     "metadata": {},
     "output_type": "display_data"
    }
   ],
   "source": [
    "plt.plot(x,y,'o')"
   ]
  },
  {
   "cell_type": "code",
   "execution_count": 38,
   "metadata": {},
   "outputs": [
    {
     "data": {
      "text/plain": [
       "5.61111111111111"
      ]
     },
     "execution_count": 38,
     "metadata": {},
     "output_type": "execute_result"
    }
   ],
   "source": [
    "np.cov(x,y)\n",
    "np.cov(x,y)[0,1] # 공분산"
   ]
  },
  {
   "cell_type": "code",
   "execution_count": 40,
   "metadata": {},
   "outputs": [
    {
     "data": {
      "text/plain": [
       "[<matplotlib.lines.Line2D at 0x11ed7ab40>]"
      ]
     },
     "execution_count": 40,
     "metadata": {},
     "output_type": "execute_result"
    },
    {
     "data": {
      "image/png": "[encoded data removed]",
      "text/plain": [
       "<Figure size 640x480 with 1 Axes>"
      ]
     },
     "metadata": {},
     "output_type": "display_data"
    }
   ],
   "source": [
    "z = [-3, -2, -1, 0, 1, 2, 3]\n",
    "w = [9, 4, 1, 0, 1, 4, 9]\n",
    "plt.plot(z,w,'o')"
   ]
  },
  {
   "cell_type": "code",
   "execution_count": 43,
   "metadata": {},
   "outputs": [
    {
     "data": {
      "text/plain": [
       "0.0"
      ]
     },
     "execution_count": 43,
     "metadata": {},
     "output_type": "execute_result"
    }
   ],
   "source": [
    "np.cov(z,w)\n",
    "np.cov(z,w)[0,1]"
   ]
  },
  {
   "cell_type": "code",
   "execution_count": 44,
   "metadata": {},
   "outputs": [
    {
     "data": {
      "text/plain": [
       "[8, 3, 6, 6, 9, 4, 3, 9, 3, 4]"
      ]
     },
     "execution_count": 44,
     "metadata": {},
     "output_type": "execute_result"
    }
   ],
   "source": [
    "x"
   ]
  },
  {
   "cell_type": "code",
   "execution_count": 45,
   "metadata": {},
   "outputs": [
    {
     "data": {
      "text/plain": [
       "[6, 2, 4, 6, 10, 5, 1, 8, 4, 5]"
      ]
     },
     "execution_count": 45,
     "metadata": {},
     "output_type": "execute_result"
    }
   ],
   "source": [
    "y"
   ]
  },
  {
   "cell_type": "code",
   "execution_count": 46,
   "metadata": {},
   "outputs": [
    {
     "data": {
      "text/plain": [
       "0.8625172792135779"
      ]
     },
     "execution_count": 46,
     "metadata": {},
     "output_type": "execute_result"
    }
   ],
   "source": [
    "# 상관관계수\n",
    "np.corrcoef(x,y)[0,1]"
   ]
  },
  {
   "cell_type": "code",
   "execution_count": 49,
   "metadata": {},
   "outputs": [
    {
     "data": {
      "text/plain": [
       "0.8625172792135779"
      ]
     },
     "execution_count": 49,
     "metadata": {},
     "output_type": "execute_result"
    }
   ],
   "source": [
    "# 공분산 / (x의 표준편차 * y의 표준편차)\n",
    "np.corrcoef(x,y)[0,1] # tkdrhksrPtn\n"
   ]
  },
  {
   "cell_type": "code",
   "execution_count": 48,
   "metadata": {},
   "outputs": [
    {
     "data": {
      "text/plain": [
       "0.8625172792135778"
      ]
     },
     "execution_count": 48,
     "metadata": {},
     "output_type": "execute_result"
    }
   ],
   "source": [
    "xsd = np.std(x,ddof=1)\n",
    "ysd = np.std(y, ddof=1)\n",
    "np.cov(x,y)[0,1] / (xsd*ysd)"
   ]
  },
  {
   "cell_type": "code",
   "execution_count": 73,
   "metadata": {},
   "outputs": [
    {
     "data": {
      "text/html": [
       "<div>\n",
       "<style scoped>\n",
       "    .dataframe tbody tr th:only-of-type {\n",
       "        vertical-align: middle;\n",
       "    }\n",
       "\n",
       "    .dataframe tbody tr th {\n",
       "        vertical-align: top;\n",
       "    }\n",
       "\n",
       "    .dataframe thead th {\n",
       "        text-align: right;\n",
       "    }\n",
       "</style>\n",
       "<table border=\"1\" class=\"dataframe\">\n",
       "  <thead>\n",
       "    <tr style=\"text-align: right;\">\n",
       "      <th></th>\n",
       "      <th>radius</th>\n",
       "      <th>texture</th>\n",
       "      <th>perimeter</th>\n",
       "      <th>area</th>\n",
       "      <th>smoothness</th>\n",
       "      <th>compactness</th>\n",
       "      <th>concavity</th>\n",
       "      <th>concave points</th>\n",
       "      <th>symmetry</th>\n",
       "      <th>fractal dimension</th>\n",
       "    </tr>\n",
       "  </thead>\n",
       "  <tbody>\n",
       "    <tr>\n",
       "      <th>0</th>\n",
       "      <td>17.99</td>\n",
       "      <td>10.38</td>\n",
       "      <td>122.80</td>\n",
       "      <td>1001.0</td>\n",
       "      <td>0.11840</td>\n",
       "      <td>0.27760</td>\n",
       "      <td>0.3001</td>\n",
       "      <td>0.14710</td>\n",
       "      <td>0.2419</td>\n",
       "      <td>0.07871</td>\n",
       "    </tr>\n",
       "    <tr>\n",
       "      <th>1</th>\n",
       "      <td>20.57</td>\n",
       "      <td>17.77</td>\n",
       "      <td>132.90</td>\n",
       "      <td>1326.0</td>\n",
       "      <td>0.08474</td>\n",
       "      <td>0.07864</td>\n",
       "      <td>0.0869</td>\n",
       "      <td>0.07017</td>\n",
       "      <td>0.1812</td>\n",
       "      <td>0.05667</td>\n",
       "    </tr>\n",
       "    <tr>\n",
       "      <th>2</th>\n",
       "      <td>19.69</td>\n",
       "      <td>21.25</td>\n",
       "      <td>130.00</td>\n",
       "      <td>1203.0</td>\n",
       "      <td>0.10960</td>\n",
       "      <td>0.15990</td>\n",
       "      <td>0.1974</td>\n",
       "      <td>0.12790</td>\n",
       "      <td>0.2069</td>\n",
       "      <td>0.05999</td>\n",
       "    </tr>\n",
       "    <tr>\n",
       "      <th>3</th>\n",
       "      <td>11.42</td>\n",
       "      <td>20.38</td>\n",
       "      <td>77.58</td>\n",
       "      <td>386.1</td>\n",
       "      <td>0.14250</td>\n",
       "      <td>0.28390</td>\n",
       "      <td>0.2414</td>\n",
       "      <td>0.10520</td>\n",
       "      <td>0.2597</td>\n",
       "      <td>0.09744</td>\n",
       "    </tr>\n",
       "    <tr>\n",
       "      <th>4</th>\n",
       "      <td>20.29</td>\n",
       "      <td>14.34</td>\n",
       "      <td>135.10</td>\n",
       "      <td>1297.0</td>\n",
       "      <td>0.10030</td>\n",
       "      <td>0.13280</td>\n",
       "      <td>0.1980</td>\n",
       "      <td>0.10430</td>\n",
       "      <td>0.1809</td>\n",
       "      <td>0.05883</td>\n",
       "    </tr>\n",
       "  </tbody>\n",
       "</table>\n",
       "</div>"
      ],
      "text/plain": [
       "   radius  texture  perimeter    area  smoothness  compactness  concavity  \\\n",
       "0   17.99    10.38     122.80  1001.0     0.11840      0.27760     0.3001   \n",
       "1   20.57    17.77     132.90  1326.0     0.08474      0.07864     0.0869   \n",
       "2   19.69    21.25     130.00  1203.0     0.10960      0.15990     0.1974   \n",
       "3   11.42    20.38      77.58   386.1     0.14250      0.28390     0.2414   \n",
       "4   20.29    14.34     135.10  1297.0     0.10030      0.13280     0.1980   \n",
       "\n",
       "   concave points  symmetry  fractal dimension  \n",
       "0         0.14710    0.2419            0.07871  \n",
       "1         0.07017    0.1812            0.05667  \n",
       "2         0.12790    0.2069            0.05999  \n",
       "3         0.10520    0.2597            0.09744  \n",
       "4         0.10430    0.1809            0.05883  "
      ]
     },
     "execution_count": 73,
     "metadata": {},
     "output_type": "execute_result"
    }
   ],
   "source": [
    "# 3-12번열까지 총 10개 열에 해당되는 데이터를 추출하고 각 열에 대한 이름을 a-j까지 열로된 이름으로 설정한다\n",
    "df = pd.read_csv('breast+cancer+wisconsin+diagnostic/wdbc.data',header=None)\n",
    "\n",
    "df_s = df.iloc[:,2:12]\n",
    "df_s.columns = ['radius','texture','perimeter','area','smoothness','compactness','concavity','concave points','symmetry','fractal dimension']\n",
    "df_s.head()\n",
    " "
   ]
  },
  {
   "cell_type": "code",
   "execution_count": 78,
   "metadata": {},
   "outputs": [
    {
     "name": "stderr",
     "output_type": "stream",
     "text": [
      "/var/folders/bs/rn4q13z924s9_wzlq41h6grc0000gn/T/ipykernel_3721/3865427030.py:14: FutureWarning: Series.__getitem__ treating keys as positions is deprecated. In a future version, integer keys will always be treated as labels (consistent with DataFrame behavior). To access a value by position, use `ser.iloc[pos]`\n",
      "  high_corr = sorted_pairs[-1]\n",
      "/var/folders/bs/rn4q13z924s9_wzlq41h6grc0000gn/T/ipykernel_3721/3865427030.py:15: FutureWarning: Series.__getitem__ treating keys as positions is deprecated. In a future version, integer keys will always be treated as labels (consistent with DataFrame behavior). To access a value by position, use `ser.iloc[pos]`\n",
      "  low_corr = sorted_pairs[0]\n"
     ]
    },
    {
     "data": {
      "text/plain": [
       "(0.9978552814938109,\n",
       " ('radius', 'perimeter'),\n",
       " -0.3116308263092899,\n",
       " ('radius', 'fractal dimension'))"
      ]
     },
     "execution_count": 78,
     "metadata": {},
     "output_type": "execute_result"
    }
   ],
   "source": [
    "# a-j열까지 10개 열 상호간에 상관계수를 구했을때 가장 상관계수가 높고 낮은 변수들을 구하시오\n",
    "\n",
    "# 상관계수 행렬 계산\n",
    "corr = df_s.corr()\n",
    "\n",
    "# 가장 높은 상관계수와 낮은 상관계수 찾기\n",
    "pairs = corr.unstack()\n",
    "sorted_pairs = pairs.sort_values(kind=\"quicksort\")\n",
    "\n",
    "# 자기 상관을 제외\n",
    "sorted_pairs = sorted_pairs[sorted_pairs != 1]\n",
    "\n",
    "# 높은 상관계수와 낮은 상관계수 쌍 가져오기\n",
    "high_corr = sorted_pairs[-1]\n",
    "low_corr = sorted_pairs[0]\n",
    "\n",
    "high_corr_pair = sorted_pairs.index[-1]\n",
    "low_corr_pair = sorted_pairs.index[0]\n",
    "\n",
    "high_corr, high_corr_pair, low_corr, low_corr_pair"
   ]
  },
  {
   "cell_type": "code",
   "execution_count": null,
   "metadata": {},
   "outputs": [],
   "source": []
  },
  {
   "cell_type": "code",
   "execution_count": null,
   "metadata": {},
   "outputs": [],
   "source": []
  }
 ],
 "metadata": {
  "kernelspec": {
   "display_name": "Python 3",
   "language": "python",
   "name": "python3"
  },
  "language_info": {
   "codemirror_mode": {
    "name": "ipython",
    "version": 3
   },
   "file_extension": ".py",
   "mimetype": "text/x-python",
   "name": "python",
   "nbconvert_exporter": "python",
   "pygments_lexer": "ipython3",
   "version": "3.12.3"
  }
 },
 "nbformat": 4,
 "nbformat_minor": 2
}
