{
 "cells": [
  {
   "cell_type": "code",
   "execution_count": null,
   "metadata": {},
   "outputs": [],
   "source": [
    "# 시간/공간 복잡도\n",
    "# 001 n을 입력받아 1~n까지 연속된 숫자에 대한 제곱의 합을 출력하는 프로그램을 작성\n",
    "n = int(input())\n",
    "res = 0\n",
    "for i in range(1, n+1):\n",
    "    res += i**2\n",
    "print(res)"
   ]
  },
  {
   "cell_type": "code",
   "execution_count": null,
   "metadata": {},
   "outputs": [],
   "source": [
    "# 002 숫자 n개를 리스트로 전달 받아 최솟값을 출력하는 프로그램을 작성(min 사용 불가)\n",
    "n = list(map(int,input().split()))\n",
    "min_n = n[0]\n",
    "\n",
    "for num in n:\n",
    "    if num < min_n:\n",
    "        min_n = num\n",
    "print(min_n)"
   ]
  },
  {
   "cell_type": "code",
   "execution_count": null,
   "metadata": {},
   "outputs": [],
   "source": [
    "# 003 name과 name2 각각에 대해 중복 이름을 출력\n",
    "name = [\"Tom\", \"Jerry\", \"Mike\", \"Tom\"]\n",
    "name2 = [\"Tom\", \"Jerry\", \"Mike\", \"Tom\", \"Mike\"]\n",
    "\n",
    "li1 = []\n",
    "\n",
    "for n in name:\n",
    "    if n in name2 and n not in li:\n",
    "        li.append(n)\n",
    "\n",
    "print(li)"
   ]
  },
  {
   "cell_type": "code",
   "execution_count": null,
   "metadata": {},
   "outputs": [],
   "source": [
    "# 004_1 n명중 두명을 뽑아 짝을 지울수 있는 모든 조합을 출력\n",
    "names = [\"Tom\", \"Jerry\", \"Mike\"]\n",
    "for i in range(len(names)):\n",
    "    for j in range(i+1, len(names)):\n",
    "        print(names[i], names[j])\n",
    "\n",
    "# 004_2 n명중 두명을 뽑아 짝을 지울수 있는 모든 조합을 출력\n",
    "from itertools import combinations\n",
    "def print_all_combinations(names):\n",
    "    for pair in combinations(names, 2):\n",
    "        print(pair)\n",
    "\n",
    "names = [\"Tom\", \"Jerry\", \"Mike\"]\n",
    "\n",
    "print_all_combinations(names)"
   ]
  },
  {
   "cell_type": "code",
   "execution_count": null,
   "metadata": {},
   "outputs": [],
   "source": [
    "# 005 1~10까지의 합을 재귀호출로 작성하여 출력\n",
    "def plus(n):\n",
    "    if n <= 1:\n",
    "        return n\n",
    "    return n + plus(n-1)\n",
    "print(plus(10))"
   ]
  },
  {
   "cell_type": "code",
   "execution_count": null,
   "metadata": {},
   "outputs": [],
   "source": [
    "# 006 재귀호출을 활용하여 myList에서 최대값을 리턴(출력)\n",
    "li=[37,24,56,15,16,23,100,12,13]\n",
    "def recursion_max(myList):\n",
    "    if len(myList)==1:\n",
    "        return myList[0]\n",
    "\n",
    "    myList.remove(min(myList[0],myList[1]))\n",
    "    return recursion_max(myList)\n",
    "\n",
    "print(recursion_max(li)) # 100"
   ]
  },
  {
   "cell_type": "code",
   "execution_count": null,
   "metadata": {},
   "outputs": [],
   "source": []
  }
 ],
 "metadata": {
  "language_info": {
   "name": "python"
  }
 },
 "nbformat": 4,
 "nbformat_minor": 2
}
