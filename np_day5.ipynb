{
 "cells": [
  {
   "cell_type": "code",
   "execution_count": 1,
   "id": "0c368ef2-dc43-4042-aaca-ea4574da5f39",
   "metadata": {},
   "outputs": [],
   "source": [
    "import numpy as np"
   ]
  },
  {
   "cell_type": "code",
   "execution_count": 4,
   "id": "cb8fc29c-e324-4ba7-b776-37e7147fcd53",
   "metadata": {},
   "outputs": [
    {
     "ename": "TypeError",
     "evalue": "'module' object is not callable",
     "output_type": "error",
     "traceback": [
      "\u001b[0;31m---------------------------------------------------------------------------\u001b[0m",
      "\u001b[0;31mTypeError\u001b[0m                                 Traceback (most recent call last)",
      "Cell \u001b[0;32mIn[4], line 1\u001b[0m\n\u001b[0;32m----> 1\u001b[0m arr \u001b[38;5;241m=\u001b[39m \u001b[43mnp\u001b[49m\u001b[38;5;241;43m.\u001b[39;49m\u001b[43mrandom\u001b[49m\u001b[43m(\u001b[49m\u001b[38;5;241;43m45\u001b[39;49m\u001b[43m)\u001b[49m\n",
      "\u001b[0;31mTypeError\u001b[0m: 'module' object is not callable"
     ]
    }
   ],
   "source": [
    "# 시드(seed)를 이용하여 난수 발생\n"
   ]
  },
  {
   "cell_type": "code",
   "execution_count": 5,
   "id": "d22ab4be-01cc-4ecc-81fd-37929acc8ef9",
   "metadata": {},
   "outputs": [
    {
     "data": {
      "text/plain": [
       "0.6489171859970306"
      ]
     },
     "execution_count": 5,
     "metadata": {},
     "output_type": "execute_result"
    }
   ],
   "source": [
    "# 시드없이 랜덤 난수 발생\n",
    "np.random.rand()"
   ]
  },
  {
   "cell_type": "code",
   "execution_count": 11,
   "id": "8251ad50-63f1-4a7b-b850-4b305e0f23ff",
   "metadata": {},
   "outputs": [
    {
     "data": {
      "text/plain": [
       "array([0.63551756, 0.67221731, 0.8370985 , 0.3230404 , 0.66728613,\n",
       "       0.99852928, 0.95145872, 0.36059922, 0.68687786, 0.21542222])"
      ]
     },
     "execution_count": 11,
     "metadata": {},
     "output_type": "execute_result"
    }
   ],
   "source": [
    "# 시드 지정하여 출력\n",
    "np.random.seed(20240510)\n",
    "np.random.rand()\n",
    "# 0.24432338459661196 출력\n",
    "\n",
    "np.random.rand(10)\n",
    "# 결과 값\n",
    "# array([0.63551756, 0.67221731, 0.8370985 , 0.3230404 , 0.66728613,\n",
    "#        0.99852928, 0.95145872, 0.36059922, 0.68687786, 0.21542222])"
   ]
  },
  {
   "cell_type": "code",
   "execution_count": 18,
   "id": "8a28386b-bf35-4761-9c90-8dfc4bb0101d",
   "metadata": {},
   "outputs": [
    {
     "data": {
      "text/plain": [
       "array([11, 12, 13, 14])"
      ]
     },
     "execution_count": 18,
     "metadata": {},
     "output_type": "execute_result"
    }
   ],
   "source": [
    "x = np.arange(11,15)\n",
    "x"
   ]
  },
  {
   "cell_type": "code",
   "execution_count": 19,
   "id": "af6a71e0-213d-473e-8648-0e91448913cd",
   "metadata": {},
   "outputs": [
    {
     "data": {
      "text/plain": [
       "array([13, 11, 14, 12])"
      ]
     },
     "execution_count": 19,
     "metadata": {},
     "output_type": "execute_result"
    }
   ],
   "source": [
    "# shuffle() 함수\n",
    "np.random.shuffle(x)\n",
    "x"
   ]
  },
  {
   "cell_type": "code",
   "execution_count": 21,
   "id": "eb472767-be54-48cf-bd6e-775c33b065e4",
   "metadata": {},
   "outputs": [
    {
     "ename": "TypeError",
     "evalue": "choice() takes at least 1 positional argument (0 given)",
     "output_type": "error",
     "traceback": [
      "\u001b[0;31m---------------------------------------------------------------------------\u001b[0m",
      "\u001b[0;31mTypeError\u001b[0m                                 Traceback (most recent call last)",
      "Cell \u001b[0;32mIn[21], line 2\u001b[0m\n\u001b[1;32m      1\u001b[0m \u001b[38;5;66;03m# choice : 표본 추출 함수\u001b[39;00m\n\u001b[0;32m----> 2\u001b[0m \u001b[43mnp\u001b[49m\u001b[38;5;241;43m.\u001b[39;49m\u001b[43mrandom\u001b[49m\u001b[38;5;241;43m.\u001b[39;49m\u001b[43mchoice\u001b[49m\u001b[43m(\u001b[49m\u001b[43m)\u001b[49m\n",
      "File \u001b[0;32mnumpy/random/mtrand.pyx:841\u001b[0m, in \u001b[0;36mnumpy.random.mtrand.RandomState.choice\u001b[0;34m()\u001b[0m\n",
      "\u001b[0;31mTypeError\u001b[0m: choice() takes at least 1 positional argument (0 given)"
     ]
    }
   ],
   "source": [
    "# choice : 표본 추출 함수\n",
    "np.random.choice()\n",
    "# 에러 발생\n",
    "# 에러 내용 \n",
    "# TypeError: choice() takes at least 1 positional argument (0 given)"
   ]
  },
  {
   "cell_type": "code",
   "execution_count": 22,
   "id": "92935d4a-e960-41f5-b4b5-175c7b913fc6",
   "metadata": {},
   "outputs": [
    {
     "data": {
      "text/plain": [
       "14"
      ]
     },
     "execution_count": 22,
     "metadata": {},
     "output_type": "execute_result"
    }
   ],
   "source": [
    "np.random.choice(x)\n",
    "# 에러 발생하지 않음"
   ]
  },
  {
   "cell_type": "code",
   "execution_count": 27,
   "id": "9040d7a5-8d25-446f-84b1-fc7d5cb0e686",
   "metadata": {},
   "outputs": [
    {
     "data": {
      "text/plain": [
       "array([3, 3, 3])"
      ]
     },
     "execution_count": 27,
     "metadata": {},
     "output_type": "execute_result"
    }
   ],
   "source": [
    "np.random.choice(5,3, p = [0.1,0,0.3,0.6,0])"
   ]
  },
  {
   "cell_type": "code",
   "execution_count": 28,
   "id": "0d3ba4b6-c32b-4caa-bd1f-967794bb65cb",
   "metadata": {},
   "outputs": [],
   "source": [
    "# np.random.rand() : 0<=난수<1 출력\n",
    "# np.random.randn() : 표준정규분포(평균:0,표준편차:1)\n",
    "# np.random.randint() : 균등분포, 정수 난수"
   ]
  },
  {
   "cell_type": "code",
   "execution_count": 29,
   "id": "75225325-8491-4f14-83e3-a08d394ac82a",
   "metadata": {},
   "outputs": [
    {
     "data": {
      "text/plain": [
       "array([0.28792406, 0.58950279, 0.93466037, 0.48068957, 0.97200741,\n",
       "       0.42262745, 0.4429743 , 0.73293894, 0.29821515, 0.37816457,\n",
       "       0.95099299, 0.03897989, 0.58617992, 0.12690682, 0.1489538 ])"
      ]
     },
     "execution_count": 29,
     "metadata": {},
     "output_type": "execute_result"
    }
   ],
   "source": [
    "np.random.rand(15)"
   ]
  },
  {
   "cell_type": "raw",
   "id": "848df446-b213-4251-b951-73f27862acdf",
   "metadata": {},
   "source": []
  },
  {
   "cell_type": "code",
   "execution_count": 39,
   "id": "e15d5f24-f5d2-4517-b653-b8c37af7a3e5",
   "metadata": {},
   "outputs": [
    {
     "data": {
      "text/plain": [
       "array([[0.5595396 , 0.05808629, 0.39915812, 0.14356235, 0.05267766],\n",
       "       [0.29529782, 0.24027168, 0.11996385, 0.70605489, 0.37044677],\n",
       "       [0.34308801, 0.94277835, 0.13742611, 0.51585373, 0.79988064]])"
      ]
     },
     "execution_count": 39,
     "metadata": {},
     "output_type": "execute_result"
    }
   ],
   "source": [
    "# 따로 reshape 할 필요가 없다\n",
    "np.random.rand(3,5)"
   ]
  },
  {
   "cell_type": "code",
   "execution_count": 40,
   "id": "781ea59b-dd65-4aa7-b01a-148165f7b380",
   "metadata": {},
   "outputs": [
    {
     "data": {
      "text/plain": [
       "0.550466187246017"
      ]
     },
     "execution_count": 40,
     "metadata": {},
     "output_type": "execute_result"
    }
   ],
   "source": [
    "np.random.randn(10)\n",
    "np.mean(np.random.randn(10))\n",
    "np.std(np.random.randn(10))"
   ]
  },
  {
   "cell_type": "code",
   "execution_count": 50,
   "id": "f785903a-fe1c-429b-bbdc-c67c4dbc3e48",
   "metadata": {},
   "outputs": [
    {
     "data": {
      "text/plain": [
       "array([[7, 8, 5, 6, 6],\n",
       "       [6, 6, 8, 9, 9]])"
      ]
     },
     "execution_count": 50,
     "metadata": {},
     "output_type": "execute_result"
    }
   ],
   "source": [
    "np.random.randint(1) # 0출력\n",
    "np.random.randint(3) # 0-2 출력\n",
    "np.random.randint(5,10) #5와 10사이 난수 출력\n",
    "np.random.randint(5,10,size=10) # 5와 10사이 난수 10개 출력\n",
    "np.random.randint(5,10,size=(2,5)) # 5와 10사이 난수 10개 출력하되 2행 5열로 출력"
   ]
  },
  {
   "cell_type": "code",
   "execution_count": 56,
   "id": "c6f4bbe9-1f6c-4703-a480-90d5b8cce4aa",
   "metadata": {},
   "outputs": [
    {
     "data": {
      "text/plain": [
       "array([ 6,  8,  7, 10,  5,  8, 10,  9,  7,  8])"
      ]
     },
     "execution_count": 56,
     "metadata": {},
     "output_type": "execute_result"
    }
   ],
   "source": [
    "data=np.random.randint(5, 11, size=10)\n",
    "data"
   ]
  },
  {
   "cell_type": "code",
   "execution_count": 68,
   "id": "7bbf37c8-7922-4327-852b-eb31b97179fc",
   "metadata": {},
   "outputs": [
    {
     "data": {
      "text/plain": [
       "array([ 5,  6,  7,  8,  9, 10])"
      ]
     },
     "execution_count": 68,
     "metadata": {},
     "output_type": "execute_result"
    }
   ],
   "source": [
    "# unique() 함수\n",
    "np.unique(data) # array([5, 6, 7, 8, 9]) 출력"
   ]
  },
  {
   "cell_type": "code",
   "execution_count": 69,
   "id": "6a6f0f7f-c523-4533-8f89-47ff3c804d76",
   "metadata": {},
   "outputs": [
    {
     "data": {
      "text/plain": [
       "(array([ 5,  6,  7,  8,  9, 10]), array([1, 1, 2, 3, 1, 2]))"
      ]
     },
     "execution_count": 69,
     "metadata": {},
     "output_type": "execute_result"
    }
   ],
   "source": [
    "np.unique(data, return_counts=True)\n",
    "# 결과 값\n",
    "# (array([5, 6, 7, 8, 9]), array([1, 3, 3, 1, 2]))"
   ]
  },
  {
   "cell_type": "code",
   "execution_count": 70,
   "id": "8ac26099-4f37-4d4f-aaaf-f58f1710f32b",
   "metadata": {},
   "outputs": [
    {
     "data": {
      "text/plain": [
       "array([1, 1, 2, 3, 1, 2])"
      ]
     },
     "execution_count": 70,
     "metadata": {},
     "output_type": "execute_result"
    }
   ],
   "source": [
    "np.unique(data, return_counts=True)[0]\n",
    "np.unique(data, return_counts=True)[1]"
   ]
  },
  {
   "cell_type": "code",
   "execution_count": 72,
   "id": "a89c9b86-3110-4c4f-825b-7c670584bfd7",
   "metadata": {},
   "outputs": [
    {
     "data": {
      "text/plain": [
       "array([0, 0, 0, 0, 0, 1, 1, 2, 3, 1, 2])"
      ]
     },
     "execution_count": 72,
     "metadata": {},
     "output_type": "execute_result"
    }
   ],
   "source": [
    "np.bincount(data, minlength=11) \n",
    "#minlength: 0부터 설정된 값-1까지 수를 범위로 설정하여 빈도수 조사\n",
    "#minlength=11 이면 0부터 10까지 수를 범위로 설정하여 빈도수 조사\n",
    "#결과 : array([0, 0, 0, 0, 0, 3, 0, 1, 2, 1, 3], dtype=int64)\n",
    "#              0 1  2   3  4  5  6  7  8  9  10"
   ]
  },
  {
   "cell_type": "code",
   "execution_count": 73,
   "id": "f1cc4a5d-b8fd-403c-be9f-3c00e4f2d85c",
   "metadata": {},
   "outputs": [
    {
     "data": {
      "text/plain": [
       "array([ 6,  8,  7, 10,  5,  8, 10,  9,  7,  8])"
      ]
     },
     "execution_count": 73,
     "metadata": {},
     "output_type": "execute_result"
    }
   ],
   "source": [
    "data"
   ]
  },
  {
   "cell_type": "code",
   "execution_count": 75,
   "id": "33ee9c34-9748-4b47-a053-c3e03aebdbcd",
   "metadata": {},
   "outputs": [
    {
     "data": {
      "text/plain": [
       "3.52"
      ]
     },
     "execution_count": 75,
     "metadata": {},
     "output_type": "execute_result"
    }
   ],
   "source": [
    "# 로또 수 5개 출력\n",
    "def generate_lotto_nums():\n",
    "    return np.sort(np.random.choice(np.arange(1, 46), size=6, replace=False))\n",
    "\n",
    "# 5줄을 출력하는 반복문\n",
    "for _ in range(5):\n",
    "    print(generate_lotto_nums())\n",
    "\n",
    "# 동전을 10번 던져 앞면(숫자1)과 뒷면(숫자0)이 나오는 가상 실험을 파이썬으로 작성\n",
    "np.random.choice(2, 10, p=[0.5, 0.5])\n",
    "\n",
    "# 주사위를 100번 던져서 나오는 숫자의 평균을 구하라\n",
    "random_num = np.random.randint(1, high=7, size=100)\n",
    "np.mean(random_num)"
   ]
  },
  {
   "cell_type": "code",
   "execution_count": 80,
   "id": "3d82401f-f8f5-4a21-b5f3-001baf761048",
   "metadata": {},
   "outputs": [
    {
     "name": "stdout",
     "output_type": "stream",
     "text": [
      "[ 9 10 29 35 38 45]\n",
      "[ 4  7 20 33 34 39]\n",
      "[ 4 24 29 30 38 43]\n",
      "[10 13 17 21 24 39]\n",
      "[ 1  5 21 25 30 36]\n"
     ]
    }
   ],
   "source": []
  },
  {
   "cell_type": "code",
   "execution_count": 106,
   "id": "22d40f3a-8eee-4701-aa1b-bf18878b452b",
   "metadata": {},
   "outputs": [
    {
     "name": "stdout",
     "output_type": "stream",
     "text": [
      "현재: 55\n",
      "56\n"
     ]
    }
   ],
   "source": [
    "1. 알고리즘을 평가하는 방법은?\n",
    "\n",
    "1 . 코드복잡도\n",
    "2 . 시간복잡도 V\n",
    "3 . 세타복잡도\n",
    "4 . 스몰복잡도\n",
    "정답\n",
    "2\n",
    "해설\n",
    "시간복잡도를 이용하여 알고리즘을 평가한다."
   ]
  },
  {
   "cell_type": "code",
   "execution_count": 107,
   "id": "660ad831-5ce0-43b4-bcd1-dbf72b1b4ce3",
   "metadata": {},
   "outputs": [
    {
     "name": "stdout",
     "output_type": "stream",
     "text": [
      "4\n"
     ]
    }
   ],
   "source": [
    "#2.다음 코드의 실행 결과에 출력되는 값은?\n",
    "list = [1,3,0,4,2]\n",
    "cnt = 0\n",
    "index = 1\n",
    "while index != 0:\n",
    "    index = list[index]\n",
    "    cnt = cnt + 1\n",
    "print(cnt)\n",
    "\n",
    "# 1 . 1\n",
    "# 2 . 2\n",
    "# 3 . 3\n",
    "# 4 . 4 V\n",
    "# 정답\n",
    "# 4\n",
    "# 해설\n",
    "# list의 값을 index로 재사용하는 구조로 index는 최초 1부터 시작하여 1 → 3 → 4 → 2 로 변경되고 \n",
    "# list[2]값이 0이므로 cnt가 4까지만 증가하고 반복문을 종료한다."
   ]
  },
  {
   "cell_type": "code",
   "execution_count": 108,
   "id": "132993c4-1dc2-448a-b0d6-69fbcf1f1f59",
   "metadata": {},
   "outputs": [
    {
     "name": "stdout",
     "output_type": "stream",
     "text": [
      "2 1 0 "
     ]
    }
   ],
   "source": [
    "#3.다음 코드를 실행한 결과로 출력되는 값은?\n",
    "\n",
    "def recursion(num):\n",
    "    if num == 3:\n",
    "        return\n",
    "    recursion(num + 1)\n",
    "    print(num, end=\" \")\n",
    "\n",
    "recursion(0)\n",
    "\n",
    "# 힌트\n",
    "# 1 . 2 0 0\n",
    "# 2 . 2 1 0 v\n",
    "# 3 . 2 2 0\n",
    "# 4 . 2 3 0\n",
    "# 정답\n",
    "# 2\n",
    "# 해설\n",
    "# 최초에 run 함수에 0을 넣은 상태로 호출되나, \n",
    "# 내부에서 run 함수를 계속하여 재귀 호출한다.\n",
    "# n이 3일때 리턴하므로 2 > 1 > 0 순으로 출력된다"
   ]
  },
  {
   "cell_type": "code",
   "execution_count": 110,
   "id": "9ad06f9e-51b4-45cc-938a-03c97b63b1db",
   "metadata": {},
   "outputs": [
    {
     "name": "stdout",
     "output_type": "stream",
     "text": [
      "1 2 4 5 6 "
     ]
    }
   ],
   "source": [
    "# 4.다음 코드를 실행한 결과로 출력되는 값은?\n",
    "arr = [1,2,6,5,4,2]\n",
    "dat = [0 for _ in range(len(arr) + 1)]\n",
    "\n",
    "for i in range((len(arr))):\n",
    "    dat[arr[i]] = 1\n",
    "\n",
    "for i in range(len(dat)):\n",
    "    if dat[i] == 0:\n",
    "        continue\n",
    "\n",
    "    print(i, end = \" \")\n",
    "\n",
    "# 1 . 1 2 3 4 5 6\n",
    "# 2 . 1 2 4 5 6 v\n",
    "# 3 . 1 3 4 5 6\n",
    "# 4 . 2 3 4 5 6\n",
    "# 정답\n",
    "# 2\n",
    "# 해설\n",
    "# arr 배열에 존재하는 값을 dat 배열에 체크한 후, dat배열에 값이 존재하는 경우만 출력한다."
   ]
  },
  {
   "cell_type": "code",
   "execution_count": 111,
   "id": "3d434aa9-2c89-4d8b-96da-1e8e560659c0",
   "metadata": {},
   "outputs": [
    {
     "name": "stdout",
     "output_type": "stream",
     "text": [
      "BRBRK\n"
     ]
    }
   ],
   "source": [
    "# 5.다음 코드를 실행한 결과로 출력되는 값은?\n",
    "str = \"ABKRNW\"\n",
    "idx = [1, 3, 1, 3, 2]\n",
    "result = \"\"\n",
    "\n",
    "for i in range(len(idx)):\n",
    "    result += str[idx[i]]\n",
    "\n",
    "print(result)\n",
    "\n",
    "# 1 . BRWNA\n",
    "# 2 . BRBRN\n",
    "# 3 . BRBRK v\n",
    "# 4 . BRBRA\n",
    "# 정답\n",
    "# 3\n",
    "# 해설\n",
    "# 5번(idx의 크기) 만큼 result에 1,3,1,3,2 인덱스를 누적한다.\n",
    "# 배열이 0번 인덱스부터 시작하는 것을 주의한다"
   ]
  },
  {
   "cell_type": "code",
   "execution_count": 114,
   "id": "7152f255-37f0-4b89-b861-f00b08606370",
   "metadata": {},
   "outputs": [
    {
     "name": "stdout",
     "output_type": "stream",
     "text": [
      "3 2 1 "
     ]
    }
   ],
   "source": [
    "# 6.다음 코드를 실행한 결과로 출력되는 값은?\n",
    "arr = [[0 for _ in range(3)] for _ in range(3)]\n",
    "\n",
    "t = 1\n",
    "\n",
    "for i in range(2,-1,-1):\n",
    "    for j in range(0,3):\n",
    "        arr[j][i] = t\n",
    "\n",
    "    t = t + 1\n",
    "\n",
    "for i in range(0,3):\n",
    "    print(arr[i][i], end=\" \")\n",
    "\n",
    "# 1 . 7 5 0\n",
    "# 2 . 7 5 1\n",
    "# 3 . 7 5 2\n",
    "# 4 . 7 5 3 v\n",
    "# 정답\n",
    "# 4\n",
    "# 해설\n",
    "# 위 반복문을 실행하면 {{7,4,1},{8,5,2},{9,6,3}} 배열이 생성되고, \n",
    "# 아래 반복문에서 [0,0][1,1],[2,2]순으로 출력하여 753이 출력된다"
   ]
  },
  {
   "cell_type": "code",
   "execution_count": null,
   "id": "cbe2534c-48e9-4b42-9231-d100b952e4a6",
   "metadata": {},
   "outputs": [],
   "source": [
    "7.다음 코드를 실행한 결과로 출력되는 값은?\n",
    "arr = [[1, 1, 0, 1], [0, 1, 1, 0], [1, 1, 1, 0], [1, 1, 1, 1]]\n",
    "cnt = 0\n",
    "\n",
    "for i in range(1,3):\n",
    "for j in range(2,4):\n",
    "if(arr[i][j] == 1):\n",
    "cnt = cnt + 1\n",
    "for j in range(0, 3):\n",
    "if (arr[i][j] == 1):\n",
    "cnt = cnt + 1\n",
    "\n",
    "print(cnt)\n",
    "\n",
    "1 . 7 v\n",
    "2 . 8\n",
    "3 . 9\n",
    "4 . 10\n",
    "정답\n",
    "1\n",
    "해설\n",
    "이차원 배열안에 존재하는 값을 체크하면서 cnt에 누적한 값을 출력한다"
   ]
  },
  {
   "cell_type": "code",
   "execution_count": null,
   "id": "dd76647c-1c19-455f-8b6f-c7b3039e8760",
   "metadata": {},
   "outputs": [],
   "source": [
    "8.다음 코드를 실행한 결과로 출력되는 값은?\n",
    "def meet(index):\n",
    "    return (index * 3 + 11 ) % 10\n",
    "\n",
    "\n",
    "dat = [0 for _ in range(10)]\n",
    "\n",
    "old = -1\n",
    "start = 1\n",
    "while True:\n",
    "start = meet(start)\n",
    "if(dat[start] == 1):\n",
    "break\n",
    "dat[start] = 1\n",
    "\n",
    "if(old == start):\n",
    "break\n",
    "\n",
    "print(start)\n",
    "\n",
    "1 . 1\n",
    "2 . 2\n",
    "3 . 3\n",
    "4 . 4v\n",
    "정답\n",
    "4\n",
    "해설\n",
    "초기값 1부터 시작해서 meet 함수에 들렸다 나오면 3씩 증가하며, \n",
    "10이상의 값은 1의자리만 남는식으로 순회를 한다. \n",
    "최종적으로 다시 순회했던 초기값 1 + 3은 4가 출력된다"
   ]
  },
  {
   "cell_type": "code",
   "execution_count": null,
   "id": "00e2027c-fbc6-4256-b145-254cf6741d82",
   "metadata": {},
   "outputs": [],
   "source": [
    "9. 다음 코드를 실행한 결과로 출력되는 값은?\n",
    "arr = [1, 2, 3, 1, 2, 3, 9, 6, 5]\n",
    "brr = [4, 3, 5, 2, 3, 1, 9]\n",
    "dat = [0 for _ in range(10)]\n",
    "\n",
    "for i in range(len(arr)):\n",
    "dat[arr[i]] = 1\n",
    "\n",
    "for i in range(len(brr)):\n",
    "dat[brr[i]] = 1\n",
    "\n",
    "cnt = 0\n",
    "\n",
    "for i in range(10):\n",
    "cnt += dat[i]\n",
    "\n",
    "print(cnt)\n",
    "\n",
    "1 . 3\n",
    "2 . 7 v\n",
    "3 . 5\n",
    "4 . 1\n",
    "정답\n",
    "2\n",
    "해설\n",
    "dat[원소 값] = 해당 원소가 있는가의 형태로 \n",
    "사용하는 DAT배열로 arr과 brr에 어떤 원소들이 있는지 기록하여 \n",
    "그 종류의 가짓수를 출력한다."
   ]
  },
  {
   "cell_type": "code",
   "execution_count": null,
   "id": "0acf7641-4627-46ae-b69b-d74c62266be8",
   "metadata": {},
   "outputs": [],
   "source": [
    "10.\n",
    "아래 코드는 matrix에서 현재 값 기준으로 네가지 방향을 ____ 순으로 출력한다.\n",
    "밑줄에 알맞은 방향은 무엇인가\n",
    "\n",
    "matrix = [[i for i in range(j*10, (j+1)*10)] for j in range(10)]\n",
    "\n",
    "dr = [1, -1, 0, 0]\n",
    "dc = [0, 0, -1, 1]\n",
    "\n",
    "r, c = 5, 5\n",
    "\n",
    "print(f'현재: {matrix[r][c]}')\n",
    "\n",
    "for idx in range(4):\n",
    "nr = r + dr[idx]\n",
    "nc = c + dc[idx]\n",
    "\n",
    "print(matrix[nr][nc])\n",
    "\n",
    "1 . 상우하좌\n",
    "2 . 상좌하우\n",
    "3 . 하상좌우 v\n",
    "4 . 상하좌우\n",
    "정답\n",
    "3\n",
    "해설\n",
    "dr 이 열번호(상하), dx가 행번호(좌우)를 의미하는 \n",
    "델타값이기 때문에 하상좌우 순서가 된다."
   ]
  }
 ],
 "metadata": {
  "kernelspec": {
   "display_name": "Python 3 (ipykernel)",
   "language": "python",
   "name": "python3"
  },
  "language_info": {
   "codemirror_mode": {
    "name": "ipython",
    "version": 3
   },
   "file_extension": ".py",
   "mimetype": "text/x-python",
   "name": "python",
   "nbconvert_exporter": "python",
   "pygments_lexer": "ipython3",
   "version": "3.12.3"
  }
 },
 "nbformat": 4,
 "nbformat_minor": 5
}
